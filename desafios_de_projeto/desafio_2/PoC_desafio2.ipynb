{
 "cells": [
  {
   "cell_type": "code",
   "execution_count": 19,
   "id": "49f3a88b-c951-44bf-b840-9722aa9c2116",
   "metadata": {},
   "outputs": [
    {
     "name": "stdout",
     "output_type": "stream",
     "text": [
      "--------Analyzing invoice #1--------\n",
      "Vendor Name: CONTOSO LTD. has confidence: 0.937\n",
      "Vendor Address: 123 456th St\n",
      "New York, NY, 10001 has confidence: 0.887\n",
      "Vendor Address Recipient: Contoso Headquarters has confidence: 0.938\n",
      "Customer Name: MICROSOFT CORPORATION has confidence: 0.918\n",
      "Customer Id: CID-12345 has confidence: 0.967\n",
      "Customer Address: 123 Other St,\n",
      "Redmond WA, 98052 has confidence: 0.888\n",
      "Customer Address Recipient: Microsoft Corp has confidence: 0.933\n",
      "Invoice Id: INV-100 has confidence: 0.971\n",
      "Invoice Date: 11/15/2019 has confidence: 0.971\n",
      "Invoice Total: $110.00 has confidence: 0.969\n",
      "Due Date: 12/15/2019 has confidence: 0.971\n",
      "Purchase Order: PO-3333 has confidence: 0.966\n",
      "Billing Address: 123 Bill St,\n",
      "Redmond WA, 98052 has confidence: 0.889\n",
      "Billing Address Recipient: Microsoft Finance has confidence: 0.938\n",
      "Shipping Address: 123 Ship St,\n",
      "Redmond WA, 98052 has confidence: 0.888\n",
      "Shipping Address Recipient: Microsoft Delivery has confidence: 0.937\n",
      "Invoice items:\n",
      "...Item #1\n",
      "......Description: Test for 23 fields has confidence: 0.909\n",
      "......Quantity: 1 has confidence: 0.903\n",
      "......Unit: 1 has confidence: 0.334\n",
      "......Amount: $100.00 has confidence: 0.911\n",
      "Subtotal: $100.00 has confidence: 0.97\n",
      "Total Tax: $10.00 has confidence: 0.97\n",
      "Previous Unpaid Balance: $500.00 has confidence: 0.95\n",
      "Amount Due: $610.00 has confidence: 0.95\n",
      "Service Address: 123 Service St,\n",
      "Redmond WA, 98052 has confidence: 0.888\n",
      "Service Address Recipient: Microsoft Services has confidence: 0.936\n",
      "Remittance Address: 123 Remit St\n",
      "New York, NY, 10001 has confidence: 0.886\n",
      "Remittance Address Recipient: Contoso Billing has confidence: 0.938\n"
     ]
    }
   ],
   "source": [
    "# import libraries\n",
    "import os\n",
    "from azure.core.credentials import AzureKeyCredential\n",
    "from azure.ai.documentintelligence import DocumentIntelligenceClient\n",
    "from azure.ai.documentintelligence.models import AnalyzeResult\n",
    "from azure.ai.documentintelligence.models import AnalyzeDocumentRequest\n",
    "\n",
    "\n",
    "\n",
    "# set `<your-endpoint>` and `<your-key>` variables with the values from the Azure portal\n",
    "endpoint = os.getenv(\"AZURE_DOC_INT_ENDPOINT\")\n",
    "key = os.getenv(\"AZURE_DOC_INT_KEY\")\n",
    "\n",
    "def analyze_invoice():\n",
    "    # sample document\n",
    "\n",
    "    invoiceUrl = \"https://raw.githubusercontent.com/Azure-Samples/cognitive-services-REST-api-samples/master/curl/form-recognizer/sample-invoice.pdf\"\n",
    "\n",
    "    document_intelligence_client = DocumentIntelligenceClient(\n",
    "        endpoint=endpoint, credential=AzureKeyCredential(key)\n",
    "    )\n",
    "\n",
    "    poller = document_intelligence_client.begin_analyze_document(\n",
    "        \"prebuilt-invoice\", AnalyzeDocumentRequest(url_source=invoiceUrl)\n",
    "    )\n",
    "    invoices = poller.result()\n",
    "\n",
    "    if invoices.documents:\n",
    "        for idx, invoice in enumerate(invoices.documents):\n",
    "            print(f\"--------Analyzing invoice #{idx + 1}--------\")\n",
    "            vendor_name = invoice.fields.get(\"VendorName\")\n",
    "            if vendor_name:\n",
    "                print(\n",
    "                    f\"Vendor Name: {vendor_name.get('content')} has confidence: {vendor_name.get('confidence')}\"\n",
    "                )\n",
    "            vendor_address = invoice.fields.get(\"VendorAddress\")\n",
    "            if vendor_address:\n",
    "                print(\n",
    "                    f\"Vendor Address: {vendor_address.get('content')} has confidence: {vendor_address.get('confidence')}\"\n",
    "                )\n",
    "            vendor_address_recipient = invoice.fields.get(\"VendorAddressRecipient\")\n",
    "            if vendor_address_recipient:\n",
    "                print(\n",
    "                    f\"Vendor Address Recipient: {vendor_address_recipient.get('content')} has confidence: {vendor_address_recipient.get('confidence')}\"\n",
    "                )\n",
    "            customer_name = invoice.fields.get(\"CustomerName\")\n",
    "            if customer_name:\n",
    "                print(\n",
    "                    f\"Customer Name: {customer_name.get('content')} has confidence: {customer_name.get('confidence')}\"\n",
    "                )\n",
    "            customer_id = invoice.fields.get(\"CustomerId\")\n",
    "            if customer_id:\n",
    "                print(\n",
    "                    f\"Customer Id: {customer_id.get('content')} has confidence: {customer_id.get('confidence')}\"\n",
    "                )\n",
    "            customer_address = invoice.fields.get(\"CustomerAddress\")\n",
    "            if customer_address:\n",
    "                print(\n",
    "                    f\"Customer Address: {customer_address.get('content')} has confidence: {customer_address.get('confidence')}\"\n",
    "                )\n",
    "            customer_address_recipient = invoice.fields.get(\"CustomerAddressRecipient\")\n",
    "            if customer_address_recipient:\n",
    "                print(\n",
    "                    f\"Customer Address Recipient: {customer_address_recipient.get('content')} has confidence: {customer_address_recipient.get('confidence')}\"\n",
    "                )\n",
    "            invoice_id = invoice.fields.get(\"InvoiceId\")\n",
    "            if invoice_id:\n",
    "                print(\n",
    "                    f\"Invoice Id: {invoice_id.get('content')} has confidence: {invoice_id.get('confidence')}\"\n",
    "                )\n",
    "            invoice_date = invoice.fields.get(\"InvoiceDate\")\n",
    "            if invoice_date:\n",
    "                print(\n",
    "                    f\"Invoice Date: {invoice_date.get('content')} has confidence: {invoice_date.get('confidence')}\"\n",
    "                )\n",
    "            invoice_total = invoice.fields.get(\"InvoiceTotal\")\n",
    "            if invoice_total:\n",
    "                print(\n",
    "                    f\"Invoice Total: {invoice_total.get('content')} has confidence: {invoice_total.get('confidence')}\"\n",
    "                )\n",
    "            due_date = invoice.fields.get(\"DueDate\")\n",
    "            if due_date:\n",
    "                print(\n",
    "                    f\"Due Date: {due_date.get('content')} has confidence: {due_date.get('confidence')}\"\n",
    "                )\n",
    "            purchase_order = invoice.fields.get(\"PurchaseOrder\")\n",
    "            if purchase_order:\n",
    "                print(\n",
    "                    f\"Purchase Order: {purchase_order.get('content')} has confidence: {purchase_order.get('confidence')}\"\n",
    "                )\n",
    "            billing_address = invoice.fields.get(\"BillingAddress\")\n",
    "            if billing_address:\n",
    "                print(\n",
    "                    f\"Billing Address: {billing_address.get('content')} has confidence: {billing_address.get('confidence')}\"\n",
    "                )\n",
    "            billing_address_recipient = invoice.fields.get(\"BillingAddressRecipient\")\n",
    "            if billing_address_recipient:\n",
    "                print(\n",
    "                    f\"Billing Address Recipient: {billing_address_recipient.get('content')} has confidence: {billing_address_recipient.get('confidence')}\"\n",
    "                )\n",
    "            shipping_address = invoice.fields.get(\"ShippingAddress\")\n",
    "            if shipping_address:\n",
    "                print(\n",
    "                    f\"Shipping Address: {shipping_address.get('content')} has confidence: {shipping_address.get('confidence')}\"\n",
    "                )\n",
    "            shipping_address_recipient = invoice.fields.get(\"ShippingAddressRecipient\")\n",
    "            if shipping_address_recipient:\n",
    "                print(\n",
    "                    f\"Shipping Address Recipient: {shipping_address_recipient.get('content')} has confidence: {shipping_address_recipient.get('confidence')}\"\n",
    "                )\n",
    "            print(\"Invoice items:\")\n",
    "            for idx, item in enumerate(invoice.fields.get(\"Items\").get(\"valueArray\")):\n",
    "                print(f\"...Item #{idx + 1}\")\n",
    "                item_description = item.get(\"valueObject\").get(\"Description\")\n",
    "                if item_description:\n",
    "                    print(\n",
    "                        f\"......Description: {item_description.get('content')} has confidence: {item_description.get('confidence')}\"\n",
    "                    )\n",
    "                item_quantity = item.get(\"valueObject\").get(\"Quantity\")\n",
    "                if item_quantity:\n",
    "                    print(\n",
    "                        f\"......Quantity: {item_quantity.get('content')} has confidence: {item_quantity.get('confidence')}\"\n",
    "                    )\n",
    "                unit = item.get(\"valueObject\").get(\"Unit\")\n",
    "                if unit:\n",
    "                    print(\n",
    "                        f\"......Unit: {unit.get('content')} has confidence: {unit.get('confidence')}\"\n",
    "                    )\n",
    "                unit_price = item.get(\"valueObject\").get(\"UnitPrice\")\n",
    "                if unit_price:\n",
    "                    unit_price_code = (\n",
    "                        unit_price.get(\"valueCurrency\").get(\"currencyCode\")\n",
    "                        if unit_price.get(\"valueCurrency\").get(\"currencyCode\")\n",
    "                        else \"\"\n",
    "                    )\n",
    "                    print(\n",
    "                        f\"......Unit Price: {unit_price.get('content')}{unit_price_code} has confidence: {unit_price.get('confidence')}\"\n",
    "                    )\n",
    "                product_code = item.get(\"valueObject\").get(\"ProductCode\")\n",
    "                if product_code:\n",
    "                    print(\n",
    "                        f\"......Product Code: {product_code.get('content')} has confidence: {product_code.get('confidence')}\"\n",
    "                    )\n",
    "                item_date = item.get(\"valueObject\").get(\"Date\")\n",
    "                if item_date:\n",
    "                    print(\n",
    "                        f\"......Date: {item_date.get('content')} has confidence: {item_date.get('confidence')}\"\n",
    "                    )\n",
    "                tax = item.get(\"valueObject\").get(\"Tax\")\n",
    "                if tax:\n",
    "                    print(\n",
    "                        f\"......Tax: {tax.get('content')} has confidence: {tax.get('confidence')}\"\n",
    "                    )\n",
    "                amount = item.get(\"valueObject\").get(\"Amount\")\n",
    "                if amount:\n",
    "                    print(\n",
    "                        f\"......Amount: {amount.get('content')} has confidence: {amount.get('confidence')}\"\n",
    "                    )\n",
    "            subtotal = invoice.fields.get(\"SubTotal\")\n",
    "            if subtotal:\n",
    "                print(\n",
    "                    f\"Subtotal: {subtotal.get('content')} has confidence: {subtotal.get('confidence')}\"\n",
    "                )\n",
    "            total_tax = invoice.fields.get(\"TotalTax\")\n",
    "            if total_tax:\n",
    "                print(\n",
    "                    f\"Total Tax: {total_tax.get('content')} has confidence: {total_tax.get('confidence')}\"\n",
    "                )\n",
    "            previous_unpaid_balance = invoice.fields.get(\"PreviousUnpaidBalance\")\n",
    "            if previous_unpaid_balance:\n",
    "                print(\n",
    "                    f\"Previous Unpaid Balance: {previous_unpaid_balance.get('content')} has confidence: {previous_unpaid_balance.get('confidence')}\"\n",
    "                )\n",
    "            amount_due = invoice.fields.get(\"AmountDue\")\n",
    "            if amount_due:\n",
    "                print(\n",
    "                    f\"Amount Due: {amount_due.get('content')} has confidence: {amount_due.get('confidence')}\"\n",
    "                )\n",
    "            service_start_date = invoice.fields.get(\"ServiceStartDate\")\n",
    "            if service_start_date:\n",
    "                print(\n",
    "                    f\"Service Start Date: {service_start_date.get('content')} has confidence: {service_start_date.get('confidence')}\"\n",
    "                )\n",
    "            service_end_date = invoice.fields.get(\"ServiceEndDate\")\n",
    "            if service_end_date:\n",
    "                print(\n",
    "                    f\"Service End Date: {service_end_date.get('content')} has confidence: {service_end_date.get('confidence')}\"\n",
    "                )\n",
    "            service_address = invoice.fields.get(\"ServiceAddress\")\n",
    "            if service_address:\n",
    "                print(\n",
    "                    f\"Service Address: {service_address.get('content')} has confidence: {service_address.get('confidence')}\"\n",
    "                )\n",
    "            service_address_recipient = invoice.fields.get(\"ServiceAddressRecipient\")\n",
    "            if service_address_recipient:\n",
    "                print(\n",
    "                    f\"Service Address Recipient: {service_address_recipient.get('content')} has confidence: {service_address_recipient.get('confidence')}\"\n",
    "                )\n",
    "            remittance_address = invoice.fields.get(\"RemittanceAddress\")\n",
    "            if remittance_address:\n",
    "                print(\n",
    "                    f\"Remittance Address: {remittance_address.get('content')} has confidence: {remittance_address.get('confidence')}\"\n",
    "                )\n",
    "            remittance_address_recipient = invoice.fields.get(\n",
    "                \"RemittanceAddressRecipient\"\n",
    "            )\n",
    "            if remittance_address_recipient:\n",
    "                print(\n",
    "                    f\"Remittance Address Recipient: {remittance_address_recipient.get('content')} has confidence: {remittance_address_recipient.get('confidence')}\"\n",
    "                )\n",
    "\n",
    "\n",
    "          #print(\"----------------------------------------\");\n",
    "\n",
    "\n",
    "if __name__ == \"__main__\":\n",
    "    analyze_invoice()"
   ]
  },
  {
   "cell_type": "code",
   "execution_count": null,
   "id": "b87bc182-6804-4ae3-9aa0-89fb8afb3245",
   "metadata": {},
   "outputs": [],
   "source": []
  },
  {
   "cell_type": "code",
   "execution_count": 5,
   "id": "d370673d-4c00-43f7-99ce-f2eca018aed3",
   "metadata": {},
   "outputs": [
    {
     "ename": "ModuleNotFoundError",
     "evalue": "No module named 'azure.ai.formrecognizer'",
     "output_type": "error",
     "traceback": [
      "\u001b[0;31m---------------------------------------------------------------------------\u001b[0m",
      "\u001b[0;31mModuleNotFoundError\u001b[0m                       Traceback (most recent call last)",
      "Cell \u001b[0;32mIn[5], line 10\u001b[0m\n\u001b[1;32m      1\u001b[0m \u001b[38;5;124;03m\"\"\"\u001b[39;00m\n\u001b[1;32m      2\u001b[0m \u001b[38;5;124;03mThis code sample shows Prebuilt Receipt operations with the Azure Form Recognizer client library. \u001b[39;00m\n\u001b[1;32m      3\u001b[0m \u001b[38;5;124;03mThe async versions of the samples require Python 3.6 or later.\u001b[39;00m\n\u001b[0;32m   (...)\u001b[0m\n\u001b[1;32m      6\u001b[0m \u001b[38;5;124;03mhttps://learn.microsoft.com/azure/ai-services/document-intelligence/quickstarts/get-started-sdks-rest-api?pivots=programming-language-python\u001b[39;00m\n\u001b[1;32m      7\u001b[0m \u001b[38;5;124;03m\"\"\"\u001b[39;00m\n\u001b[1;32m      9\u001b[0m \u001b[38;5;28;01mfrom\u001b[39;00m \u001b[38;5;21;01mazure\u001b[39;00m\u001b[38;5;21;01m.\u001b[39;00m\u001b[38;5;21;01mcore\u001b[39;00m\u001b[38;5;21;01m.\u001b[39;00m\u001b[38;5;21;01mcredentials\u001b[39;00m \u001b[38;5;28;01mimport\u001b[39;00m AzureKeyCredential\n\u001b[0;32m---> 10\u001b[0m \u001b[38;5;28;01mfrom\u001b[39;00m \u001b[38;5;21;01mazure\u001b[39;00m\u001b[38;5;21;01m.\u001b[39;00m\u001b[38;5;21;01mai\u001b[39;00m\u001b[38;5;21;01m.\u001b[39;00m\u001b[38;5;21;01mformrecognizer\u001b[39;00m \u001b[38;5;28;01mimport\u001b[39;00m DocumentAnalysisClient\n\u001b[1;32m     12\u001b[0m \u001b[38;5;124;03m\"\"\"\u001b[39;00m\n\u001b[1;32m     13\u001b[0m \u001b[38;5;124;03mRemember to remove the key from your code when you're done, and never post it publicly. For production, use\u001b[39;00m\n\u001b[1;32m     14\u001b[0m \u001b[38;5;124;03msecure methods to store and access your credentials. For more information, see \u001b[39;00m\n\u001b[1;32m     15\u001b[0m \u001b[38;5;124;03mhttps://docs.microsoft.com/en-us/azure/cognitive-services/cognitive-services-security?tabs=command-line%2Ccsharp#environment-variables-and-application-configuration\u001b[39;00m\n\u001b[1;32m     16\u001b[0m \u001b[38;5;124;03m\"\"\"\u001b[39;00m\n\u001b[1;32m     17\u001b[0m endpoint \u001b[38;5;241m=\u001b[39m \u001b[38;5;124m\"\u001b[39m\u001b[38;5;124mhttps://doc-inteligence-east.cognitiveservices.azure.com/\u001b[39m\u001b[38;5;124m\"\u001b[39m\n",
      "\u001b[0;31mModuleNotFoundError\u001b[0m: No module named 'azure.ai.formrecognizer'"
     ]
    }
   ],
   "source": [
    "\"\"\"\n",
    "This code sample shows Prebuilt Receipt operations with the Azure Form Recognizer client library. \n",
    "The async versions of the samples require Python 3.6 or later.\n",
    "\n",
    "To learn more, please visit the documentation - Quickstart: Document Intelligence (formerly Form Recognizer) SDKs\n",
    "https://learn.microsoft.com/azure/ai-services/document-intelligence/quickstarts/get-started-sdks-rest-api?pivots=programming-language-python\n",
    "\"\"\"\n",
    "\n",
    "from azure.core.credentials import AzureKeyCredential\n",
    "from azure.ai.formrecognizer import DocumentAnalysisClient\n",
    "\n",
    "\"\"\"\n",
    "Remember to remove the key from your code when you're done, and never post it publicly. For production, use\n",
    "secure methods to store and access your credentials. For more information, see \n",
    "https://docs.microsoft.com/en-us/azure/cognitive-services/cognitive-services-security?tabs=command-line%2Ccsharp#environment-variables-and-application-configuration\n",
    "\"\"\"\n",
    "endpoint = \"https://doc-inteligence-east.cognitiveservices.azure.com/\"\n",
    "key = \"\"\n",
    "\n",
    "# sample document\n",
    "url = \"https://raw.githubusercontent.com/Azure/azure-sdk-for-python/main/sdk/formrecognizer/azure-ai-formrecognizer/tests/sample_forms/receipt/contoso-receipt.png\"\n",
    "\n",
    "document_analysis_client = DocumentAnalysisClient(\n",
    "    endpoint=endpoint, credential=AzureKeyCredential(key)\n",
    ")\n",
    "\n",
    "poller = document_analysis_client.begin_analyze_document_from_url(\"prebuilt-receipt\", url)\n",
    "receipts = poller.result()\n",
    "\n",
    "for idx, receipt in enumerate(receipts.documents):\n",
    "    print(\"--------Recognizing receipt #{}--------\".format(idx + 1))\n",
    "    receipt_type = receipt.doc_type\n",
    "    if receipt_type:\n",
    "        print(\n",
    "            \"Receipt Type: {}\".format(receipt_type)\n",
    "        )\n",
    "    merchant_name = receipt.fields.get(\"MerchantName\")\n",
    "    if merchant_name:\n",
    "        print(\n",
    "            \"Merchant Name: {} has confidence: {}\".format(\n",
    "                merchant_name.value, merchant_name.confidence\n",
    "            )\n",
    "        )\n",
    "    transaction_date = receipt.fields.get(\"TransactionDate\")\n",
    "    if transaction_date:\n",
    "        print(\n",
    "            \"Transaction Date: {} has confidence: {}\".format(\n",
    "                transaction_date.value, transaction_date.confidence\n",
    "            )\n",
    "        )\n",
    "    if receipt.fields.get(\"Items\"):\n",
    "        print(\"Receipt items:\")\n",
    "        for idx, item in enumerate(receipt.fields.get(\"Items\").value):\n",
    "            print(\"...Item #{}\".format(idx + 1))\n",
    "            item_description = item.value.get(\"Description\")\n",
    "            if item_description:\n",
    "                print(\n",
    "                    \"......Item Description: {} has confidence: {}\".format(\n",
    "                        item_description.value, item_description.confidence\n",
    "                    )\n",
    "                )\n",
    "            item_quantity = item.value.get(\"Quantity\")\n",
    "            if item_quantity:\n",
    "                print(\n",
    "                    \"......Item Quantity: {} has confidence: {}\".format(\n",
    "                        item_quantity.value, item_quantity.confidence\n",
    "                    )\n",
    "                )\n",
    "            item_price = item.value.get(\"Price\")\n",
    "            if item_price:\n",
    "                print(\n",
    "                    \"......Individual Item Price: {} has confidence: {}\".format(\n",
    "                        item_price.value, item_price.confidence\n",
    "                    )\n",
    "                )\n",
    "            item_total_price = item.value.get(\"TotalPrice\")\n",
    "            if item_total_price:\n",
    "                print(\n",
    "                    \"......Total Item Price: {} has confidence: {}\".format(\n",
    "                        item_total_price.value, item_total_price.confidence\n",
    "                    )\n",
    "                )\n",
    "    subtotal = receipt.fields.get(\"Subtotal\")\n",
    "    if subtotal:\n",
    "        print(\n",
    "            \"Subtotal: {} has confidence: {}\".format(\n",
    "                subtotal.value, subtotal.confidence\n",
    "            )\n",
    "        )\n",
    "    tax = receipt.fields.get(\"TotalTax\")\n",
    "    if tax:\n",
    "        print(\"Tax: {} has confidence: {}\".format(tax.value, tax.confidence))\n",
    "    tip = receipt.fields.get(\"Tip\")\n",
    "    if tip:\n",
    "        print(\"Tip: {} has confidence: {}\".format(tip.value, tip.confidence))\n",
    "    total = receipt.fields.get(\"Total\")\n",
    "    if total:\n",
    "        print(\"Total: {} has confidence: {}\".format(total.value, total.confidence))\n",
    "    print(\"--------------------------------------\")\n"
   ]
  },
  {
   "cell_type": "code",
   "execution_count": 2,
   "id": "0a501c4e-79a0-4d7a-bf61-5fc7c637f7d2",
   "metadata": {},
   "outputs": [
    {
     "name": "stdout",
     "output_type": "stream",
     "text": [
      "Collecting azure.core\n",
      "  Downloading azure_core-1.32.0-py3-none-any.whl.metadata (39 kB)\n",
      "Requirement already satisfied: requests>=2.21.0 in /home/jcnok/bootcamps/Bootcamp-Microsoft-Certification-Challenge--1-AI_102/.venv/lib/python3.12/site-packages (from azure.core) (2.32.3)\n",
      "Requirement already satisfied: six>=1.11.0 in /home/jcnok/bootcamps/Bootcamp-Microsoft-Certification-Challenge--1-AI_102/.venv/lib/python3.12/site-packages (from azure.core) (1.16.0)\n",
      "Requirement already satisfied: typing-extensions>=4.6.0 in /home/jcnok/bootcamps/Bootcamp-Microsoft-Certification-Challenge--1-AI_102/.venv/lib/python3.12/site-packages (from azure.core) (4.12.2)\n",
      "Requirement already satisfied: charset-normalizer<4,>=2 in /home/jcnok/bootcamps/Bootcamp-Microsoft-Certification-Challenge--1-AI_102/.venv/lib/python3.12/site-packages (from requests>=2.21.0->azure.core) (3.4.0)\n",
      "Requirement already satisfied: idna<4,>=2.5 in /home/jcnok/bootcamps/Bootcamp-Microsoft-Certification-Challenge--1-AI_102/.venv/lib/python3.12/site-packages (from requests>=2.21.0->azure.core) (3.10)\n",
      "Requirement already satisfied: urllib3<3,>=1.21.1 in /home/jcnok/bootcamps/Bootcamp-Microsoft-Certification-Challenge--1-AI_102/.venv/lib/python3.12/site-packages (from requests>=2.21.0->azure.core) (2.2.3)\n",
      "Requirement already satisfied: certifi>=2017.4.17 in /home/jcnok/bootcamps/Bootcamp-Microsoft-Certification-Challenge--1-AI_102/.venv/lib/python3.12/site-packages (from requests>=2.21.0->azure.core) (2024.8.30)\n",
      "Downloading azure_core-1.32.0-py3-none-any.whl (198 kB)\n",
      "Installing collected packages: azure.core\n",
      "Successfully installed azure.core-1.32.0\n",
      "\n",
      "\u001b[1m[\u001b[0m\u001b[34;49mnotice\u001b[0m\u001b[1;39;49m]\u001b[0m\u001b[39;49m A new release of pip is available: \u001b[0m\u001b[31;49m24.2\u001b[0m\u001b[39;49m -> \u001b[0m\u001b[32;49m24.3.1\u001b[0m\n",
      "\u001b[1m[\u001b[0m\u001b[34;49mnotice\u001b[0m\u001b[1;39;49m]\u001b[0m\u001b[39;49m To update, run: \u001b[0m\u001b[32;49mpip install --upgrade pip\u001b[0m\n"
     ]
    }
   ],
   "source": [
    "!pip install azure.core"
   ]
  },
  {
   "cell_type": "code",
   "execution_count": 4,
   "id": "ee3c038e-f487-4c72-927a-32df79b14d2f",
   "metadata": {},
   "outputs": [
    {
     "name": "stdout",
     "output_type": "stream",
     "text": [
      "Collecting azure-ai-documentintelligence\n",
      "  Downloading azure_ai_documentintelligence-1.0.0b4-py3-none-any.whl.metadata (48 kB)\n",
      "Collecting isodate>=0.6.1 (from azure-ai-documentintelligence)\n",
      "  Downloading isodate-0.7.2-py3-none-any.whl.metadata (11 kB)\n",
      "Requirement already satisfied: azure-core>=1.30.0 in /home/jcnok/bootcamps/Bootcamp-Microsoft-Certification-Challenge--1-AI_102/.venv/lib/python3.12/site-packages (from azure-ai-documentintelligence) (1.32.0)\n",
      "Requirement already satisfied: typing-extensions>=4.6.0 in /home/jcnok/bootcamps/Bootcamp-Microsoft-Certification-Challenge--1-AI_102/.venv/lib/python3.12/site-packages (from azure-ai-documentintelligence) (4.12.2)\n",
      "Requirement already satisfied: requests>=2.21.0 in /home/jcnok/bootcamps/Bootcamp-Microsoft-Certification-Challenge--1-AI_102/.venv/lib/python3.12/site-packages (from azure-core>=1.30.0->azure-ai-documentintelligence) (2.32.3)\n",
      "Requirement already satisfied: six>=1.11.0 in /home/jcnok/bootcamps/Bootcamp-Microsoft-Certification-Challenge--1-AI_102/.venv/lib/python3.12/site-packages (from azure-core>=1.30.0->azure-ai-documentintelligence) (1.16.0)\n",
      "Requirement already satisfied: charset-normalizer<4,>=2 in /home/jcnok/bootcamps/Bootcamp-Microsoft-Certification-Challenge--1-AI_102/.venv/lib/python3.12/site-packages (from requests>=2.21.0->azure-core>=1.30.0->azure-ai-documentintelligence) (3.4.0)\n",
      "Requirement already satisfied: idna<4,>=2.5 in /home/jcnok/bootcamps/Bootcamp-Microsoft-Certification-Challenge--1-AI_102/.venv/lib/python3.12/site-packages (from requests>=2.21.0->azure-core>=1.30.0->azure-ai-documentintelligence) (3.10)\n",
      "Requirement already satisfied: urllib3<3,>=1.21.1 in /home/jcnok/bootcamps/Bootcamp-Microsoft-Certification-Challenge--1-AI_102/.venv/lib/python3.12/site-packages (from requests>=2.21.0->azure-core>=1.30.0->azure-ai-documentintelligence) (2.2.3)\n",
      "Requirement already satisfied: certifi>=2017.4.17 in /home/jcnok/bootcamps/Bootcamp-Microsoft-Certification-Challenge--1-AI_102/.venv/lib/python3.12/site-packages (from requests>=2.21.0->azure-core>=1.30.0->azure-ai-documentintelligence) (2024.8.30)\n",
      "Downloading azure_ai_documentintelligence-1.0.0b4-py3-none-any.whl (99 kB)\n",
      "Downloading isodate-0.7.2-py3-none-any.whl (22 kB)\n",
      "Installing collected packages: isodate, azure-ai-documentintelligence\n",
      "Successfully installed azure-ai-documentintelligence-1.0.0b4 isodate-0.7.2\n",
      "\n",
      "\u001b[1m[\u001b[0m\u001b[34;49mnotice\u001b[0m\u001b[1;39;49m]\u001b[0m\u001b[39;49m A new release of pip is available: \u001b[0m\u001b[31;49m24.2\u001b[0m\u001b[39;49m -> \u001b[0m\u001b[32;49m24.3.1\u001b[0m\n",
      "\u001b[1m[\u001b[0m\u001b[34;49mnotice\u001b[0m\u001b[1;39;49m]\u001b[0m\u001b[39;49m To update, run: \u001b[0m\u001b[32;49mpip install --upgrade pip\u001b[0m\n"
     ]
    }
   ],
   "source": [
    "!pip install azure-ai-documentintelligence"
   ]
  },
  {
   "cell_type": "markdown",
   "id": "c9d04e6f-d466-4af2-aba6-34a3328fcaca",
   "metadata": {},
   "source": [
    "# invoices: "
   ]
  },
  {
   "cell_type": "code",
   "execution_count": null,
   "id": "217636a7-a4d6-47d7-924a-7d3507916d5c",
   "metadata": {},
   "outputs": [],
   "source": [
    "\"\"\"\n",
    "This code sample shows Prebuilt Invoice operations with the Azure Form Recognizer client library. \n",
    "The async versions of the samples require Python 3.6 or later.\n",
    "\n",
    "To learn more, please visit the documentation - Quickstart: Document Intelligence (formerly Form Recognizer) SDKs\n",
    "https://learn.microsoft.com/azure/ai-services/document-intelligence/quickstarts/get-started-sdks-rest-api?pivots=programming-language-python\n",
    "\"\"\"\n",
    "\n",
    "from azure.core.credentials import AzureKeyCredential\n",
    "from azure.ai.formrecognizer import DocumentAnalysisClient\n",
    "\n",
    "\"\"\"\n",
    "Remember to remove the key from your code when you're done, and never post it publicly. For production, use\n",
    "secure methods to store and access your credentials. For more information, see \n",
    "https://docs.microsoft.com/en-us/azure/cognitive-services/cognitive-services-security?tabs=command-line%2Ccsharp#environment-variables-and-application-configuration\n",
    "\"\"\"\n",
    "endpoint = \"YOUR_FORM_RECOGNIZER_ENDPOINT\"\n",
    "key = \"YOUR_FORM_RECOGNIZER_KEY\"\n",
    "\n",
    "# sample document\n",
    "formUrl = \"https://raw.githubusercontent.com/Azure-Samples/cognitive-services-REST-api-samples/master/curl/form-recognizer/invoice_sample.jpg\"\n",
    "\n",
    "document_analysis_client = DocumentAnalysisClient(\n",
    "    endpoint=endpoint, credential=AzureKeyCredential(key)\n",
    ")\n",
    "    \n",
    "poller = document_analysis_client.begin_analyze_document_from_url(\"prebuilt-invoice\", formUrl)\n",
    "invoices = poller.result()\n",
    "\n",
    "for idx, invoice in enumerate(invoices.documents):\n",
    "    print(\"--------Recognizing invoice #{}--------\".format(idx + 1))\n",
    "    vendor_name = invoice.fields.get(\"VendorName\")\n",
    "    if vendor_name:\n",
    "        print(\n",
    "            \"Vendor Name: {} has confidence: {}\".format(\n",
    "                vendor_name.value, vendor_name.confidence\n",
    "            )\n",
    "        )\n",
    "    vendor_address = invoice.fields.get(\"VendorAddress\")\n",
    "    if vendor_address:\n",
    "        print(\n",
    "            \"Vendor Address: {} has confidence: {}\".format(\n",
    "                vendor_address.value, vendor_address.confidence\n",
    "            )\n",
    "        )\n",
    "    vendor_address_recipient = invoice.fields.get(\"VendorAddressRecipient\")\n",
    "    if vendor_address_recipient:\n",
    "        print(\n",
    "            \"Vendor Address Recipient: {} has confidence: {}\".format(\n",
    "                vendor_address_recipient.value, vendor_address_recipient.confidence\n",
    "            )\n",
    "        )\n",
    "    customer_name = invoice.fields.get(\"CustomerName\")\n",
    "    if customer_name:\n",
    "        print(\n",
    "            \"Customer Name: {} has confidence: {}\".format(\n",
    "                customer_name.value, customer_name.confidence\n",
    "            )\n",
    "        )\n",
    "    customer_id = invoice.fields.get(\"CustomerId\")\n",
    "    if customer_id:\n",
    "        print(\n",
    "            \"Customer Id: {} has confidence: {}\".format(\n",
    "                customer_id.value, customer_id.confidence\n",
    "            )\n",
    "        )\n",
    "    customer_address = invoice.fields.get(\"CustomerAddress\")\n",
    "    if customer_address:\n",
    "        print(\n",
    "            \"Customer Address: {} has confidence: {}\".format(\n",
    "                customer_address.value, customer_address.confidence\n",
    "            )\n",
    "        )\n",
    "    customer_address_recipient = invoice.fields.get(\"CustomerAddressRecipient\")\n",
    "    if customer_address_recipient:\n",
    "        print(\n",
    "            \"Customer Address Recipient: {} has confidence: {}\".format(\n",
    "                customer_address_recipient.value,\n",
    "                customer_address_recipient.confidence,\n",
    "            )\n",
    "        )\n",
    "    invoice_id = invoice.fields.get(\"InvoiceId\")\n",
    "    if invoice_id:\n",
    "        print(\n",
    "            \"Invoice Id: {} has confidence: {}\".format(\n",
    "                invoice_id.value, invoice_id.confidence\n",
    "            )\n",
    "        )\n",
    "    invoice_date = invoice.fields.get(\"InvoiceDate\")\n",
    "    if invoice_date:\n",
    "        print(\n",
    "            \"Invoice Date: {} has confidence: {}\".format(\n",
    "                invoice_date.value, invoice_date.confidence\n",
    "            )\n",
    "        )\n",
    "    invoice_total = invoice.fields.get(\"InvoiceTotal\")\n",
    "    if invoice_total:\n",
    "        print(\n",
    "            \"Invoice Total: {} has confidence: {}\".format(\n",
    "                invoice_total.value, invoice_total.confidence\n",
    "            )\n",
    "        )\n",
    "    due_date = invoice.fields.get(\"DueDate\")\n",
    "    if due_date:\n",
    "        print(\n",
    "            \"Due Date: {} has confidence: {}\".format(\n",
    "                due_date.value, due_date.confidence\n",
    "            )\n",
    "        )\n",
    "    purchase_order = invoice.fields.get(\"PurchaseOrder\")\n",
    "    if purchase_order:\n",
    "        print(\n",
    "            \"Purchase Order: {} has confidence: {}\".format(\n",
    "                purchase_order.value, purchase_order.confidence\n",
    "            )\n",
    "        )\n",
    "    billing_address = invoice.fields.get(\"BillingAddress\")\n",
    "    if billing_address:\n",
    "        print(\n",
    "            \"Billing Address: {} has confidence: {}\".format(\n",
    "                billing_address.value, billing_address.confidence\n",
    "            )\n",
    "        )\n",
    "    billing_address_recipient = invoice.fields.get(\"BillingAddressRecipient\")\n",
    "    if billing_address_recipient:\n",
    "        print(\n",
    "            \"Billing Address Recipient: {} has confidence: {}\".format(\n",
    "                billing_address_recipient.value,\n",
    "                billing_address_recipient.confidence,\n",
    "            )\n",
    "        )\n",
    "    shipping_address = invoice.fields.get(\"ShippingAddress\")\n",
    "    if shipping_address:\n",
    "        print(\n",
    "            \"Shipping Address: {} has confidence: {}\".format(\n",
    "                shipping_address.value, shipping_address.confidence\n",
    "            )\n",
    "        )\n",
    "    shipping_address_recipient = invoice.fields.get(\"ShippingAddressRecipient\")\n",
    "    if shipping_address_recipient:\n",
    "        print(\n",
    "            \"Shipping Address Recipient: {} has confidence: {}\".format(\n",
    "                shipping_address_recipient.value,\n",
    "                shipping_address_recipient.confidence,\n",
    "            )\n",
    "        )\n",
    "    print(\"Invoice items:\")\n",
    "    for idx, item in enumerate(invoice.fields.get(\"Items\").value):\n",
    "        print(\"...Item #{}\".format(idx + 1))\n",
    "        item_description = item.value.get(\"Description\")\n",
    "        if item_description:\n",
    "            print(\n",
    "                \"......Description: {} has confidence: {}\".format(\n",
    "                    item_description.value, item_description.confidence\n",
    "                )\n",
    "            )\n",
    "        item_quantity = item.value.get(\"Quantity\")\n",
    "        if item_quantity:\n",
    "            print(\n",
    "                \"......Quantity: {} has confidence: {}\".format(\n",
    "                    item_quantity.value, item_quantity.confidence\n",
    "                )\n",
    "            )\n",
    "        unit = item.value.get(\"Unit\")\n",
    "        if unit:\n",
    "            print(\n",
    "                \"......Unit: {} has confidence: {}\".format(\n",
    "                    unit.value, unit.confidence\n",
    "                )\n",
    "            )\n",
    "        unit_price = item.value.get(\"UnitPrice\")\n",
    "        if unit_price:\n",
    "            print(\n",
    "                \"......Unit Price: {} has confidence: {}\".format(\n",
    "                    unit_price.value, unit_price.confidence\n",
    "                )\n",
    "            )\n",
    "        product_code = item.value.get(\"ProductCode\")\n",
    "        if product_code:\n",
    "            print(\n",
    "                \"......Product Code: {} has confidence: {}\".format(\n",
    "                    product_code.value, product_code.confidence\n",
    "                )\n",
    "            )\n",
    "        item_date = item.value.get(\"Date\")\n",
    "        if item_date:\n",
    "            print(\n",
    "                \"......Date: {} has confidence: {}\".format(\n",
    "                    item_date.value, item_date.confidence\n",
    "                )\n",
    "            )\n",
    "        tax = item.value.get(\"Tax\")\n",
    "        if tax:\n",
    "            print(\n",
    "                \"......Tax: {} has confidence: {}\".format(tax.value, tax.confidence)\n",
    "            )\n",
    "        amount = item.value.get(\"Amount\")\n",
    "        if amount:\n",
    "            print(\n",
    "                \"......Amount: {} has confidence: {}\".format(\n",
    "                    amount.value, amount.confidence\n",
    "                )\n",
    "            )\n",
    "    subtotal = invoice.fields.get(\"SubTotal\")\n",
    "    if subtotal:\n",
    "        print(\n",
    "            \"Subtotal: {} has confidence: {}\".format(\n",
    "                subtotal.value, subtotal.confidence\n",
    "            )\n",
    "        )\n",
    "    total_tax = invoice.fields.get(\"TotalTax\")\n",
    "    if total_tax:\n",
    "        print(\n",
    "            \"Total Tax: {} has confidence: {}\".format(\n",
    "                total_tax.value, total_tax.confidence\n",
    "            )\n",
    "        )\n",
    "    previous_unpaid_balance = invoice.fields.get(\"PreviousUnpaidBalance\")\n",
    "    if previous_unpaid_balance:\n",
    "        print(\n",
    "            \"Previous Unpaid Balance: {} has confidence: {}\".format(\n",
    "                previous_unpaid_balance.value, previous_unpaid_balance.confidence\n",
    "            )\n",
    "        )\n",
    "    amount_due = invoice.fields.get(\"AmountDue\")\n",
    "    if amount_due:\n",
    "        print(\n",
    "            \"Amount Due: {} has confidence: {}\".format(\n",
    "                amount_due.value, amount_due.confidence\n",
    "            )\n",
    "        )\n",
    "    service_start_date = invoice.fields.get(\"ServiceStartDate\")\n",
    "    if service_start_date:\n",
    "        print(\n",
    "            \"Service Start Date: {} has confidence: {}\".format(\n",
    "                service_start_date.value, service_start_date.confidence\n",
    "            )\n",
    "        )\n",
    "    service_end_date = invoice.fields.get(\"ServiceEndDate\")\n",
    "    if service_end_date:\n",
    "        print(\n",
    "            \"Service End Date: {} has confidence: {}\".format(\n",
    "                service_end_date.value, service_end_date.confidence\n",
    "            )\n",
    "        )\n",
    "    service_address = invoice.fields.get(\"ServiceAddress\")\n",
    "    if service_address:\n",
    "        print(\n",
    "            \"Service Address: {} has confidence: {}\".format(\n",
    "                service_address.value, service_address.confidence\n",
    "            )\n",
    "        )\n",
    "    service_address_recipient = invoice.fields.get(\"ServiceAddressRecipient\")\n",
    "    if service_address_recipient:\n",
    "        print(\n",
    "            \"Service Address Recipient: {} has confidence: {}\".format(\n",
    "                service_address_recipient.value,\n",
    "                service_address_recipient.confidence,\n",
    "            )\n",
    "        )\n",
    "    remittance_address = invoice.fields.get(\"RemittanceAddress\")\n",
    "    if remittance_address:\n",
    "        print(\n",
    "            \"Remittance Address: {} has confidence: {}\".format(\n",
    "                remittance_address.value, remittance_address.confidence\n",
    "            )\n",
    "        )\n",
    "    remittance_address_recipient = invoice.fields.get(\"RemittanceAddressRecipient\")\n",
    "    if remittance_address_recipient:\n",
    "        print(\n",
    "            \"Remittance Address Recipient: {} has confidence: {}\".format(\n",
    "                remittance_address_recipient.value,\n",
    "                remittance_address_recipient.confidence,\n",
    "            )\n",
    "        )\n",
    "    print(\"----------------------------------------\")\n"
   ]
  },
  {
   "cell_type": "code",
   "execution_count": null,
   "id": "f79c731e-2532-416a-88a6-5a1b93b6469c",
   "metadata": {},
   "outputs": [],
   "source": []
  },
  {
   "cell_type": "markdown",
   "id": "64ac1e34-6447-46bc-838d-75fd1175d57b",
   "metadata": {},
   "source": [
    "# Documento de Identidade:"
   ]
  },
  {
   "cell_type": "code",
   "execution_count": null,
   "id": "d90e4a50-223e-4079-bf1f-2810e5c2b4d3",
   "metadata": {},
   "outputs": [],
   "source": [
    "\"\"\"\n",
    "This code sample shows Prebuilt ID Document operations with the Azure Form Recognizer client library. \n",
    "The async versions of the samples require Python 3.6 or later.\n",
    "\n",
    "To learn more, please visit the documentation - Quickstart: Document Intelligence (formerly Form Recognizer) SDKs\n",
    "https://learn.microsoft.com/azure/ai-services/document-intelligence/quickstarts/get-started-sdks-rest-api?pivots=programming-language-python\n",
    "\"\"\"\n",
    "\n",
    "from azure.core.credentials import AzureKeyCredential\n",
    "from azure.ai.formrecognizer import DocumentAnalysisClient\n",
    "\n",
    "\"\"\"\n",
    "Remember to remove the key from your code when you're done, and never post it publicly. For production, use\n",
    "secure methods to store and access your credentials. For more information, see \n",
    "https://docs.microsoft.com/en-us/azure/cognitive-services/cognitive-services-security?tabs=command-line%2Ccsharp#environment-variables-and-application-configuration\n",
    "\"\"\"\n",
    "endpoint = \"YOUR_FORM_RECOGNIZER_ENDPOINT\"\n",
    "key = \"YOUR_FORM_RECOGNIZER_KEY\"\n",
    "\n",
    "# sample document\n",
    "formUrl = \"https://raw.githubusercontent.com/Azure-Samples/cognitive-services-REST-api-samples/master/curl/form-recognizer/DriverLicense.png\"\n",
    "\n",
    "document_analysis_client = DocumentAnalysisClient(\n",
    "        endpoint=endpoint, credential=AzureKeyCredential(key)\n",
    "    )\n",
    "    \n",
    "poller = document_analysis_client.begin_analyze_document_from_url(\"prebuilt-idDocument\", formUrl)\n",
    "id_documents = poller.result()\n",
    "\n",
    "for idx, id_document in enumerate(id_documents.documents):\n",
    "    print(\"--------Recognizing ID document #{}--------\".format(idx + 1))\n",
    "    first_name = id_document.fields.get(\"FirstName\")\n",
    "    if first_name:\n",
    "        print(\n",
    "            \"First Name: {} has confidence: {}\".format(\n",
    "                first_name.value, first_name.confidence\n",
    "            )\n",
    "        )\n",
    "    last_name = id_document.fields.get(\"LastName\")\n",
    "    if last_name:\n",
    "        print(\n",
    "            \"Last Name: {} has confidence: {}\".format(\n",
    "                last_name.value, last_name.confidence\n",
    "            )\n",
    "        )\n",
    "    document_number = id_document.fields.get(\"DocumentNumber\")\n",
    "    if document_number:\n",
    "        print(\n",
    "            \"Document Number: {} has confidence: {}\".format(\n",
    "                document_number.value, document_number.confidence\n",
    "            )\n",
    "        )\n",
    "    dob = id_document.fields.get(\"DateOfBirth\")\n",
    "    if dob:\n",
    "        print(\n",
    "            \"Date of Birth: {} has confidence: {}\".format(dob.value, dob.confidence)\n",
    "        )\n",
    "    doe = id_document.fields.get(\"DateOfExpiration\")\n",
    "    if doe:\n",
    "        print(\n",
    "            \"Date of Expiration: {} has confidence: {}\".format(\n",
    "                doe.value, doe.confidence\n",
    "            )\n",
    "        )\n",
    "    sex = id_document.fields.get(\"Sex\")\n",
    "    if sex:\n",
    "        print(\"Sex: {} has confidence: {}\".format(sex.value, sex.confidence))\n",
    "    address = id_document.fields.get(\"Address\")\n",
    "    if address:\n",
    "        print(\n",
    "            \"Address: {} has confidence: {}\".format(\n",
    "                address.value, address.confidence\n",
    "            )\n",
    "        )\n",
    "    country_region = id_document.fields.get(\"CountryRegion\")\n",
    "    if country_region:\n",
    "        print(\n",
    "            \"Country/Region: {} has confidence: {}\".format(\n",
    "                country_region.value, country_region.confidence\n",
    "            )\n",
    "        )\n",
    "    region = id_document.fields.get(\"Region\")\n",
    "    if region:\n",
    "        print(\n",
    "            \"Region: {} has confidence: {}\".format(region.value, region.confidence)\n",
    "        )\n"
   ]
  },
  {
   "cell_type": "code",
   "execution_count": 18,
   "id": "119ecd2f-7c55-4d1e-a5a3-e0dbf400c54f",
   "metadata": {},
   "outputs": [],
   "source": [
    "import os\n",
    "from dotenv import load_dotenv\n",
    "load_dotenv()\n",
    "\n",
    "class Config:\n",
    "    ENDPOINT = os.getenv(\"AZURE_DOC_INT_ENDPOINT\")\n",
    "    KEY = os.getenv(\"AZURE_DOC_INT_KEY\")\n",
    "    AZURE_STORAGE_CONNECTION_STRING = os.getenv(\"AZURE_STORAGE_CONNECTION\")\n",
    "    CONTAINER_NAME = os.getenv(\"CONTAINER_NAME\")"
   ]
  },
  {
   "cell_type": "code",
   "execution_count": null,
   "id": "ecd62007-ba48-47d6-b10f-32298fb1f78c",
   "metadata": {},
   "outputs": [],
   "source": []
  },
  {
   "cell_type": "code",
   "execution_count": null,
   "id": "1aac1e27-6743-455b-a1a2-f08766c2e20e",
   "metadata": {},
   "outputs": [],
   "source": []
  },
  {
   "cell_type": "code",
   "execution_count": 4,
   "id": "b26d52a5-1531-4eda-8f30-48bfb8453f5d",
   "metadata": {},
   "outputs": [],
   "source": [
    "#pylint: disable=import-error,missing\n",
    "from azure.core.credentials import AzureKeyCredential\n",
    "from azure.ai.documentintelligence import DocumentIntelligenceClient\n",
    "from azure.ai.documentintelligence.models import AnalyzeDocumentRequest\n",
    "# from utils.Config import Config\n",
    "\n",
    "\n",
    "def detect_credit_card_info(card_url):\n",
    "    credential = AzureKeyCredential(Config.KEY)\n",
    "    document_client = DocumentIntelligenceClient(Config.ENDPOINT, credential)\n",
    "    card_info = document_client.begin_analyze_document(\n",
    "            \"prebuilt-creditCard\", AnalyzeDocumentRequest(url_source=card_url)\n",
    "    )\n",
    "    result = card_info.result()\n",
    "\n",
    "    for document in result.documents:\n",
    "        fields = document.get('fields', {})\n",
    "\n",
    "        return {\n",
    "            \"card_name\": fields.get('CardHolderName', {}).get('content'),\n",
    "            \"card_number\": fields.get('CardNumber', {}).get('content'),\n",
    "            \"expiry_date\": fields.get('ExpiryDate', {}).get('content'),\n",
    "            \"bank_name\": fields.get('BankName', {}).get('content'),\n",
    "        }"
   ]
  },
  {
   "cell_type": "code",
   "execution_count": 6,
   "id": "aeeeba0f-d6d0-4c23-b2f6-5a76709a7c32",
   "metadata": {},
   "outputs": [
    {
     "data": {
      "text/plain": [
       "{'card_name': 'CARDHOLDER NAME',\n",
       " 'card_number': '5847 2514 9852 5401',\n",
       " 'expiry_date': None,\n",
       " 'bank_name': None}"
      ]
     },
     "execution_count": 6,
     "metadata": {},
     "output_type": "execute_result"
    }
   ],
   "source": [
    "detect_credit_card_info(\"https://img.freepik.com/vetores-gratis/cartao-de-credito-com-efeito-de-vidro-realista_23-2149121586.jpg?t=st=1730745964~exp=1730749564~hmac=baede8e3da4216d71583b7c8052390b6c28d42d8095268f446e531efb0348e10&w=740\")"
   ]
  },
  {
   "cell_type": "code",
   "execution_count": 9,
   "id": "652e5910-61b2-41f4-8236-572a3ac62c17",
   "metadata": {},
   "outputs": [],
   "source": [
    "def detect_credit_card_info(card_url):\n",
    "    credential = AzureKeyCredential(Config.KEY)\n",
    "    document_client = DocumentIntelligenceClient(Config.ENDPOINT, credential)\n",
    "    card_info = document_client.begin_analyze_document(\n",
    "            \"prebuilt-creditCard\", AnalyzeDocumentRequest(url_source=card_url)\n",
    "    )\n",
    "    result = card_info.result()\n",
    "\n",
    "    for document in result.documents:\n",
    "        fields = document.get('fields', {})\n",
    "\n",
    "        return fields"
   ]
  },
  {
   "cell_type": "code",
   "execution_count": 10,
   "id": "a2e86437-9add-4671-b85b-b05b0f63d877",
   "metadata": {},
   "outputs": [
    {
     "data": {
      "text/plain": [
       "{'CardHolderName': {'type': 'string', 'content': 'ADAM SMITH', 'boundingRegions': [{'pageNumber': 1, 'polygon': [167, 445, 365, 446, 365, 481, 167, 480]}], 'confidence': 0.995, 'spans': [{'offset': 50, 'length': 10}]},\n",
       " 'CardNumber': {'type': 'string', 'content': '5412 1234 5656 8888', 'boundingRegions': [{'pageNumber': 1, 'polygon': [166, 313, 715, 313, 715, 357, 166, 357]}], 'confidence': 0.995, 'spans': [{'offset': 13, 'length': 19}]},\n",
       " 'CardVerificationValue': {'type': 'string', 'content': '123', 'boundingRegions': [{'pageNumber': 1, 'polygon': [544, 784, 586, 785, 586, 811, 544, 810]}], 'confidence': 0.995, 'spans': [{'offset': 134, 'length': 3}]},\n",
       " 'CustomerServicePhoneNumbers': {'type': 'array', 'valueArray': [{'type': 'string', 'valueString': '+1 200-345-6789', 'content': '+1 200-345-6789', 'boundingRegions': [{'pageNumber': 1, 'polygon': [324, 610, 447, 610, 447, 627, 324, 627]}], 'spans': [{'offset': 99, 'length': 15}]}, {'type': 'string', 'valueString': '+1 200-000-8888', 'content': '+1 200-000-8888', 'boundingRegions': [{'pageNumber': 1, 'polygon': [471, 610, 594, 610, 594, 627, 471, 627]}], 'spans': [{'offset': 118, 'length': 15}]}]},\n",
       " 'ExpirationDate': {'type': 'date', 'content': '01/28', 'boundingRegions': [{'pageNumber': 1, 'polygon': [227, 391, 319, 391, 319, 424, 226, 424]}], 'confidence': 0.995, 'spans': [{'offset': 39, 'length': 5}]},\n",
       " 'IssuingBank': {'type': 'string', 'content': 'Contoso Bank', 'boundingRegions': [{'pageNumber': 1, 'polygon': [170, 172, 475, 171, 475, 213, 170, 214]}], 'confidence': 0.995, 'spans': [{'offset': 0, 'length': 12}]},\n",
       " 'PaymentNetwork': {'type': 'string', 'content': 'mastercard', 'boundingRegions': [{'pageNumber': 1, 'polygon': [632, 464, 717, 463, 717, 477, 632, 477]}], 'confidence': 0.991, 'spans': [{'offset': 61, 'length': 10}]}}"
      ]
     },
     "execution_count": 10,
     "metadata": {},
     "output_type": "execute_result"
    }
   ],
   "source": [
    "detect_credit_card_info(\"https://documentintelligence.ai.azure.com/documents/samples/prebuilt/credit-card-horizontal.png\")"
   ]
  },
  {
   "cell_type": "code",
   "execution_count": 11,
   "id": "9fb4a972-8db6-424f-b9e8-24d62095d471",
   "metadata": {},
   "outputs": [],
   "source": [
    "import pandas as pd\n",
    "def detect_credit_card_info(card_url):\n",
    "    credential = AzureKeyCredential(Config.KEY)\n",
    "    document_client = DocumentIntelligenceClient(Config.ENDPOINT, credential)\n",
    "    card_info = document_client.begin_analyze_document(\n",
    "            \"prebuilt-creditCard\", AnalyzeDocumentRequest(url_source=card_url)\n",
    "    )\n",
    "    result = card_info.result()\n",
    "    return result\n",
    "\n",
    "    "
   ]
  },
  {
   "cell_type": "code",
   "execution_count": 12,
   "id": "20b4267b-1762-44c3-9007-90a01c8abecb",
   "metadata": {},
   "outputs": [
    {
     "data": {
      "text/plain": [
       "{'apiVersion': '2024-07-31-preview', 'modelId': 'prebuilt-creditCard', 'stringIndexType': 'textElements', 'content': 'Contoso Bank\\n5412 1234 5656 8888\\nVALID\\n01/28\\nTHRU\\nADAM SMITH\\nmastercard\\nFor customer servies, call +1 200-345-6789 or +1 200-000-8888\\n123\\nNOT VALID UNLESS SIGNED\\nLorem ipsum dolor sit amet, consectetuer adipiscing elit, sed diam nonummy nibh euismod tincidunt ut laoreet dolore magna aliquam erat volutpat.', 'pages': [{'pageNumber': 1, 'angle': 0.1234821006655693, 'width': 896, 'height': 1120, 'unit': 'pixel', 'words': [{'content': 'Contoso', 'polygon': [171, 172, 349, 171, 349, 213, 170, 213], 'confidence': 0.994, 'span': {'offset': 0, 'length': 7}}, {'content': 'Bank', 'polygon': [371, 171, 475, 171, 475, 212, 371, 213], 'confidence': 0.993, 'span': {'offset': 8, 'length': 4}}, {'content': '5412', 'polygon': [166, 314, 283, 313, 282, 357, 166, 356], 'confidence': 0.99, 'span': {'offset': 13, 'length': 4}}, {'content': '1234', 'polygon': [314, 313, 422, 313, 423, 357, 314, 357], 'confidence': 0.989, 'span': {'offset': 18, 'length': 4}}, {'content': '5656', 'polygon': [454, 313, 568, 313, 569, 357, 454, 357], 'confidence': 0.762, 'span': {'offset': 23, 'length': 4}}, {'content': '8888', 'polygon': [599, 313, 714, 314, 715, 356, 600, 357], 'confidence': 0.992, 'span': {'offset': 28, 'length': 4}}, {'content': 'VALID', 'polygon': [169, 393, 207, 393, 207, 408, 169, 407], 'confidence': 0.994, 'span': {'offset': 33, 'length': 5}}, {'content': '01/28', 'polygon': [227, 391, 319, 391, 319, 424, 226, 424], 'confidence': 0.995, 'span': {'offset': 39, 'length': 5}}, {'content': 'THRU', 'polygon': [171, 412, 208, 412, 208, 427, 171, 427], 'confidence': 0.983, 'span': {'offset': 45, 'length': 4}}, {'content': 'ADAM', 'polygon': [167, 446, 244, 447, 244, 479, 167, 480], 'confidence': 0.991, 'span': {'offset': 50, 'length': 4}}, {'content': 'SMITH', 'polygon': [270, 447, 364, 446, 365, 481, 271, 479], 'confidence': 0.993, 'span': {'offset': 55, 'length': 5}}, {'content': 'mastercard', 'polygon': [632, 464, 717, 463, 717, 477, 632, 477], 'confidence': 0.991, 'span': {'offset': 61, 'length': 10}}, {'content': 'For', 'polygon': [143, 611, 167, 611, 168, 627, 143, 626], 'confidence': 0.995, 'span': {'offset': 72, 'length': 3}}, {'content': 'customer', 'polygon': [170, 610, 236, 610, 237, 627, 171, 627], 'confidence': 0.993, 'span': {'offset': 76, 'length': 8}}, {'content': 'servies,', 'polygon': [239, 610, 292, 610, 292, 627, 240, 627], 'confidence': 0.982, 'span': {'offset': 85, 'length': 8}}, {'content': 'call', 'polygon': [295, 610, 320, 610, 321, 627, 296, 627], 'confidence': 0.992, 'span': {'offset': 94, 'length': 4}}, {'content': '+1', 'polygon': [324, 610, 345, 610, 345, 627, 324, 627], 'confidence': 0.944, 'span': {'offset': 99, 'length': 2}}, {'content': '200-345-6789', 'polygon': [348, 610, 447, 610, 447, 627, 348, 627], 'confidence': 0.951, 'span': {'offset': 102, 'length': 12}}, {'content': 'or', 'polygon': [451, 610, 467, 610, 468, 627, 451, 627], 'confidence': 0.995, 'span': {'offset': 115, 'length': 2}}, {'content': '+1', 'polygon': [471, 610, 492, 610, 492, 627, 471, 627], 'confidence': 0.886, 'span': {'offset': 118, 'length': 2}}, {'content': '200-000-8888', 'polygon': [495, 610, 594, 610, 594, 627, 495, 627], 'confidence': 0.993, 'span': {'offset': 121, 'length': 12}}, {'content': '123', 'polygon': [544, 784, 586, 785, 586, 811, 544, 810], 'confidence': 0.996, 'span': {'offset': 134, 'length': 3}}, {'content': 'NOT', 'polygon': [143, 848, 176, 848, 176, 865, 144, 865], 'confidence': 0.995, 'span': {'offset': 138, 'length': 3}}, {'content': 'VALID', 'polygon': [179, 848, 219, 848, 219, 865, 179, 865], 'confidence': 0.994, 'span': {'offset': 142, 'length': 5}}, {'content': 'UNLESS', 'polygon': [226, 848, 282, 848, 282, 865, 226, 865], 'confidence': 0.994, 'span': {'offset': 148, 'length': 6}}, {'content': 'SIGNED', 'polygon': [286, 848, 339, 848, 339, 865, 287, 865], 'confidence': 0.994, 'span': {'offset': 155, 'length': 6}}, {'content': 'Lorem', 'polygon': [143, 895, 182, 895, 182, 912, 143, 912], 'confidence': 0.995, 'span': {'offset': 162, 'length': 5}}, {'content': 'ipsum', 'polygon': [190, 895, 230, 895, 230, 913, 190, 912], 'confidence': 0.995, 'span': {'offset': 168, 'length': 5}}, {'content': 'dolor', 'polygon': [238, 895, 277, 894, 277, 913, 238, 913], 'confidence': 0.99, 'span': {'offset': 174, 'length': 5}}, {'content': 'sit', 'polygon': [280, 894, 298, 894, 298, 913, 280, 913], 'confidence': 0.996, 'span': {'offset': 180, 'length': 3}}, {'content': 'amet,', 'polygon': [301, 894, 341, 894, 341, 913, 302, 913], 'confidence': 0.994, 'span': {'offset': 184, 'length': 5}}, {'content': 'consectetuer', 'polygon': [345, 894, 437, 894, 437, 913, 345, 913], 'confidence': 0.993, 'span': {'offset': 190, 'length': 12}}, {'content': 'adipiscing', 'polygon': [440, 894, 512, 894, 513, 913, 441, 913], 'confidence': 0.993, 'span': {'offset': 203, 'length': 10}}, {'content': 'elit,', 'polygon': [516, 894, 542, 894, 542, 913, 516, 913], 'confidence': 0.985, 'span': {'offset': 214, 'length': 5}}, {'content': 'sed', 'polygon': [546, 894, 571, 894, 571, 913, 546, 913], 'confidence': 0.996, 'span': {'offset': 220, 'length': 3}}, {'content': 'diam', 'polygon': [574, 894, 605, 893, 606, 913, 575, 913], 'confidence': 0.993, 'span': {'offset': 224, 'length': 4}}, {'content': 'nonummy', 'polygon': [614, 893, 686, 893, 686, 913, 614, 913], 'confidence': 0.994, 'span': {'offset': 229, 'length': 7}}, {'content': 'nibh', 'polygon': [690, 893, 722, 893, 722, 913, 690, 913], 'confidence': 0.992, 'span': {'offset': 237, 'length': 4}}, {'content': 'euismod', 'polygon': [143, 917, 203, 916, 204, 933, 144, 933], 'confidence': 0.992, 'span': {'offset': 242, 'length': 7}}, {'content': 'tincidunt', 'polygon': [207, 916, 270, 916, 271, 934, 207, 934], 'confidence': 0.99, 'span': {'offset': 250, 'length': 9}}, {'content': 'ut', 'polygon': [274, 916, 288, 916, 289, 934, 275, 934], 'confidence': 0.995, 'span': {'offset': 260, 'length': 2}}, {'content': 'laoreet', 'polygon': [292, 916, 343, 916, 344, 934, 293, 934], 'confidence': 0.981, 'span': {'offset': 263, 'length': 7}}, {'content': 'dolore', 'polygon': [347, 916, 393, 916, 393, 935, 348, 934], 'confidence': 0.994, 'span': {'offset': 271, 'length': 6}}, {'content': 'magna', 'polygon': [396, 916, 447, 916, 447, 935, 397, 935], 'confidence': 0.951, 'span': {'offset': 278, 'length': 5}}, {'content': 'aliquam', 'polygon': [450, 916, 502, 916, 503, 935, 451, 935], 'confidence': 0.994, 'span': {'offset': 284, 'length': 7}}, {'content': 'erat', 'polygon': [511, 916, 539, 916, 540, 935, 512, 935], 'confidence': 0.992, 'span': {'offset': 292, 'length': 4}}, {'content': 'volutpat.', 'polygon': [543, 916, 607, 917, 607, 936, 543, 935], 'confidence': 0.987, 'span': {'offset': 297, 'length': 9}}], 'lines': [{'content': 'Contoso Bank', 'polygon': [168, 171, 485, 170, 485, 212, 168, 213], 'spans': [{'offset': 0, 'length': 12}]}, {'content': '5412 1234 5656 8888', 'polygon': [165, 312, 717, 312, 717, 356, 165, 356], 'spans': [{'offset': 13, 'length': 19}]}, {'content': 'VALID', 'polygon': [168, 392, 212, 392, 212, 407, 168, 407], 'spans': [{'offset': 33, 'length': 5}]}, {'content': '01/28', 'polygon': [226, 391, 320, 391, 321, 424, 225, 423], 'spans': [{'offset': 39, 'length': 5}]}, {'content': 'THRU', 'polygon': [168, 412, 209, 413, 209, 427, 168, 427], 'spans': [{'offset': 45, 'length': 4}]}, {'content': 'ADAM SMITH', 'polygon': [167, 445, 371, 445, 370, 480, 167, 479], 'spans': [{'offset': 50, 'length': 10}]}, {'content': 'mastercard', 'polygon': [631, 463, 721, 462, 721, 477, 631, 477], 'spans': [{'offset': 61, 'length': 10}]}, {'content': 'For customer servies, call +1 200-345-6789 or +1 200-000-8888', 'polygon': [141, 610, 594, 609, 594, 626, 141, 626], 'spans': [{'offset': 72, 'length': 61}]}, {'content': '123', 'polygon': [543, 784, 588, 785, 588, 811, 543, 810], 'spans': [{'offset': 134, 'length': 3}]}, {'content': 'NOT VALID UNLESS SIGNED', 'polygon': [143, 847, 342, 848, 342, 864, 143, 864], 'spans': [{'offset': 138, 'length': 23}]}, {'content': 'Lorem ipsum dolor sit amet, consectetuer adipiscing elit, sed diam nonummy nibh', 'polygon': [142, 893, 723, 893, 723, 912, 142, 913], 'spans': [{'offset': 162, 'length': 79}]}, {'content': 'euismod tincidunt ut laoreet dolore magna aliquam erat volutpat.', 'polygon': [143, 915, 607, 916, 607, 935, 143, 934], 'spans': [{'offset': 242, 'length': 64}]}], 'spans': [{'offset': 0, 'length': 306}]}], 'styles': [], 'documents': [{'docType': 'creditCard', 'boundingRegions': [{'pageNumber': 1, 'polygon': [0, 0, 896, 0, 896, 1120, 0, 1120]}], 'fields': {'CardHolderName': {'type': 'string', 'content': 'ADAM SMITH', 'boundingRegions': [{'pageNumber': 1, 'polygon': [167, 445, 365, 446, 365, 481, 167, 480]}], 'confidence': 0.995, 'spans': [{'offset': 50, 'length': 10}]}, 'CardNumber': {'type': 'string', 'content': '5412 1234 5656 8888', 'boundingRegions': [{'pageNumber': 1, 'polygon': [166, 313, 715, 313, 715, 357, 166, 357]}], 'confidence': 0.995, 'spans': [{'offset': 13, 'length': 19}]}, 'CardVerificationValue': {'type': 'string', 'content': '123', 'boundingRegions': [{'pageNumber': 1, 'polygon': [544, 784, 586, 785, 586, 811, 544, 810]}], 'confidence': 0.995, 'spans': [{'offset': 134, 'length': 3}]}, 'CustomerServicePhoneNumbers': {'type': 'array', 'valueArray': [{'type': 'string', 'valueString': '+1 200-345-6789', 'content': '+1 200-345-6789', 'boundingRegions': [{'pageNumber': 1, 'polygon': [324, 610, 447, 610, 447, 627, 324, 627]}], 'spans': [{'offset': 99, 'length': 15}]}, {'type': 'string', 'valueString': '+1 200-000-8888', 'content': '+1 200-000-8888', 'boundingRegions': [{'pageNumber': 1, 'polygon': [471, 610, 594, 610, 594, 627, 471, 627]}], 'spans': [{'offset': 118, 'length': 15}]}]}, 'ExpirationDate': {'type': 'date', 'content': '01/28', 'boundingRegions': [{'pageNumber': 1, 'polygon': [227, 391, 319, 391, 319, 424, 226, 424]}], 'confidence': 0.995, 'spans': [{'offset': 39, 'length': 5}]}, 'IssuingBank': {'type': 'string', 'content': 'Contoso Bank', 'boundingRegions': [{'pageNumber': 1, 'polygon': [170, 172, 475, 171, 475, 213, 170, 214]}], 'confidence': 0.995, 'spans': [{'offset': 0, 'length': 12}]}, 'PaymentNetwork': {'type': 'string', 'content': 'mastercard', 'boundingRegions': [{'pageNumber': 1, 'polygon': [632, 464, 717, 463, 717, 477, 632, 477]}], 'confidence': 0.991, 'spans': [{'offset': 61, 'length': 10}]}}, 'confidence': 1, 'spans': [{'offset': 0, 'length': 306}]}], 'contentFormat': 'text'}"
      ]
     },
     "execution_count": 12,
     "metadata": {},
     "output_type": "execute_result"
    }
   ],
   "source": [
    "detect_credit_card_info(\"https://documentintelligence.ai.azure.com/documents/samples/prebuilt/credit-card-horizontal.png\")"
   ]
  },
  {
   "cell_type": "code",
   "execution_count": 15,
   "id": "2514d919-2d57-4057-918e-0ff3e98447d3",
   "metadata": {},
   "outputs": [],
   "source": [
    "import pandas as pd\n",
    "\n",
    "def detect_credit_card_info(card_url):\n",
    "    credential = AzureKeyCredential(Config.KEY)\n",
    "    document_client = DocumentIntelligenceClient(Config.ENDPOINT, credential)\n",
    "    card_info = document_client.begin_analyze_document(\n",
    "        \"prebuilt-creditCard\", AnalyzeDocumentRequest(url_source=card_url)\n",
    "    )\n",
    "    result = card_info.result()\n",
    "\n",
    "    # Extract fields from the first document (assuming one card per image)\n",
    "    fields = result.documents[0].get('fields', {})\n",
    "\n",
    "    # Flatten the nested dictionary to a simple dictionary\n",
    "    flattened_fields = {}\n",
    "    for key, value in fields.items():\n",
    "        if 'valueArray' in value:\n",
    "            # Handle arrays of values\n",
    "            flattened_fields[key] = [v['valueString'] for v in value['valueArray']]\n",
    "        else:\n",
    "            flattened_fields[key] = value['content']\n",
    "\n",
    "    # Create a Pandas DataFrame from the flattened dictionary\n",
    "    df = pd.DataFrame.from_dict(flattened_fields, orient='index', columns=['value'])\n",
    "\n",
    "    return df"
   ]
  },
  {
   "cell_type": "code",
   "execution_count": 16,
   "id": "bd7665a5-9242-4737-834d-39279afb52d1",
   "metadata": {},
   "outputs": [
    {
     "data": {
      "text/html": [
       "<div>\n",
       "<style scoped>\n",
       "    .dataframe tbody tr th:only-of-type {\n",
       "        vertical-align: middle;\n",
       "    }\n",
       "\n",
       "    .dataframe tbody tr th {\n",
       "        vertical-align: top;\n",
       "    }\n",
       "\n",
       "    .dataframe thead th {\n",
       "        text-align: right;\n",
       "    }\n",
       "</style>\n",
       "<table border=\"1\" class=\"dataframe\">\n",
       "  <thead>\n",
       "    <tr style=\"text-align: right;\">\n",
       "      <th></th>\n",
       "      <th>value</th>\n",
       "    </tr>\n",
       "  </thead>\n",
       "  <tbody>\n",
       "    <tr>\n",
       "      <th>CardHolderName</th>\n",
       "      <td>ADAM SMITH</td>\n",
       "    </tr>\n",
       "    <tr>\n",
       "      <th>CardNumber</th>\n",
       "      <td>5412 1234 5656 8888</td>\n",
       "    </tr>\n",
       "    <tr>\n",
       "      <th>CardVerificationValue</th>\n",
       "      <td>123</td>\n",
       "    </tr>\n",
       "    <tr>\n",
       "      <th>CustomerServicePhoneNumbers</th>\n",
       "      <td>[+1 200-345-6789, +1 200-000-8888]</td>\n",
       "    </tr>\n",
       "    <tr>\n",
       "      <th>ExpirationDate</th>\n",
       "      <td>01/28</td>\n",
       "    </tr>\n",
       "    <tr>\n",
       "      <th>IssuingBank</th>\n",
       "      <td>Contoso Bank</td>\n",
       "    </tr>\n",
       "    <tr>\n",
       "      <th>PaymentNetwork</th>\n",
       "      <td>mastercard</td>\n",
       "    </tr>\n",
       "  </tbody>\n",
       "</table>\n",
       "</div>"
      ],
      "text/plain": [
       "                                                          value\n",
       "CardHolderName                                       ADAM SMITH\n",
       "CardNumber                                  5412 1234 5656 8888\n",
       "CardVerificationValue                                       123\n",
       "CustomerServicePhoneNumbers  [+1 200-345-6789, +1 200-000-8888]\n",
       "ExpirationDate                                            01/28\n",
       "IssuingBank                                        Contoso Bank\n",
       "PaymentNetwork                                       mastercard"
      ]
     },
     "execution_count": 16,
     "metadata": {},
     "output_type": "execute_result"
    }
   ],
   "source": [
    "detect_credit_card_info(\"https://documentintelligence.ai.azure.com/documents/samples/prebuilt/credit-card-horizontal.png\")"
   ]
  },
  {
   "cell_type": "code",
   "execution_count": null,
   "id": "cbbaead3-6cc9-4b38-8bab-40239be7b5c2",
   "metadata": {},
   "outputs": [],
   "source": [
    "CardHolderName\t\n",
    "CardNumber\t\n",
    "CustomerServicePhoneNumbers\n",
    "ExpirationDate\t\n",
    "IssuingBank\t\n",
    "PaymentNetwork\t"
   ]
  },
  {
   "cell_type": "code",
   "execution_count": null,
   "id": "a80bf0a5-9fcf-45f8-96ff-e6998ad27764",
   "metadata": {},
   "outputs": [],
   "source": []
  },
  {
   "cell_type": "code",
   "execution_count": 17,
   "id": "8e51ad0f-3cf0-4909-9d26-7b27e34f002d",
   "metadata": {},
   "outputs": [
    {
     "ename": "ModuleNotFoundError",
     "evalue": "No module named 'azure.storage'",
     "output_type": "error",
     "traceback": [
      "\u001b[0;31m---------------------------------------------------------------------------\u001b[0m",
      "\u001b[0;31mModuleNotFoundError\u001b[0m                       Traceback (most recent call last)",
      "Cell \u001b[0;32mIn[17], line 3\u001b[0m\n\u001b[1;32m      1\u001b[0m \u001b[38;5;28;01mimport\u001b[39;00m \u001b[38;5;21;01mos\u001b[39;00m\n\u001b[1;32m      2\u001b[0m \u001b[38;5;28;01mimport\u001b[39;00m \u001b[38;5;21;01msqlite3\u001b[39;00m\n\u001b[0;32m----> 3\u001b[0m \u001b[38;5;28;01mfrom\u001b[39;00m \u001b[38;5;21;01mazure\u001b[39;00m\u001b[38;5;21;01m.\u001b[39;00m\u001b[38;5;21;01mstorage\u001b[39;00m\u001b[38;5;21;01m.\u001b[39;00m\u001b[38;5;21;01mblob\u001b[39;00m \u001b[38;5;28;01mimport\u001b[39;00m BlobServiceClient\n\u001b[1;32m      4\u001b[0m \u001b[38;5;28;01mfrom\u001b[39;00m \u001b[38;5;21;01mazure\u001b[39;00m\u001b[38;5;21;01m.\u001b[39;00m\u001b[38;5;21;01mai\u001b[39;00m\u001b[38;5;21;01m.\u001b[39;00m\u001b[38;5;21;01mdocumentintelligence\u001b[39;00m \u001b[38;5;28;01mimport\u001b[39;00m DocumentIntelligenceClient\n\u001b[1;32m      5\u001b[0m \u001b[38;5;28;01mimport\u001b[39;00m \u001b[38;5;21;01mstreamlit\u001b[39;00m \u001b[38;5;28;01mas\u001b[39;00m \u001b[38;5;21;01mst\u001b[39;00m\n",
      "\u001b[0;31mModuleNotFoundError\u001b[0m: No module named 'azure.storage'"
     ]
    }
   ],
   "source": [
    "import os\n",
    "import sqlite3\n",
    "from azure.storage.blob import BlobServiceClient\n",
    "from azure.ai.documentintelligence import DocumentIntelligenceClient\n",
    "import streamlit as st"
   ]
  },
  {
   "cell_type": "markdown",
   "id": "d5a813cc-29be-4735-b46b-4f34de6c61e5",
   "metadata": {},
   "source": [
    "# 04-11-24: Desafio - Análise de Documentos Anti-Fraude - POC com Jupyter Lab e SQLite"
   ]
  },
  {
   "cell_type": "markdown",
   "id": "baba39c7-4654-418b-8063-e0812848ffd3",
   "metadata": {},
   "source": [
    "## Cenário: Você, como desenvolvedor, foi designado para desenvolver um protótipo (POC) de um sistema de análise de documentos anti-fraude. O projeto já foi aprovado e você precisa entregar e apresentar a solução em no máximo 2 dias.\n",
    "\n",
    "- **Requisitos:**\n",
    "\n",
    "- Front-end: Streamlit para upload de imagens e visualização dos resultados.\n",
    "- Back-end: Python com bibliotecas Azure SDK para interagir com o Azure Blob Storage e Azure Document Intelligence.\n",
    "- Banco de dados: SQLite para armazenar os resultados da análise.\n",
    "- Controle de versão: Git e GitHub para gerenciar o código.\n",
    "- Gerenciamento de dependências: Poetry para gerenciar as bibliotecas do projeto."
   ]
  },
  {
   "cell_type": "markdown",
   "id": "529c0f4d-de0a-4701-a7c3-aecb0d603676",
   "metadata": {},
   "source": [
    "**1. Configuração do ambiente:**\n",
    "\n",
    "* [x] **Criar um ambiente virtual com Poetry:**\n",
    "    ```bash\n",
    "    poetry init -n\n",
    "    poetry add azure-storage-blob azure-ai-documentintelligence azure-core streamlit sqlite3 python-dotenv requests\n",
    "    ```\n",
    "* [x] **Criar um repositório no GitHub:**\n",
    "    * Acesse o GitHub e crie um novo repositório.\n",
    "* [x] **Clonar o repositório localmente:**\n",
    "    ```bash\n",
    "    git clone <url do repositório>\n",
    "    ```\n",
    "* [x] **Ativar o ambiente virtual:**\n",
    "    ```bash\n",
    "    poetry shell\n",
    "    ```"
   ]
  },
  {
   "cell_type": "code",
   "execution_count": 20,
   "id": "4727d65c-1785-4b39-898a-909562af1eb4",
   "metadata": {},
   "outputs": [
    {
     "name": "stdout",
     "output_type": "stream",
     "text": [
      "Using version \u001b[39;1m^12.23.1\u001b[39;22m for \u001b[36mazure-storage-blob\u001b[39m\n",
      "\n",
      "\u001b[34mUpdating dependencies\u001b[39m\n",
      "\u001b[2K\u001b[34mResolving dependencies...\u001b[39m \u001b[39;2m(2.0s)\u001b[39;22m\n",
      "\n",
      "\u001b[39;1mPackage operations\u001b[39;22m: \u001b[34m2\u001b[39m installs, \u001b[34m0\u001b[39m updates, \u001b[34m0\u001b[39m removals\n",
      "\n",
      "  \u001b[34;1m•\u001b[39;22m \u001b[39mInstalling \u001b[39m\u001b[36mcryptography\u001b[39m\u001b[39m (\u001b[39m\u001b[39;1m43.0.3\u001b[39;22m\u001b[39m)\u001b[39m: \u001b[34mPending...\u001b[39m\n",
      "\u001b[1A\u001b[0J  \u001b[34;1m•\u001b[39;22m \u001b[39mInstalling \u001b[39m\u001b[36mcryptography\u001b[39m\u001b[39m (\u001b[39m\u001b[39;1m43.0.3\u001b[39;22m\u001b[39m)\u001b[39m: \u001b[34mDownloading...\u001b[39m \u001b[39;1m0%\u001b[39;22m\n",
      "\u001b[1A\u001b[0J  \u001b[34;1m•\u001b[39;22m \u001b[39mInstalling \u001b[39m\u001b[36mcryptography\u001b[39m\u001b[39m (\u001b[39m\u001b[39;1m43.0.3\u001b[39;22m\u001b[39m)\u001b[39m: \u001b[34mDownloading...\u001b[39m \u001b[39;1m30%\u001b[39;22m\n",
      "\u001b[1A\u001b[0J  \u001b[34;1m•\u001b[39;22m \u001b[39mInstalling \u001b[39m\u001b[36mcryptography\u001b[39m\u001b[39m (\u001b[39m\u001b[39;1m43.0.3\u001b[39;22m\u001b[39m)\u001b[39m: \u001b[34mDownloading...\u001b[39m \u001b[39;1m90%\u001b[39;22m\n",
      "\u001b[1A\u001b[0J  \u001b[34;1m•\u001b[39;22m \u001b[39mInstalling \u001b[39m\u001b[36mcryptography\u001b[39m\u001b[39m (\u001b[39m\u001b[39;1m43.0.3\u001b[39;22m\u001b[39m)\u001b[39m: \u001b[34mDownloading...\u001b[39m \u001b[39;1m100%\u001b[39;22m\n",
      "\u001b[1A\u001b[0J  \u001b[34;1m•\u001b[39;22m \u001b[39mInstalling \u001b[39m\u001b[36mcryptography\u001b[39m\u001b[39m (\u001b[39m\u001b[39;1m43.0.3\u001b[39;22m\u001b[39m)\u001b[39m: \u001b[34mInstalling...\u001b[39m\n",
      "\u001b[1A\u001b[0J  \u001b[32;1m•\u001b[39;22m \u001b[39mInstalling \u001b[39m\u001b[36mcryptography\u001b[39m\u001b[39m (\u001b[39m\u001b[32m43.0.3\u001b[39m\u001b[39m)\u001b[39m\n",
      "  \u001b[34;1m•\u001b[39;22m \u001b[39mInstalling \u001b[39m\u001b[36mazure-storage-blob\u001b[39m\u001b[39m (\u001b[39m\u001b[39;1m12.23.1\u001b[39;22m\u001b[39m)\u001b[39m: \u001b[34mPending...\u001b[39m\n",
      "\u001b[1A\u001b[0J  \u001b[34;1m•\u001b[39;22m \u001b[39mInstalling \u001b[39m\u001b[36mazure-storage-blob\u001b[39m\u001b[39m (\u001b[39m\u001b[39;1m12.23.1\u001b[39;22m\u001b[39m)\u001b[39m: \u001b[34mDownloading...\u001b[39m \u001b[39;1m0%\u001b[39;22m\n",
      "\u001b[1A\u001b[0J  \u001b[34;1m•\u001b[39;22m \u001b[39mInstalling \u001b[39m\u001b[36mazure-storage-blob\u001b[39m\u001b[39m (\u001b[39m\u001b[39;1m12.23.1\u001b[39;22m\u001b[39m)\u001b[39m: \u001b[34mDownloading...\u001b[39m \u001b[39;1m100%\u001b[39;22m\n",
      "\u001b[1A\u001b[0J  \u001b[34;1m•\u001b[39;22m \u001b[39mInstalling \u001b[39m\u001b[36mazure-storage-blob\u001b[39m\u001b[39m (\u001b[39m\u001b[39;1m12.23.1\u001b[39;22m\u001b[39m)\u001b[39m: \u001b[34mInstalling...\u001b[39m\n",
      "\u001b[1A\u001b[0J  \u001b[32;1m•\u001b[39;22m \u001b[39mInstalling \u001b[39m\u001b[36mazure-storage-blob\u001b[39m\u001b[39m (\u001b[39m\u001b[32m12.23.1\u001b[39m\u001b[39m)\u001b[39m\n",
      "\n",
      "\u001b[34mWriting lock file\u001b[39m\n"
     ]
    }
   ],
   "source": [
    "!poetry add azure-storage-blob"
   ]
  },
  {
   "cell_type": "markdown",
   "id": "aa8ea0d5-91ad-4847-842c-2a98f7a80dee",
   "metadata": {},
   "source": [
    "**2. Criar o Jupyter Notebook:**\n",
    "\n",
    "* **Criar um novo notebook no Jupyter Lab:**\n",
    "    * Abra o Jupyter Lab e crie um novo notebook.\n",
    "* **Importar as bibliotecas necessárias:**\n",
    "    ```python\n",
    "    import os\n",
    "    import sqlite3\n",
    "    from azure.storage.blob import BlobServiceClient\n",
    "    from azure.ai.documentintelligence import DocumentIntelligenceClient\n",
    "    import streamlit as st\n",
    "    ```"
   ]
  },
  {
   "cell_type": "code",
   "execution_count": 1,
   "id": "57cb750c-0957-4450-bf33-0359db1c367a",
   "metadata": {},
   "outputs": [],
   "source": [
    "import os\n",
    "import sqlite3\n",
    "from azure.storage.blob import BlobServiceClient\n",
    "from azure.ai.documentintelligence import DocumentIntelligenceClient\n",
    "import streamlit as st"
   ]
  },
  {
   "cell_type": "markdown",
   "id": "0d9f364d-fd98-4b6d-80b6-eb096e9163d3",
   "metadata": {},
   "source": [
    "* **Definir as credenciais do Azure Blob Storage e Azure Document Intelligence:**\n",
    "    ```python\n",
    "    # Credenciais do Azure Blob Storage\n",
    "    CONNECTION_STRING = \"<sua connection string>\"\n",
    "    CONTAINER_NAME = \"<nome do container>\"\n",
    "\n",
    "    # Credenciais do Azure Document Intelligence\n",
    "    ENDPOINT = \"<endpoint do serviço>\"\n",
    "    API_KEY = \"<chave de API>\"\n",
    "    ```"
   ]
  },
  {
   "cell_type": "markdown",
   "id": "16dd7b99-6a55-423b-938e-17360b6e3fb1",
   "metadata": {},
   "source": [
    "* **OBS:** É Necessário criar um arquivo `.env` na raiz do projeto com as variáveis acima."
   ]
  },
  {
   "cell_type": "markdown",
   "id": "75f0c4b5-65b7-4cf1-89d3-1da715b7ef02",
   "metadata": {},
   "source": [
    "* **Criar uma classe `Config`para Carregar as variáveis de ambiente com dotenv.**:"
   ]
  },
  {
   "cell_type": "code",
   "execution_count": 41,
   "id": "3904687a-76e2-4769-bfb5-2de6d0f79aa4",
   "metadata": {},
   "outputs": [],
   "source": [
    "import os\n",
    "from dotenv import load_dotenv\n",
    "load_dotenv()\n",
    "\n",
    "class Config:\n",
    "    ENDPOINT = os.getenv(\"AZURE_DOC_INT_ENDPOINT\")\n",
    "    KEY = os.getenv(\"AZURE_DOC_INT_KEY\")\n",
    "    AZURE_STORAGE_CONNECTION_STRING = os.getenv(\"AZURE_STORAGE_CONNECTION\")\n",
    "    CONTAINER_NAME = os.getenv(\"CONTAINER_NAME\")"
   ]
  },
  {
   "cell_type": "markdown",
   "id": "a4cd897d-8120-4563-9617-71693c189866",
   "metadata": {},
   "source": [
    "**3. Criar a função de upload de imagens:**\n",
    "\n",
    "* **Criar a interface de upload de imagens com Streamlit:**\n",
    "    ```python\n",
    "    def upload_blob(file, file_name):\n",
    "        try:\n",
    "            blob_service_client = BlobServiceClient.from_connection_string(Config.AZURE_STORAGE_CONNECTION_STRING)\n",
    "            blob_client = blob_service_client.get_blob_client(container=Config.CONTAINER_NAME, blob=file_name)\n",
    "            blob_client.upload_blob(file, overwrite=True)\n",
    "            return blob_client.url\n",
    "        except Exception as ex:\n",
    "            st.error(f\"Erro ao enviar o arquivo para o Azure Blob Storage: {ex}\")\n",
    "            return None\n",
    "    ```"
   ]
  },
  {
   "cell_type": "code",
   "execution_count": 34,
   "id": "35168d36-4535-4620-bcc2-5557489a4f9c",
   "metadata": {},
   "outputs": [],
   "source": [
    "def upload_blob(file, file_name):\n",
    "        try:\n",
    "            blob_service_client = BlobServiceClient.from_connection_string(Config.AZURE_STORAGE_CONNECTION_STRING)\n",
    "            blob_client = blob_service_client.get_blob_client(container=Config.CONTAINER_NAME, blob=file_name)\n",
    "            blob_client.upload_blob(file, overwrite=True)\n",
    "            return blob_client.url\n",
    "        except Exception as ex:\n",
    "            #st.error(f\"Erro ao enviar o arquivo para o Azure Blob Storage: {ex}\")\n",
    "            return f\"Erro ao enviar o arquivo para o Azure Blob Storage: {ex}\""
   ]
  },
  {
   "cell_type": "code",
   "execution_count": 35,
   "id": "a96d3837-fcf0-47a7-82ea-f6478eb09582",
   "metadata": {},
   "outputs": [
    {
     "data": {
      "text/plain": [
       "'https://stdiolab2.blob.core.windows.net/cartoes/cartao-pre-pago.jpg'"
      ]
     },
     "execution_count": 35,
     "metadata": {},
     "output_type": "execute_result"
    }
   ],
   "source": [
    "upload_blob(\"desafios_de_projeto/desafio_2/data/cartao-pre-pago-standard\", \"cartao-pre-pago.jpg\")"
   ]
  },
  {
   "cell_type": "markdown",
   "id": "37726e55-1e68-42c6-97ef-463e7d371660",
   "metadata": {},
   "source": [
    "**Obs:** Aparentemente não funcionou ele entiva um arquivo em bytes e retorna uma url mas na prática não salva a imagem."
   ]
  },
  {
   "cell_type": "code",
   "execution_count": null,
   "id": "e8d6a9eb-571d-4c8f-b595-e9fd060dea16",
   "metadata": {},
   "outputs": [],
   "source": []
  },
  {
   "cell_type": "markdown",
   "id": "f63c8c13-b89c-45a7-9b52-d8dc12631d89",
   "metadata": {},
   "source": [
    "# Código mais robusto e com tratamento de erros.:"
   ]
  },
  {
   "cell_type": "code",
   "execution_count": null,
   "id": "802a1e89-8566-423a-ad1b-dc0665f9513a",
   "metadata": {},
   "outputs": [],
   "source": []
  },
  {
   "cell_type": "code",
   "execution_count": 62,
   "id": "fd4826aa-3e01-430b-aa67-01c4b61995e8",
   "metadata": {},
   "outputs": [],
   "source": [
    "import os\n",
    "from typing import Union, Tuple\n",
    "from azure.storage.blob import BlobServiceClient, ContentSettings\n",
    "#from utils.Config import Config\n",
    "\n",
    "def upload_blob(file_path: str, file_name: str) -> Union[str, Tuple[bool, str]]:\n",
    "    \"\"\"\n",
    "    Faz upload de um arquivo para o Azure Blob Storage.\n",
    "    \n",
    "    Args:\n",
    "        file_path: Caminho local ou URL do arquivo\n",
    "        file_name: Nome desejado para o arquivo no blob storage\n",
    "        \n",
    "    Returns:\n",
    "        str: URL do blob se sucesso\n",
    "        Tuple[bool, str]: (False, mensagem de erro) se falha\n",
    "    \"\"\"\n",
    "    try:\n",
    "        # Inicializa o cliente do blob storage\n",
    "        blob_service_client = BlobServiceClient.from_connection_string(Config.AZURE_STORAGE_CONNECTION_STRING)\n",
    "        blob_client = blob_service_client.get_blob_client(\n",
    "            container=Config.CONTAINER_NAME,\n",
    "            blob=file_name\n",
    "        )\n",
    "\n",
    "        # Define o content type baseado na extensão do arquivo\n",
    "        content_type = None\n",
    "        file_extension = os.path.splitext(file_name)[1].lower()\n",
    "        if file_extension in ['.jpg', '.jpeg']:\n",
    "            content_type = 'image/jpeg'\n",
    "        elif file_extension == '.png':\n",
    "            content_type = 'image/png'\n",
    "        elif file_extension == '.gif':\n",
    "            content_type = 'image/gif'\n",
    "        elif file_extension == '.webp':\n",
    "            content_type = 'image/webp'\n",
    "\n",
    "        # Configura as propriedades do blob\n",
    "        content_settings = ContentSettings(content_type=content_type) if content_type else None\n",
    "\n",
    "        # Verifica se é uma URL ou arquivo local\n",
    "        if file_path.startswith(('http://', 'https://')):\n",
    "            import requests\n",
    "            response = requests.get(file_path)\n",
    "            response.raise_for_status()  # Levanta exceção para status codes de erro\n",
    "            data = response.content\n",
    "        else:\n",
    "            with open(file_path, 'rb') as file:\n",
    "                data = file.read()\n",
    "\n",
    "        # Faz o upload\n",
    "        blob_client.upload_blob(\n",
    "            data,\n",
    "            overwrite=True,\n",
    "            content_settings=content_settings\n",
    "        )\n",
    "\n",
    "        return blob_client.url\n",
    "\n",
    "    except FileNotFoundError:\n",
    "        return False, f\"Arquivo não encontrado: {file_path}\"\n",
    "    except requests.exceptions.RequestException as ex:\n",
    "        return False, f\"Erro ao baixar arquivo da URL: {str(ex)}\"\n",
    "    except Exception as ex:\n",
    "        return False, f\"Erro ao enviar o arquivo para o Azure Blob Storage: {str(ex)}\""
   ]
  },
  {
   "cell_type": "code",
   "execution_count": 63,
   "id": "1dfc2a87-dee7-4d7f-8b08-a5aa694a1c0b",
   "metadata": {},
   "outputs": [
    {
     "data": {
      "text/plain": [
       "'https://stdiolab2.blob.core.windows.net/cartoes/imgagem.png'"
      ]
     },
     "execution_count": 63,
     "metadata": {},
     "output_type": "execute_result"
    }
   ],
   "source": [
    "upload_blob(\"https://documentintelligence.ai.azure.com/documents/samples/prebuilt/credit-card-vertical.png\", 'imgagem.png')"
   ]
  },
  {
   "cell_type": "code",
   "execution_count": null,
   "id": "b0a612d6-bea7-4251-9cc6-8378bd595f63",
   "metadata": {},
   "outputs": [],
   "source": []
  },
  {
   "cell_type": "markdown",
   "id": "3f4a1fb6-05f5-4f4b-b579-2bcbef07cdbd",
   "metadata": {},
   "source": [
    "**4. Criar a função de análise de documentos:**\n",
    "\n",
    "* **Utilizar a biblioteca `azure-ai-documentintelligence` para analisar a imagem do cartão de crédito:**\n",
    "    ```python\n",
    "    def detect_credit_card_info(card_url):\n",
    "    credential = AzureKeyCredential(Config.KEY)\n",
    "    document_client = DocumentIntelligenceClient(Config.ENDPOINT, credential)\n",
    "    card_info = document_client.begin_analyze_document(\n",
    "            \"prebuilt-creditCard\", AnalyzeDocumentRequest(url_source=card_url)\n",
    "    )\n",
    "    result = card_info.result()\n",
    "\n",
    "    for document in result.documents:\n",
    "        fields = document.get('fields', {})\n",
    "\n",
    "        return {\n",
    "            \"card_name\": fields.get('CardHolderName', {}).get('content'),\n",
    "            \"card_number\": fields.get('CardNumber', {}).get('content'),\n",
    "            \"expiry_date\": fields.get('ExpiryDate', {}).get('content'),\n",
    "            \"bank_name\": fields.get('BankName', {}).get('content'),\n",
    "        }\n",
    "    ```"
   ]
  },
  {
   "cell_type": "code",
   "execution_count": 48,
   "id": "9109589d-a29f-467f-b81a-5bf8c8f41bbf",
   "metadata": {},
   "outputs": [],
   "source": [
    "def detect_credit_card_info(card_url):\n",
    "    credential = AzureKeyCredential(Config.KEY)\n",
    "    document_client = DocumentIntelligenceClient(Config.ENDPOINT, credential)\n",
    "    card_info = document_client.begin_analyze_document(\n",
    "            \"prebuilt-creditCard\", AnalyzeDocumentRequest(url_source=card_url)\n",
    "    )\n",
    "    result = card_info.result()\n",
    "\n",
    "    for document in result.documents:\n",
    "        fields = document.get('fields', {})\n",
    "\n",
    "        return {\n",
    "            \"card_name\": fields.get('CardHolderName', {}).get('content'),\n",
    "            \"card_number\": fields.get('CardNumber', {}).get('content'),\n",
    "            \"expiry_date\": fields.get('ExpiryDate', {}).get('content'),\n",
    "            \"bank_name\": fields.get('BankName', {}).get('content'),\n",
    "        }"
   ]
  },
  {
   "cell_type": "code",
   "execution_count": 64,
   "id": "c744666f-9fe5-4e80-8de7-511ea07185d3",
   "metadata": {},
   "outputs": [
    {
     "data": {
      "text/plain": [
       "{'card_name': 'ADAM SMITH',\n",
       " 'card_number': '4000 1234 5678 9012',\n",
       " 'expiry_date': None,\n",
       " 'bank_name': None}"
      ]
     },
     "execution_count": 64,
     "metadata": {},
     "output_type": "execute_result"
    }
   ],
   "source": [
    "detect_credit_card_info(\"https://stdiolab2.blob.core.windows.net/cartoes/imgagem.png\")"
   ]
  },
  {
   "cell_type": "code",
   "execution_count": null,
   "id": "ae1b18c8-006c-445c-9e98-206fd336be4b",
   "metadata": {},
   "outputs": [],
   "source": []
  },
  {
   "cell_type": "code",
   "execution_count": 86,
   "id": "81e87bd5-91ae-4649-a987-d7e6885cf1d5",
   "metadata": {},
   "outputs": [],
   "source": [
    "from dataclasses import dataclass\n",
    "from typing import Optional, Dict, Any\n",
    "from azure.core.credentials import AzureKeyCredential\n",
    "from azure.ai.documentintelligence import DocumentIntelligenceClient\n",
    "from azure.ai.documentintelligence.models import AnalyzeDocumentRequest\n",
    "#from utils.Config import Config\n",
    "\n",
    "@dataclass\n",
    "class CreditCardInfo:\n",
    "    \"\"\"\n",
    "    Classe para armazenar informações do cartão de crédito.\n",
    "    \n",
    "    Attributes:\n",
    "        card_name (str): Nome do titular do cartão\n",
    "        card_number (str): Número do cartão\n",
    "        expiry_date (str): Data de expiração\n",
    "        bank_name (str): Nome do banco emissor\n",
    "    \"\"\"\n",
    "    card_name: Optional[str] = None\n",
    "    card_number: Optional[str] = None\n",
    "    expiry_date: Optional[str] = None\n",
    "    bank_name: Optional[str] = None\n",
    "\n",
    "class CreditCardDetector:\n",
    "    \"\"\"Classe para detecção de informações de cartão de crédito usando Azure Document Intelligence.\"\"\"\n",
    "    \n",
    "    # Modelo pré-construído para cartões de crédito\n",
    "    CREDIT_CARD_MODEL = \"prebuilt-creditCard\"\n",
    "    \n",
    "    def __init__(self, endpoint: str, key: str):\n",
    "        \"\"\"\n",
    "        Inicializa o detector de cartão de crédito.\n",
    "        \n",
    "        Args:\n",
    "            endpoint (str): Endpoint do Azure Document Intelligence\n",
    "            key (str): Chave de autenticação do Azure\n",
    "            \n",
    "        Raises:\n",
    "            ValueError: Se endpoint ou key forem vazios/None\n",
    "        \"\"\"\n",
    "        if not endpoint or not key:\n",
    "            raise ValueError(\"Endpoint e key são obrigatórios\")\n",
    "            \n",
    "        self.credential = AzureKeyCredential(key)\n",
    "        self.client = DocumentIntelligenceClient(endpoint, self.credential)\n",
    "\n",
    "    def _extract_field_content(self, fields: Dict[str, Any], field_name: str) -> Optional[str]:\n",
    "        \"\"\"\n",
    "        Extrai o conteúdo de um campo específico do documento.\n",
    "        \n",
    "        Args:\n",
    "            fields (Dict[str, Any]): Dicionário com os campos do documento\n",
    "            field_name (str): Nome do campo a ser extraído\n",
    "            \n",
    "        Returns:\n",
    "            Optional[str]: Conteúdo do campo ou None se não encontrado\n",
    "        \"\"\"\n",
    "        return fields.get(field_name, {}).get('content')\n",
    "\n",
    "    def _validate_url(self, url: str) -> bool:\n",
    "        \"\"\"\n",
    "        Valida se a URL fornecida é válida.\n",
    "        \n",
    "        Args:\n",
    "            url (str): URL da imagem do cartão\n",
    "            \n",
    "        Returns:\n",
    "            bool: True se a URL é válida, False caso contrário\n",
    "        \"\"\"\n",
    "        if not url:\n",
    "            return False\n",
    "        \n",
    "        # Validação básica de URL\n",
    "        return url.startswith(('http://', 'https://'))\n",
    "\n",
    "    async def detect_credit_card_info(self, card_url: str) -> Optional[CreditCardInfo]:\n",
    "        \"\"\"\n",
    "        Detecta informações de cartão de crédito a partir de uma URL de imagem.\n",
    "        \n",
    "        Args:\n",
    "            card_url (str): URL da imagem do cartão de crédito\n",
    "            \n",
    "        Returns:\n",
    "            Optional[CreditCardInfo]: Objeto com as informações do cartão ou None em caso de erro\n",
    "            \n",
    "        Raises:\n",
    "            ValueError: Se a URL for inválida\n",
    "            Exception: Para outros erros durante o processamento\n",
    "        \"\"\"\n",
    "        try:\n",
    "            # Valida a URL\n",
    "            if not self._validate_url(card_url):\n",
    "                raise ValueError(\"URL inválida fornecida\")\n",
    "\n",
    "            # Inicia a análise do documento\n",
    "            poller = self.client.begin_analyze_document(\n",
    "                self.CREDIT_CARD_MODEL, AnalyzeDocumentRequest(url_source=card_url)\n",
    "            )\n",
    "            \n",
    "            # Aguarda e obtém o resultado\n",
    "            result = poller.result()\n",
    "            \n",
    "            # Verifica se há documentos nos resultados\n",
    "            if not result.documents:\n",
    "                return None\n",
    "                \n",
    "            # Extrai os campos do primeiro documento\n",
    "            fields = result.documents[0].fields\n",
    "            \n",
    "            # Retorna objeto CreditCardInfo com as informações extraídas\n",
    "            return CreditCardInfo(\n",
    "                card_name=self._extract_field_content(fields, 'CardHolderName'),\n",
    "                card_number=self._extract_field_content(fields, 'CardNumber'),\n",
    "                expiry_date=self._extract_field_content(fields, 'ExpiryDate'),\n",
    "                bank_name=self._extract_field_content(fields, 'BankName')\n",
    "            )\n",
    "            \n",
    "        except ValueError as ve:\n",
    "            raise ValueError(f\"Erro de validação: {str(ve)}\")\n",
    "        except Exception as ex:\n",
    "            raise Exception(f\"Erro ao processar cartão de crédito: {str(ex)}\")\n",
    "\n",
    "def create_credit_card_detector() -> CreditCardDetector:\n",
    "    \"\"\"\n",
    "    Factory function para criar uma instância de CreditCardDetector.\n",
    "    \n",
    "    Returns:\n",
    "        CreditCardDetector: Nova instância configurada\n",
    "        \n",
    "    Raises:\n",
    "        ValueError: Se as configurações necessárias não estiverem disponíveis\n",
    "    \"\"\"\n",
    "    if not Config.ENDPOINT or not Config.KEY:\n",
    "        raise ValueError(\"Configurações de Azure Document Intelligence não encontradas\")\n",
    "        \n",
    "    return CreditCardDetector(Config.ENDPOINT, Config.KEY)\n",
    "\n",
    "# Exemplo de uso\n",
    "async def example_usage():\n",
    "    try:\n",
    "        # Cria o detector\n",
    "        detector = create_credit_card_detector()\n",
    "        \n",
    "        # Detecta informações do cartão\n",
    "        card_info = await detector.detect_credit_card_info(\"https://exemplo.com/imagem_cartao.jpg\")\n",
    "        \n",
    "        if card_info:\n",
    "            print(f\"Nome no cartão: {card_info.card_name}\")\n",
    "            print(f\"Número do cartão: {card_info.card_number}\")\n",
    "            print(f\"Data de expiração: {card_info.expiry_date}\")\n",
    "            print(f\"Banco: {card_info.bank_name}\")\n",
    "        else:\n",
    "            print(\"Nenhuma informação de cartão detectada\")\n",
    "            \n",
    "    except ValueError as ve:\n",
    "        print(f\"Erro de validação: {ve}\")\n",
    "    except Exception as ex:\n",
    "        print(f\"Erro inesperado: {ex}\")"
   ]
  },
  {
   "cell_type": "markdown",
   "id": "f2fc5605-33e2-4f44-a106-90b8de821198",
   "metadata": {},
   "source": [
    "# Documentação: Detector de Cartão de Crédito com Azure\n",
    "\n",
    "## Índice\n",
    "1. [Introdução](#introdução)\n",
    "2. [O que é @dataclass?](#o-que-é-dataclass)\n",
    "3. [Componentes do Sistema](#componentes-do-sistema)\n",
    "4. [Como Funciona](#como-funciona)\n",
    "5. [Configuração](#configuração)\n",
    "6. [Como Usar](#como-usar)\n",
    "7. [Exemplos Práticos](#exemplos-práticos)\n",
    "8. [Tratamento de Erros](#tratamento-de-erros)\n",
    "9. [Perguntas Frequentes](#perguntas-frequentes)\n",
    "\n",
    "## Introdução\n",
    "\n",
    "Este sistema foi desenvolvido para extrair informações de cartões de crédito a partir de imagens usando o serviço Azure Document Intelligence da Microsoft. É como ter um assistente que olha para a foto de um cartão de crédito e anota todas as informações importantes dele.\n",
    "\n",
    "## O que é @dataclass?\n",
    "\n",
    "### Explicação Simples\n",
    "Imagine que você está organizando uma festa e precisa anotar informações dos convidados. Você poderia criar uma ficha com campos como nome, idade e telefone. O `@dataclass` é como um \"modelo de ficha\" no Python que facilita a criação dessas estruturas.\n",
    "\n",
    "### Exemplo Prático\n",
    "Sem @dataclass:\n",
    "```python\n",
    "class Convidado:\n",
    "    def __init__(self, nome, idade, telefone):\n",
    "        self.nome = nome\n",
    "        self.idade = idade\n",
    "        self.telefone = telefone\n",
    "```\n",
    "\n",
    "Com @dataclass:\n",
    "```python\n",
    "from dataclasses import dataclass\n",
    "\n",
    "@dataclass\n",
    "class Convidado:\n",
    "    nome: str\n",
    "    idade: int\n",
    "    telefone: str\n",
    "```\n",
    "\n",
    "### Vantagens do @dataclass\n",
    "1. **Menos código**: Você escreve menos e tem o mesmo resultado\n",
    "2. **Mais organizado**: A estrutura fica mais clara e fácil de entender\n",
    "3. **Automático**: Python cria automaticamente vários métodos úteis\n",
    "4. **Tipagem**: Ajuda a prevenir erros indicando o tipo de cada campo\n",
    "\n",
    "### No Nosso Código\n",
    "Usamos @dataclass para criar a estrutura que guarda as informações do cartão:\n",
    "```python\n",
    "@dataclass\n",
    "class CreditCardInfo:\n",
    "    card_name: Optional[str] = None    # Nome no cartão\n",
    "    card_number: Optional[str] = None  # Número do cartão\n",
    "    expiry_date: Optional[str] = None  # Data de validade\n",
    "    bank_name: Optional[str] = None    # Nome do banco\n",
    "```\n",
    "\n",
    "## Componentes do Sistema\n",
    "\n",
    "### 1. CreditCardInfo (A Ficha)\n",
    "- Guarda as informações extraídas do cartão\n",
    "- Cada informação pode estar presente ou ser None (opcional)\n",
    "- Campos são tipados para evitar erros\n",
    "\n",
    "### 2. CreditCardDetector (O Detector)\n",
    "- Classe principal que faz todo o trabalho\n",
    "- Conecta com o Azure\n",
    "- Processa a imagem\n",
    "- Extrai as informações\n",
    "\n",
    "### 3. Factory Function (O Criador)\n",
    "- Função que prepara e configura o detector\n",
    "- Verifica se tudo está correto antes de começar\n",
    "- Facilita a criação de novas instâncias\n",
    "\n",
    "## Como Funciona\n",
    "\n",
    "1. **Preparação**:\n",
    "   - Sistema se conecta ao Azure usando suas credenciais\n",
    "   - Valida se a URL da imagem é válida\n",
    "\n",
    "2. **Processamento**:\n",
    "   - Envia a imagem para o Azure\n",
    "   - Azure analisa a imagem usando IA\n",
    "   - Extrai as informações do cartão\n",
    "\n",
    "3. **Resultado**:\n",
    "   - Organiza as informações encontradas\n",
    "   - Retorna um objeto CreditCardInfo preenchido\n",
    "   - Trata possíveis erros\n",
    "\n",
    "## Configuração\n",
    "\n",
    "### Pré-requisitos\n",
    "1. Conta no Azure\n",
    "2. Serviço Document Intelligence configurado\n",
    "3. Python instalado\n",
    "4. Bibliotecas necessárias\n",
    "\n",
    "### Arquivo de Configuração\n",
    "```python\n",
    "# utils/Config.py\n",
    "class Config:\n",
    "    ENDPOINT = \"sua_url_do_azure\"\n",
    "    KEY = \"sua_chave_do_azure\"\n",
    "```\n",
    "\n",
    "## Como Usar\n",
    "\n",
    "### Uso Básico\n",
    "```python\n",
    "# 1. Importe o necessário\n",
    "from seu_modulo import create_credit_card_detector\n",
    "\n",
    "# 2. Crie o detector\n",
    "detector = create_credit_card_detector()\n",
    "\n",
    "# 3. Use o detector\n",
    "async def processar_cartao():\n",
    "    card_info = await detector.detect_credit_card_info(\"url_da_imagem\")\n",
    "    print(f\"Nome no cartão: {card_info.card_name}\")\n",
    "```\n",
    "\n",
    "### Uso Completo com Tratamento de Erros\n",
    "```python\n",
    "async def processar_cartao_seguro():\n",
    "    try:\n",
    "        # Criar detector\n",
    "        detector = create_credit_card_detector()\n",
    "        \n",
    "        # Processar imagem\n",
    "        card_info = await detector.detect_credit_card_info(\"url_da_imagem\")\n",
    "        \n",
    "        # Verificar resultado\n",
    "        if card_info:\n",
    "            print(\"Informações encontradas:\")\n",
    "            print(f\"Nome: {card_info.card_name}\")\n",
    "            print(f\"Número: {card_info.card_number}\")\n",
    "            print(f\"Validade: {card_info.expiry_date}\")\n",
    "            print(f\"Banco: {card_info.bank_name}\")\n",
    "        else:\n",
    "            print(\"Nenhuma informação encontrada\")\n",
    "            \n",
    "    except ValueError as e:\n",
    "        print(f\"Erro de validação: {e}\")\n",
    "    except Exception as e:\n",
    "        print(f\"Erro inesperado: {e}\")\n",
    "```\n",
    "\n",
    "## Exemplos Práticos\n",
    "\n",
    "### Exemplo 1: Processamento Simples\n",
    "```python\n",
    "detector = create_credit_card_detector()\n",
    "info = await detector.detect_credit_card_info(\"https://exemplo.com/cartao.jpg\")\n",
    "print(f\"Cartão encontrado: {info.card_number}\")\n",
    "```\n",
    "\n",
    "### Exemplo 2: Verificação Completa\n",
    "```python\n",
    "detector = create_credit_card_detector()\n",
    "info = await detector.detect_credit_card_info(\"https://exemplo.com/cartao.jpg\")\n",
    "\n",
    "if info.card_name and info.card_number:\n",
    "    print(\"Cartão válido encontrado!\")\n",
    "else:\n",
    "    print(\"Informações incompletas\")\n",
    "```\n",
    "\n",
    "## Tratamento de Erros\n",
    "\n",
    "O sistema trata vários tipos de erros:\n",
    "\n",
    "1. **Erros de Configuração**:\n",
    "   - Credenciais ausentes\n",
    "   - Configuração incorreta\n",
    "\n",
    "2. **Erros de URL**:\n",
    "   - URL inválida\n",
    "   - Imagem inacessível\n",
    "\n",
    "3. **Erros de Processamento**:\n",
    "   - Falha na análise\n",
    "   - Timeout\n",
    "   - Problemas de rede\n",
    "\n",
    "## Perguntas Frequentes\n",
    "\n",
    "### 1. Por que usar async/await?\n",
    "Para melhor performance com múltiplas requisições e para não travar o programa enquanto processa.\n",
    "\n",
    "### 2. O sistema é seguro?\n",
    "Sim, usa credenciais do Azure e validações de segurança.\n",
    "\n",
    "### 3. Que tipos de imagem são aceitos?\n",
    "JPG, PNG e outros formatos comuns de imagem.\n",
    "\n",
    "### 4. Preciso de internet?\n",
    "Sim, o sistema usa o Azure, que é um serviço online.\n",
    "\n",
    "### 5. O que significa Optional[str]?\n",
    "Significa que o campo pode ter um texto (str) ou ser vazio (None).\n",
    "\n",
    "---\n",
    "\n",
    "## Dicas de Uso\n",
    "\n",
    "1. **Sempre trate erros**:\n",
    "   ```python\n",
    "   try:\n",
    "       resultado = await detector.detect_credit_card_info(url)\n",
    "   except Exception as e:\n",
    "       print(f\"Ops, algo deu errado: {e}\")\n",
    "   ```\n",
    "\n",
    "2. **Verifique os resultados**:\n",
    "   ```python\n",
    "   if info.card_number:\n",
    "       print(\"Número encontrado!\")\n",
    "   else:\n",
    "       print(\"Número não encontrado\")\n",
    "   ```\n",
    "\n",
    "3. **Use boas imagens**:\n",
    "   - Boa iluminação\n",
    "   - Sem reflexos\n",
    "   - Cartão bem visível\n",
    "\n"
   ]
  },
  {
   "cell_type": "code",
   "execution_count": 87,
   "id": "b0cb12e8-664b-49d4-9861-2b6ae885e5fc",
   "metadata": {},
   "outputs": [
    {
     "name": "stdout",
     "output_type": "stream",
     "text": [
      "Cartão válido encontrado!\n"
     ]
    }
   ],
   "source": [
    "detector = create_credit_card_detector()\n",
    "info = await detector.detect_credit_card_info(\"https://stdiolab2.blob.core.windows.net/cartoes/imgagem.png\")\n",
    "\n",
    "if info.card_name and info.card_number:\n",
    "    print(\"Cartão válido encontrado!\")\n",
    "else:\n",
    "    print(\"Informações incompletas\")"
   ]
  },
  {
   "cell_type": "code",
   "execution_count": 93,
   "id": "f160b3fe-a79e-4076-b496-e3a6cf20492d",
   "metadata": {},
   "outputs": [
    {
     "name": "stdout",
     "output_type": "stream",
     "text": [
      "Cartão encontrado: 4000 1234 5678 9012\n"
     ]
    }
   ],
   "source": [
    "detector = create_credit_card_detector()\n",
    "info = await detector.detect_credit_card_info(\"https://stdiolab2.blob.core.windows.net/cartoes/imgagem.png\")\n",
    "print(f\"Cartão encontrado: {info.card_number}\")"
   ]
  },
  {
   "cell_type": "code",
   "execution_count": 105,
   "id": "b96ed5b6-1af1-4553-b812-bff092e93775",
   "metadata": {},
   "outputs": [
    {
     "name": "stdout",
     "output_type": "stream",
     "text": [
      "Informações encontradas:\n",
      "Nome: ADAM SMITH\n",
      "Número: 4000 1234 5678 9012\n",
      "Validade: None\n",
      "Banco: None\n"
     ]
    }
   ],
   "source": [
    "# Criar detector\n",
    "detector = create_credit_card_detector()\n",
    "\n",
    "# Processar imagem\n",
    "card_info = await detector.detect_credit_card_info(\"https://stdiolab2.blob.core.windows.net/cartoes/imgagem.png\")\n",
    "\n",
    "# Verificar resultado\n",
    "if card_info:\n",
    "    print(\"Informações encontradas:\")\n",
    "    print(f\"Nome: {card_info.card_name}\")\n",
    "    print(f\"Número: {card_info.card_number}\")\n",
    "    print(f\"Validade: {card_info.expiry_date}\")\n",
    "    print(f\"Banco: {card_info.bank_name}\")\n",
    "else:\n",
    "    print(\"Nenhuma informação encontrada\")\n",
    "    \n",
    "    "
   ]
  },
  {
   "cell_type": "code",
   "execution_count": 102,
   "id": "22234a4c-9abd-44a7-ac9d-d2d6fd93ec79",
   "metadata": {},
   "outputs": [
    {
     "data": {
      "text/plain": [
       "<coroutine object processar_cartao_seguro at 0x7f18bad83840>"
      ]
     },
     "execution_count": 102,
     "metadata": {},
     "output_type": "execute_result"
    }
   ],
   "source": []
  },
  {
   "cell_type": "code",
   "execution_count": 99,
   "id": "f11f5416-cc79-4b47-b606-b162941d887f",
   "metadata": {},
   "outputs": [
    {
     "ename": "AttributeError",
     "evalue": "'coroutine' object has no attribute 'card_info'",
     "output_type": "error",
     "traceback": [
      "\u001b[0;31m---------------------------------------------------------------------------\u001b[0m",
      "\u001b[0;31mAttributeError\u001b[0m                            Traceback (most recent call last)",
      "Cell \u001b[0;32mIn[99], line 1\u001b[0m\n\u001b[0;32m----> 1\u001b[0m \u001b[43mtest\u001b[49m\u001b[38;5;241;43m.\u001b[39;49m\u001b[43mcard_info\u001b[49m\n",
      "\u001b[0;31mAttributeError\u001b[0m: 'coroutine' object has no attribute 'card_info'"
     ]
    }
   ],
   "source": [
    "test.card_info"
   ]
  },
  {
   "cell_type": "code",
   "execution_count": null,
   "id": "e8b16a7b-ba72-4f83-b0e2-98baa67d6d59",
   "metadata": {},
   "outputs": [],
   "source": []
  },
  {
   "cell_type": "markdown",
   "id": "cd9299a6-1a90-48f4-a8f8-deadd8796f1b",
   "metadata": {},
   "source": [
    "## 05/11/24: refatoração:"
   ]
  },
  {
   "cell_type": "markdown",
   "id": "fdb4c0fb-ad0b-4555-a533-658593162fce",
   "metadata": {},
   "source": [
    "## Montei um cronograma para finalizar o desafio, vamos lá então!"
   ]
  },
  {
   "cell_type": "markdown",
   "id": "0a55edf7-2a7e-4ba0-956a-6fc2114072d2",
   "metadata": {},
   "source": [
    "**Vamos imaginar que comecei a trabalhar na empresa X e recebi a seguinte demanda:**"
   ]
  },
  {
   "cell_type": "markdown",
   "id": "0114846a-7237-407b-8d08-474301a24564",
   "metadata": {},
   "source": [
    "* **Você foi encarregado de criar uma Prova de Conceito (POC) para um projeto de validação de cartões de crédito. A empresa deseja adicionar uma funcionalidade para armazenar os dados dos cartões de crédito dos clientes em um banco de dados, que, para esta etapa inicial, pode ser um SQLite. Entretanto, antes de armazenar as informações, o sistema precisa validar se a imagem enviada pelo cliente realmente é de um cartão de crédito e se contém os seguintes dados: número do cartão, data de validade, nome do banco e nome do cliente.**\n",
    "\n",
    "* **Por se tratar de uma POC, os dados capturados não serão tratados com foco na LGPD ou em outras medidas de segurança, pois essa responsabilidade será delegada a outra equipe em uma fase posterior. Seu objetivo, portanto, é entregar uma interface frontend onde o cliente possa fazer o upload de uma imagem do cartão de crédito para o Azure Blob Storage. Após o upload, o Azure fornecerá um link URL para a imagem, que será validada utilizando o serviço Azure.AI.DocumentIntelligence. Em seguida, os dados extraídos serão enviados ao banco de dados SQLite.**\n",
    "\n",
    "* **O prazo para entrega da solução é de 2 dias.**"
   ]
  },
  {
   "cell_type": "markdown",
   "id": "01ea6b6e-f441-425f-9add-780a360b6329",
   "metadata": {},
   "source": [
    "##  Sua Missão: Validar Cartões de Crédito com IA \n",
    "\n",
    "**O que você precisa fazer:**\n",
    "\n",
    "1. **Criar um frontend simples:** Um sistema onde o cliente pode enviar uma imagem do seu cartão de crédito.\n",
    "2. **Armazenar a imagem na nuvem:** Utilize o Azure Storage para guardar a imagem enviada e gerar um link URL para acessá-la.\n",
    "3. **Extrair informações do cartão:** Implemente a validação usando o Azure Document Intelligence para identificar os dados do cartão, como número, data de validade, nome do banco e nome do cliente.\n",
    "4. **Validar a imagem:**  Verifique se a imagem realmente corresponde a um cartão de crédito, analisando se todas as informações essenciais estão presentes.\n",
    "5. **Armazenar os dados extraídos:** Utilize um banco de dados SQLite para armazenar os dados extraídos do cartão, mas lembre-se que este é apenas para fins de demonstração, a segurança de dados será tratada em uma etapa posterior.\n"
   ]
  },
  {
   "cell_type": "markdown",
   "id": "42a0bcf0-216f-44bf-80f6-b60dfd2683fd",
   "metadata": {},
   "source": [
    "## Cronograma para o Projeto: Validador de Cartões de Crédito\n",
    "\n",
    "**Objetivo:** Entregar uma Prova de Conceito (POC) funcional do validador de cartões de crédito em 2 dias.\n",
    "\n",
    "**Tempo:** 2 dias (48 horas)\n",
    "\n",
    "**Equipes:** 1 Desenvolvedor\n",
    "\n",
    "**Checklist Geral:**\n",
    "\n",
    "[ ] Frontend (Interface do Usuário)\n",
    "[ ] Azure Storage (Armazenamento de Imagem)\n",
    "[ ] Azure Document Intelligence (Extração de Informações)\n",
    "[ ] Validação da Imagem\n",
    "[ ] Banco de Dados SQLite (Armazenamento de Dados)\n",
    "[ ] Documentação e Apresentação\n",
    "\n",
    "### Dia 1:\n",
    "\n",
    "**Manhã (9h - 12h):**\n",
    "\n",
    "**Tarefa 1: Configuração do Ambiente**\n",
    "\n",
    "* [ ] Configurar ambiente de desenvolvimento (Jupyter Lab/IDE) e criar projeto.\n",
    "* [ ] Instalar bibliotecas necessárias (Streamlit, Azure SDK, SQLite).\n",
    "* [ ] Criar arquivo de configurações para credenciais do Azure.\n",
    "* [ ] Criar banco de dados SQLite.\n",
    "\n",
    "**Tarefa 2: Frontend (Interface do Usuário)**\n",
    "\n",
    "* [ ] Criar layout simples com Streamlit:\n",
    "    * [ ] Opção de upload de arquivo de imagem.\n",
    "    * [ ] Botão para iniciar a validação.\n",
    "    * [ ] Área para exibir o resultado da validação.\n",
    "* [ ] Adicionar instruções para o usuário.\n",
    "\n",
    "**Tarde (14h - 17h):**\n",
    "\n",
    "**Tarefa 3: Upload e Armazenamento na Nuvem**\n",
    "\n",
    "* [ ] Implementar upload de imagem para o Azure Storage:\n",
    "    * [ ] Criar função para conectar ao Azure Storage.\n",
    "    * [ ] Criar função para fazer o upload da imagem.\n",
    "    * [ ] Gerar URL da imagem no Azure Storage.\n",
    "* [ ] Exibir a URL da imagem na interface.\n",
    "\n",
    "**Tarefa 4: Extração de Informações**\n",
    "\n",
    "* [ ] Implementar a extração de informações do cartão:\n",
    "    * [ ] Criar função para conectar ao Azure Document Intelligence.\n",
    "    * [ ] Criar função para analisar a imagem do cartão.\n",
    "    * [ ] Extrair informações do cartão (número, data de validade, nome do banco, nome do cliente).\n",
    "\n",
    "### Dia 2:\n",
    "\n",
    "**Manhã (9h - 12h):**\n",
    "\n",
    "**Tarefa 5: Validação da Imagem**\n",
    "\n",
    "* [ ] Criar função para validar as informações extraídas:\n",
    "    * [ ] Verificar se todas as informações essenciais foram extraídas.\n",
    "    * [ ] Validar o formato dos dados (número do cartão, data, etc.).\n",
    "* [ ] Exibir na interface o resultado da validação: \n",
    "    * [ ] Mensagem de sucesso se a validação for bem-sucedida.\n",
    "    * [ ] Mensagem de erro caso contrário.\n",
    "\n",
    "**Tarefa 6: Armazenamento dos Dados**\n",
    "\n",
    "* [ ] Implementar a função para armazenar os dados no SQLite:\n",
    "    * [ ] Criar tabela no banco de dados SQLite para armazenar os dados extraídos.\n",
    "    * [ ] Criar função para inserir as informações extraídas no banco de dados.\n",
    "\n",
    "**Tarde (14h - 17h):**\n",
    "\n",
    "**Tarefa 7: Testes e Documentação**\n",
    "\n",
    "* [ ] Testar a POC com diferentes imagens de cartão de crédito.\n",
    "* [ ] Revisar o código e corrigir erros.\n",
    "* [ ] Criar documentação da POC:\n",
    "    * [ ] Descrição da funcionalidade.\n",
    "    * [ ] Instruções de uso.\n",
    "    * [ ] Arquivos de código.\n",
    "    * [ ] Diagrama da arquitetura.\n",
    "\n",
    "**Tarefa 8: Apresentação**\n",
    "\n",
    "* [ ] Preparar uma apresentação concisa da POC, destacando as funcionalidades e os desafios encontrados.\n",
    "* [ ] Apresentar a POC para a equipe, demonstrando o funcionamento do sistema.\n"
   ]
  },
  {
   "cell_type": "markdown",
   "id": "28334495-de56-4016-abb4-159a5ddea1d0",
   "metadata": {},
   "source": [
    "### Dia 1:\n",
    "\n",
    "**Manhã (9h - 12h):**\n",
    "\n",
    "**Tarefa 1: Configuração do Ambiente**\n",
    "\n",
    "* [x] Configurar ambiente de desenvolvimento (Jupyter Lab/IDE) e criar projeto.\n",
    "* [x] Instalar bibliotecas necessárias (Streamlit, Azure SDK, SQLite).\n",
    "* [x] Criar arquivo de configurações para credenciais do Azure.\n",
    "* [x] Criar banco de dados SQLite."
   ]
  },
  {
   "cell_type": "markdown",
   "id": "d651a566-0e4a-4cec-bd6e-1c6ccad74b38",
   "metadata": {},
   "source": [
    "**1. Configuração do ambiente:**\n",
    "\n",
    "* [x] **Criar um ambiente virtual com Poetry:**\n",
    "    ```bash\n",
    "    poetry init -n\n",
    "    poetry add azure-storage-blob azure-ai-documentintelligence azure-core streamlit sqlite3 python-dotenv requests\n",
    "    ```\n",
    "* [x] **Criar um repositório no GitHub:**\n",
    "    * Acesse o GitHub e crie um novo repositório.\n",
    "* [x] **Clonar o repositório localmente:**\n",
    "    ```bash\n",
    "    git clone <url do repositório>\n",
    "    ```\n",
    "* [x] **Ativar o ambiente virtual:**\n",
    "    ```bash\n",
    "    poetry shell\n",
    "    ```"
   ]
  },
  {
   "cell_type": "markdown",
   "id": "39f589d1-3025-48a6-8687-0193f1c48fcd",
   "metadata": {},
   "source": [
    "- [x] **Criar arquivo de configurações para as credenciais do Azure:**"
   ]
  },
  {
   "cell_type": "code",
   "execution_count": 39,
   "id": "c8654e1c-ccb7-4f18-bf5e-fbfc96e3ec50",
   "metadata": {},
   "outputs": [],
   "source": [
    "# src/utils/Config.py \n",
    "from dotenv import load_dotenv \n",
    "import os \n",
    "load_dotenv() \n",
    "class Config: \n",
    "    # Azure Document Intelligence \n",
    "    ENDPOINT =  os.getenv(\"AZURE_DOC_INT_ENDPOINT\")\n",
    "    KEY = os.getenv(\"AZURE_DOC_INT_KEY\")\n",
    "    # Azure Blob Storoge\n",
    "    STORAGE_CONNECTION = os.getenv(\"AZURE_STORAGE_CONNECTION\")\n",
    "    CONTAINER_NAME = os.getenv(\"CONTAINER_NAME\")\n",
    "    # SQLite\n",
    "    DATABASE_PATH = \"desafio_2/data/cards.db\""
   ]
  },
  {
   "cell_type": "markdown",
   "id": "5ad83c1f-cb68-4da2-963e-195a12a21a1c",
   "metadata": {},
   "source": [
    "* * **Vale lembrar que já existe um arquivo `.env` na raiz do projeto com as variáveis e seus respectivos dados de forma parcialmente segura.**\n",
    "  * **Estou criando todos os módulos do projeto aqui no jupyter para futuramente usar como uma documentação.**  "
   ]
  },
  {
   "cell_type": "markdown",
   "id": "d2a5776d-576e-4c6b-9f50-99e586a8c1f6",
   "metadata": {},
   "source": [
    "* **Criar a pasta utils na do projeto:**"
   ]
  },
  {
   "cell_type": "code",
   "execution_count": 59,
   "id": "06aeb1a1-c972-4206-99eb-fee01e88b452",
   "metadata": {},
   "outputs": [],
   "source": [
    "!mkdir desafio_2/src/utils"
   ]
  },
  {
   "cell_type": "markdown",
   "id": "d18ce08c-db51-4b8d-a71b-80d6f12fcbb9",
   "metadata": {},
   "source": [
    "* **Agora vamos enviar a célular abaixo como Config.py na pasta utils:**"
   ]
  },
  {
   "cell_type": "code",
   "execution_count": 4,
   "id": "cf351a09-7234-4a5d-afef-26d2260bcbfa",
   "metadata": {},
   "outputs": [
    {
     "name": "stdout",
     "output_type": "stream",
     "text": [
      "Overwriting src/utils/Config.py\n"
     ]
    }
   ],
   "source": [
    "%%writefile  src/utils/Config.py \n",
    "from dotenv import load_dotenv \n",
    "import os \n",
    "load_dotenv() \n",
    "class Config: \n",
    "    # Azure Document Intelligence \n",
    "    ENDPOINT =  os.getenv(\"AZURE_DOC_INT_ENDPOINT\")\n",
    "    KEY = os.getenv(\"AZURE_DOC_INT_KEY\")\n",
    "    # Azure Blob Storoge\n",
    "    STORAGE_CONNECTION = os.getenv(\"AZURE_STORAGE_CONNECTION\")\n",
    "    CONTAINER_NAME = os.getenv(\"CONTAINER_NAME\")\n",
    "    # SQLite\n",
    "    DATABASE_PATH = \"data/cards.db\""
   ]
  },
  {
   "cell_type": "markdown",
   "id": "e42d3131-40b3-4748-9f85-42d3edb4b387",
   "metadata": {},
   "source": [
    "* [x] **Criar banco de dados SQLite.**:"
   ]
  },
  {
   "cell_type": "code",
   "execution_count": 1,
   "id": "49e7ae6c-0be4-4bb4-9804-5784373e6003",
   "metadata": {},
   "outputs": [],
   "source": [
    "# src/services/data_base.py\n",
    "import sqlite3\n",
    "from typing import Dict, List, Optional\n",
    "from src.utils.Config import Config \n",
    "\n",
    "class DataBase:\n",
    "    def __init__(self):\n",
    "        self.db_path = Config.DATABASE_PATH\n",
    "        # self._create_table()\n",
    "    \n",
    "    def __init__(self):\n",
    "        self.db_path = Config.DATABASE_PATH\n",
    "        \n",
    "        with sqlite3.connect(self.db_path) as conn:\n",
    "            # Criar a tabela se não existir\n",
    "            cursor = conn.cursor()\n",
    "            cursor.execute('''\n",
    "                CREATE TABLE IF NOT EXISTS credit_cards (\n",
    "                    id INTEGER PRIMARY KEY AUTOINCREMENT,\n",
    "                    card_name TEXT,\n",
    "                    card_number TEXT,\n",
    "                    expiry_date TEXT,\n",
    "                    bank_name TEXT,\n",
    "                    is_valid TEXT,\n",
    "                    processed_at TEXT\n",
    "                )\n",
    "            ''')\n",
    "            conn.commit()\n",
    "    \n",
    "    def _execute_query(self, query: str, params: tuple = None) -> sqlite3.Cursor:\n",
    "        \"\"\"Executa uma query SQL.\"\"\"\n",
    "        with sqlite3.connect(self.db_path) as conn:\n",
    "            cursor = conn.cursor()\n",
    "            if params:\n",
    "                cursor.execute(query, params)\n",
    "            else:\n",
    "                cursor.execute(query)\n",
    "            conn.commit()\n",
    "            return cursor\n",
    "    \n",
    "    def insert_card(self, card_info: Dict[str, str]) -> int:\n",
    "        \"\"\"Insere um novo cartão no banco.\"\"\"\n",
    "        query = '''\n",
    "        INSERT INTO credit_cards (\n",
    "            card_name, card_number, expiry_date, \n",
    "            bank_name, is_valid, processed_at\n",
    "        ) VALUES (?, ?, ?, ?, ?, ?)\n",
    "        '''\n",
    "        cursor = self._execute_query(query, (\n",
    "            card_info['card_name'],\n",
    "            card_info['card_number'],\n",
    "            card_info['expiry_date'],\n",
    "            card_info['bank_name'],\n",
    "            card_info['is_valid'],\n",
    "            card_info['processed_at']\n",
    "        ))\n",
    "        return cursor.lastrowid\n",
    "    \n",
    "    def get_all_cards(self) -> List[Dict[str, str]]:\n",
    "        \"\"\"Retorna todos os cartões.\"\"\"\n",
    "        query = \"SELECT * FROM credit_cards\"\n",
    "        cursor = self._execute_query(query)\n",
    "        columns = [desc[0] for desc in cursor.description]\n",
    "        return [dict(zip(columns, row)) for row in cursor.fetchall()]\n",
    "    \n",
    "    def get_card_by_id(self, card_id: int) -> Optional[Dict[str, str]]:\n",
    "        \"\"\"Retorna um cartão específico.\"\"\"\n",
    "        query = \"SELECT * FROM credit_cards WHERE id = ?\"\n",
    "        cursor = self._execute_query(query, (card_id,))\n",
    "        row = cursor.fetchone()\n",
    "        if row:\n",
    "            columns = [desc[0] for desc in cursor.description]\n",
    "            return dict(zip(columns, row))\n",
    "        return None\n",
    "    \n",
    "    def update_card(self, card_id: int, card_info: Dict[str, str]) -> bool:\n",
    "        \"\"\"Atualiza um cartão existente.\"\"\"\n",
    "        query = '''\n",
    "        UPDATE credit_cards\n",
    "        SET card_name = ?, card_number = ?, expiry_date = ?,\n",
    "            bank_name = ?, is_valid = ?, processed_at = ?\n",
    "        WHERE id = ?\n",
    "        '''\n",
    "        cursor = self._execute_query(query, (\n",
    "            card_info['card_name'],\n",
    "            card_info['card_number'],\n",
    "            card_info['expiry_date'],\n",
    "            card_info['bank_name'],\n",
    "            card_info['is_valid'],\n",
    "            card_info['processed_at'],\n",
    "            card_id\n",
    "        ))\n",
    "        return cursor.rowcount > 0\n",
    "    \n",
    "    def delete_card(self, card_id: int) -> bool:\n",
    "        \"\"\"Deleta um cartão.\"\"\"\n",
    "        query = \"DELETE FROM credit_cards WHERE id = ?\"\n",
    "        cursor = self._execute_query(query, (card_id,))\n",
    "        return cursor.rowcount > 0"
   ]
  },
  {
   "cell_type": "markdown",
   "id": "eff1b1f8-4bf6-4779-bcc1-2bb8a1f742be",
   "metadata": {},
   "source": [
    "* **Vamos criar a tabela e realizar alguns testes para garantir:**:"
   ]
  },
  {
   "cell_type": "markdown",
   "id": "f684f918-b067-4321-8271-074a898bdbbb",
   "metadata": {},
   "source": [
    "1- instanciar a classe e criar o banco caso não exista na path adicionado no Config: "
   ]
  },
  {
   "cell_type": "code",
   "execution_count": 2,
   "id": "e2c41924-7ff5-4fde-9496-951c83f4b4b8",
   "metadata": {},
   "outputs": [],
   "source": [
    "db = DataBase()"
   ]
  },
  {
   "cell_type": "markdown",
   "id": "227ebeaa-0ecd-4b95-ae8d-ae14b44b3e89",
   "metadata": {},
   "source": [
    "2-  Inserir um novo cartão:"
   ]
  },
  {
   "cell_type": "code",
   "execution_count": 4,
   "id": "e23b76f1-3d56-4c43-82f0-2e934241c72d",
   "metadata": {},
   "outputs": [
    {
     "name": "stdout",
     "output_type": "stream",
     "text": [
      "Cartão inserido com ID: 1\n"
     ]
    }
   ],
   "source": [
    "card_info = {\n",
    "    'card_name': 'João da Silva',\n",
    "    'card_number': '1234567890123456',\n",
    "    'expiry_date': '12/25',\n",
    "    'bank_name': 'Banco do Brasil',\n",
    "    'is_valid': 'True',\n",
    "    'processed_at': '2023-10-26T10:00:00'\n",
    "}\n",
    "card_id = db.insert_card(card_info)\n",
    "print(f\"Cartão inserido com ID: {card_id}\")"
   ]
  },
  {
   "cell_type": "markdown",
   "id": "f4c02a0b-4782-4f3d-97e4-5c4a917e0c8f",
   "metadata": {},
   "source": [
    "3- Obter todos os cartões:"
   ]
  },
  {
   "cell_type": "code",
   "execution_count": 5,
   "id": "34f3b6b1-db02-40cc-9cb0-b57290ba8a3d",
   "metadata": {},
   "outputs": [
    {
     "name": "stdout",
     "output_type": "stream",
     "text": [
      "Todos os cartões:\n",
      "{'id': 1, 'card_name': 'João da Silva', 'card_number': '1234567890123456', 'expiry_date': '12/25', 'bank_name': 'Banco do Brasil', 'is_valid': 'True', 'processed_at': '2023-10-26T10:00:00'}\n"
     ]
    }
   ],
   "source": [
    "cards = db.get_all_cards()\n",
    "print(\"Todos os cartões:\")\n",
    "for card in cards:\n",
    "    print(card)"
   ]
  },
  {
   "cell_type": "markdown",
   "id": "dab8033f-3088-404b-9da8-26696adc41b2",
   "metadata": {},
   "source": [
    "4- Atualizar um cartão existente:"
   ]
  },
  {
   "cell_type": "code",
   "execution_count": 6,
   "id": "f467768f-ed72-49a7-a0be-f132a481e1ed",
   "metadata": {},
   "outputs": [
    {
     "name": "stdout",
     "output_type": "stream",
     "text": [
      "Cartão atualizado: True\n"
     ]
    }
   ],
   "source": [
    "card_info['card_name'] = 'Maria da Silva'\n",
    "updated = db.update_card(1, card_info)\n",
    "print(f\"Cartão atualizado: {updated}\")"
   ]
  },
  {
   "cell_type": "markdown",
   "id": "553f26fe-b89c-4526-9da7-fd963910fc5b",
   "metadata": {},
   "source": [
    "5- Conferir se o cartão foi atualizado:"
   ]
  },
  {
   "cell_type": "code",
   "execution_count": 7,
   "id": "1036bff9-1acd-4c2d-896a-982de090f5f6",
   "metadata": {},
   "outputs": [
    {
     "name": "stdout",
     "output_type": "stream",
     "text": [
      "Todos os cartões:\n",
      "{'id': 1, 'card_name': 'Maria da Silva', 'card_number': '1234567890123456', 'expiry_date': '12/25', 'bank_name': 'Banco do Brasil', 'is_valid': 'True', 'processed_at': '2023-10-26T10:00:00'}\n"
     ]
    }
   ],
   "source": [
    "cards = db.get_all_cards()\n",
    "print(\"Todos os cartões:\")\n",
    "for card in cards:\n",
    "    print(card)"
   ]
  },
  {
   "cell_type": "markdown",
   "id": "b42e6d38-ea0d-416a-8644-885ea6e61041",
   "metadata": {},
   "source": [
    "6- Deletar um cartão: "
   ]
  },
  {
   "cell_type": "code",
   "execution_count": 8,
   "id": "6f71f9bd-6506-42b7-a6e0-0236d4bd5b1e",
   "metadata": {},
   "outputs": [
    {
     "name": "stdout",
     "output_type": "stream",
     "text": [
      "Cartão deletado: True\n"
     ]
    }
   ],
   "source": [
    "deleted = db.delete_card(1)\n",
    "print(f\"Cartão deletado: {deleted}\")"
   ]
  },
  {
   "cell_type": "markdown",
   "id": "3e1b6edc-7db6-4288-94f2-965b4b435cd1",
   "metadata": {},
   "source": [
    "* **Aparentemente o código está funcional**"
   ]
  },
  {
   "cell_type": "markdown",
   "id": "1089c95f-c05d-430e-90d4-9d426e120c56",
   "metadata": {},
   "source": [
    "* **Vamos criar a pasta services que irá acomodar nosso scritpy data_base.py:**"
   ]
  },
  {
   "cell_type": "code",
   "execution_count": 9,
   "id": "2f7186f1-88b5-47e2-884f-497eb1d9e011",
   "metadata": {},
   "outputs": [],
   "source": [
    "!mkdir src/services"
   ]
  },
  {
   "cell_type": "markdown",
   "id": "b8ae9255-9e18-4de3-b70b-64f0d9ba3af2",
   "metadata": {},
   "source": [
    "* **Agora vamos enviar o script para pasta services.**:"
   ]
  },
  {
   "cell_type": "code",
   "execution_count": 11,
   "id": "53217bd4-b0aa-4bfa-930b-4ed209b81bdf",
   "metadata": {},
   "outputs": [
    {
     "name": "stdout",
     "output_type": "stream",
     "text": [
      "Writing src/services/data_base.py\n"
     ]
    }
   ],
   "source": [
    "%%writefile src/services/data_base.py\n",
    "import sqlite3\n",
    "from typing import Dict, List, Optional\n",
    "from src.utils.Config import Config \n",
    "\n",
    "class DataBase:\n",
    "    def __init__(self):\n",
    "        self.db_path = Config.DATABASE_PATH\n",
    "        # self._create_table()\n",
    "    \n",
    "    def __init__(self):\n",
    "        self.db_path = Config.DATABASE_PATH\n",
    "        \n",
    "        with sqlite3.connect(self.db_path) as conn:\n",
    "            # Criar a tabela se não existir\n",
    "            cursor = conn.cursor()\n",
    "            cursor.execute('''\n",
    "                CREATE TABLE IF NOT EXISTS credit_cards (\n",
    "                    id INTEGER PRIMARY KEY AUTOINCREMENT,\n",
    "                    card_name TEXT,\n",
    "                    card_number TEXT,\n",
    "                    expiry_date TEXT,\n",
    "                    bank_name TEXT,\n",
    "                    is_valid TEXT,\n",
    "                    processed_at TEXT\n",
    "                )\n",
    "            ''')\n",
    "            conn.commit()\n",
    "    \n",
    "    def _execute_query(self, query: str, params: tuple = None) -> sqlite3.Cursor:\n",
    "        \"\"\"Executa uma query SQL.\"\"\"\n",
    "        with sqlite3.connect(self.db_path) as conn:\n",
    "            cursor = conn.cursor()\n",
    "            if params:\n",
    "                cursor.execute(query, params)\n",
    "            else:\n",
    "                cursor.execute(query)\n",
    "            conn.commit()\n",
    "            return cursor\n",
    "    \n",
    "    def insert_card(self, card_info: Dict[str, str]) -> int:\n",
    "        \"\"\"Insere um novo cartão no banco.\"\"\"\n",
    "        query = '''\n",
    "        INSERT INTO credit_cards (\n",
    "            card_name, card_number, expiry_date, \n",
    "            bank_name, is_valid, processed_at\n",
    "        ) VALUES (?, ?, ?, ?, ?, ?)\n",
    "        '''\n",
    "        cursor = self._execute_query(query, (\n",
    "            card_info['card_name'],\n",
    "            card_info['card_number'],\n",
    "            card_info['expiry_date'],\n",
    "            card_info['bank_name'],\n",
    "            card_info['is_valid'],\n",
    "            card_info['processed_at']\n",
    "        ))\n",
    "        return cursor.lastrowid\n",
    "    \n",
    "    def get_all_cards(self) -> List[Dict[str, str]]:\n",
    "        \"\"\"Retorna todos os cartões.\"\"\"\n",
    "        query = \"SELECT * FROM credit_cards\"\n",
    "        cursor = self._execute_query(query)\n",
    "        columns = [desc[0] for desc in cursor.description]\n",
    "        return [dict(zip(columns, row)) for row in cursor.fetchall()]\n",
    "    \n",
    "    def get_card_by_id(self, card_id: int) -> Optional[Dict[str, str]]:\n",
    "        \"\"\"Retorna um cartão específico.\"\"\"\n",
    "        query = \"SELECT * FROM credit_cards WHERE id = ?\"\n",
    "        cursor = self._execute_query(query, (card_id,))\n",
    "        row = cursor.fetchone()\n",
    "        if row:\n",
    "            columns = [desc[0] for desc in cursor.description]\n",
    "            return dict(zip(columns, row))\n",
    "        return None\n",
    "    \n",
    "    def update_card(self, card_id: int, card_info: Dict[str, str]) -> bool:\n",
    "        \"\"\"Atualiza um cartão existente.\"\"\"\n",
    "        query = '''\n",
    "        UPDATE credit_cards\n",
    "        SET card_name = ?, card_number = ?, expiry_date = ?,\n",
    "            bank_name = ?, is_valid = ?, processed_at = ?\n",
    "        WHERE id = ?\n",
    "        '''\n",
    "        cursor = self._execute_query(query, (\n",
    "            card_info['card_name'],\n",
    "            card_info['card_number'],\n",
    "            card_info['expiry_date'],\n",
    "            card_info['bank_name'],\n",
    "            card_info['is_valid'],\n",
    "            card_info['processed_at'],\n",
    "            card_id\n",
    "        ))\n",
    "        return cursor.rowcount > 0\n",
    "    \n",
    "    def delete_card(self, card_id: int) -> bool:\n",
    "        \"\"\"Deleta um cartão.\"\"\"\n",
    "        query = \"DELETE FROM credit_cards WHERE id = ?\"\n",
    "        cursor = self._execute_query(query, (card_id,))\n",
    "        return cursor.rowcount > 0"
   ]
  },
  {
   "cell_type": "markdown",
   "id": "4b12ca59-3bd8-4237-8020-9c5636143072",
   "metadata": {},
   "source": [
    "* **Bom tarefa 1 concluída, agora vamos criar uma branch e enviar para o repositório e abir a `pr` para aprovação.**"
   ]
  },
  {
   "cell_type": "code",
   "execution_count": 13,
   "id": "958aa1b0-faa8-406f-9ec6-d6a0ce0f8e48",
   "metadata": {},
   "outputs": [
    {
     "name": "stdout",
     "output_type": "stream",
     "text": [
      "Switched to a new branch 'task1'\n"
     ]
    }
   ],
   "source": [
    "!git checkout -b task1"
   ]
  },
  {
   "cell_type": "markdown",
   "id": "6f6b07e9-77f8-4fa7-9413-d0e4477c0430",
   "metadata": {},
   "source": [
    "* **Conferindo se a branch foi setada corretamente.**:"
   ]
  },
  {
   "cell_type": "code",
   "execution_count": 15,
   "id": "e670f751-e610-4c3a-9463-a5f9149af7c2",
   "metadata": {},
   "outputs": [
    {
     "name": "stdout",
     "output_type": "stream",
     "text": [
      "  master\u001b[m\n",
      "* \u001b[32mtask1\u001b[m\n"
     ]
    }
   ],
   "source": [
    "!git branch"
   ]
  },
  {
   "cell_type": "markdown",
   "id": "24d73d43-4785-4e85-8aff-4e8565b35d11",
   "metadata": {},
   "source": [
    "* **Verificando o status**: "
   ]
  },
  {
   "cell_type": "code",
   "execution_count": 16,
   "id": "a77f4c2e-6446-4a6f-acc2-604dd521749a",
   "metadata": {},
   "outputs": [
    {
     "name": "stdout",
     "output_type": "stream",
     "text": [
      "On branch task1\n",
      "Changes not staged for commit:\n",
      "  (use \"git add/rm <file>...\" to update what will be committed)\n",
      "  (use \"git restore <file>...\" to discard changes in working directory)\n",
      "\t\u001b[31mdeleted:    ../PoC_desafio2.ipynb\u001b[m\n",
      "\n",
      "Untracked files:\n",
      "  (use \"git add <file>...\" to include in what will be committed)\n",
      "\t\u001b[31mPoC_desafio2.ipynb\u001b[m\n",
      "\t\u001b[31mdata/cards.db\u001b[m\n",
      "\t\u001b[31msrc/\u001b[m\n",
      "\n",
      "no changes added to commit (use \"git add\" and/or \"git commit -a\")\n"
     ]
    }
   ],
   "source": [
    "!git status"
   ]
  },
  {
   "cell_type": "markdown",
   "id": "b33fc2eb-86d8-4e09-bb1a-aba79de85efb",
   "metadata": {},
   "source": [
    "* **Adicionando ao staging todos os arquivos das pastas data e src**:"
   ]
  },
  {
   "cell_type": "code",
   "execution_count": 18,
   "id": "0ae79ef4-2e67-4f0c-a0ae-f67ed199a332",
   "metadata": {},
   "outputs": [],
   "source": [
    "!git add data/* src/*"
   ]
  },
  {
   "cell_type": "markdown",
   "id": "7a43563a-322e-44a1-89fc-fd5e304eb331",
   "metadata": {},
   "source": [
    "* **Realizando o commit**: "
   ]
  },
  {
   "cell_type": "code",
   "execution_count": 19,
   "id": "a51beaa8-2391-4a7c-9df2-ad8fa8e194e3",
   "metadata": {},
   "outputs": [
    {
     "name": "stdout",
     "output_type": "stream",
     "text": [
      "[task1 8101e93] add: task1 finalizada!\n",
      " 3 files changed, 110 insertions(+)\n",
      " create mode 100644 desafios_de_projeto/desafio_2/data/cards.db\n",
      " create mode 100644 desafios_de_projeto/desafio_2/src/services/data_base.py\n",
      " create mode 100644 desafios_de_projeto/desafio_2/src/utils/Config.py\n"
     ]
    }
   ],
   "source": [
    "!git commit -m \"add: task1 finalizada!\""
   ]
  },
  {
   "cell_type": "markdown",
   "id": "360a4a8a-b944-4ce6-83a8-f5fff9263dcb",
   "metadata": {},
   "source": [
    "* **Enviando as alterações para o repositório github:** "
   ]
  },
  {
   "cell_type": "code",
   "execution_count": 21,
   "id": "8fd03cdb-8b25-49df-a257-f5832e4d806d",
   "metadata": {},
   "outputs": [
    {
     "name": "stdout",
     "output_type": "stream",
     "text": [
      "Enumerating objects: 15, done.\n",
      "Counting objects: 100% (15/15), done.\n",
      "Delta compression using up to 24 threads\n",
      "Compressing objects: 100% (9/9), done.\n",
      "Writing objects: 100% (11/11), 2.12 KiB | 1.06 MiB/s, done.\n",
      "Total 11 (delta 3), reused 0 (delta 0), pack-reused 0\n",
      "remote: Resolving deltas: 100% (3/3), completed with 3 local objects.\u001b[K\n",
      "remote: \n",
      "remote: Create a pull request for 'task1' on GitHub by visiting:\u001b[K\n",
      "remote:      https://github.com/Jcnok/Bootcamp-Microsoft-Certification-Challenge--1-AI_102/pull/new/task1\u001b[K\n",
      "remote: \n",
      "To https://github.com/Jcnok/Bootcamp-Microsoft-Certification-Challenge--1-AI_102.git\n",
      " * [new branch]      task1 -> task1\n"
     ]
    }
   ],
   "source": [
    "!git push origin task1"
   ]
  },
  {
   "cell_type": "markdown",
   "id": "a22b3695-f099-4444-abbb-6db5e39dae6b",
   "metadata": {},
   "source": [
    "* **Criando a Pull Request:**"
   ]
  },
  {
   "cell_type": "markdown",
   "id": "5fe0a8fd-2bd1-4eae-9fb4-089974939bc2",
   "metadata": {},
   "source": [
    "![task1](img/pr_task1.jpg)"
   ]
  },
  {
   "cell_type": "markdown",
   "id": "d69e93b8-b39b-46e6-a968-e0cb69ba63d2",
   "metadata": {},
   "source": [
    "* **Maravilha agora é so criar a `pr` e partiu....🎆**\n",
    "* **Só que não 😒. A `pr` não foi aprovada pelo CI implantado.** "
   ]
  },
  {
   "cell_type": "markdown",
   "id": "b2d3dc35-f222-455f-832f-c4f0bbbf3abf",
   "metadata": {},
   "source": [
    "![task1_fail](img/pr_task1_fail.jpg)"
   ]
  },
  {
   "cell_type": "markdown",
   "id": "dc53452d-367a-4bb6-8eef-c534fbc4c8df",
   "metadata": {},
   "source": [
    "* **E agora? KKKK 😂 😓.**\n",
    "* **Vamos analisar clicando em detalhes**. "
   ]
  },
  {
   "cell_type": "markdown",
   "id": "4016fb3c-1c3f-4449-a053-81a6a37a5448",
   "metadata": {},
   "source": [
    "![task1_details](img/pr_task1_detail.jpg)"
   ]
  },
  {
   "cell_type": "markdown",
   "id": "721624a2-57c2-45af-9f8b-e96bcec83a49",
   "metadata": {},
   "source": [
    "* **erro de formatação como espaço em branco e algo como __init__ na linha 8 sem uso, algo desse tipo....**\n",
    "* **Isso é ruim, mas importante para manter a padronização e qualidade, mas o que fazer?.**\n",
    "* **Existem várias alternativas como acessar o código e resolver o problema, geralmente já existe um modelo de ambiente pré-configurado para você utilizar pela empresa, ou falar com seu chefe 🤭.**\n",
    "* **Bom primeiro vou tentar resolver e depois irei comentar sobre algumas ferramentas que nos ajudam nessas horas.**"
   ]
  },
  {
   "cell_type": "code",
   "execution_count": 23,
   "id": "203626fb-2e26-4cbd-a9f1-fdf0b48a1e32",
   "metadata": {},
   "outputs": [
    {
     "name": "stdout",
     "output_type": "stream",
     "text": [
      "Fixing /home/jcnok/bootcamps/Bootcamp-Microsoft-Certification-Challenge--1-AI_102/desafios_de_projeto/desafio_2/src/services/data_base.py\n",
      "Fixing /home/jcnok/bootcamps/Bootcamp-Microsoft-Certification-Challenge--1-AI_102/desafios_de_projeto/desafio_2/src/utils/Config.py\n",
      "Fixing /home/jcnok/bootcamps/Bootcamp-Microsoft-Certification-Challenge--1-AI_102/desafios_de_projeto/desafio_2/src/utils/.ipynb_checkpoints/Config-checkpoint.py\n",
      "\u001b[1mSkipping .ipynb files as Jupyter dependencies are not installed.\n",
      "You can fix this by running ``pip install \"black[jupyter]\"``\u001b[0m\n",
      "\u001b[1mreformatted /home/jcnok/bootcamps/Bootcamp-Microsoft-Certification-Challenge--1-AI_102/desafios_de_projeto/desafio_2/src/utils/Config.py\u001b[0m\n",
      "\u001b[1mreformatted /home/jcnok/bootcamps/Bootcamp-Microsoft-Certification-Challenge--1-AI_102/desafios_de_projeto/desafio_2/src/services/data_base.py\u001b[0m\n",
      "\n",
      "\u001b[1mAll done! ✨ 🍰 ✨\u001b[0m\n",
      "\u001b[34m\u001b[1m2 files \u001b[0m\u001b[1mreformatted\u001b[0m.\n",
      "\u001b[1msrc/services/data_base.py\u001b[m\u001b[36m:\u001b[m12\u001b[36m:\u001b[m5\u001b[36m:\u001b[m \u001b[1m\u001b[31mF811\u001b[m redefinition of unused '__init__' from line 8\n",
      "\u001b[1msrc/services/data_base.py\u001b[m\u001b[36m:\u001b[m48\u001b[36m:\u001b[m49\u001b[36m:\u001b[m \u001b[1m\u001b[31mW291\u001b[m trailing whitespace\n"
     ]
    }
   ],
   "source": [
    "# vou utilizar o isort, black e flacke8 em conjunto: \n",
    "!task format src/services/data_base.py"
   ]
  },
  {
   "cell_type": "markdown",
   "id": "c6bbc591-9f55-4254-8335-2aea02aa20d0",
   "metadata": {},
   "source": [
    "* **Veja que resultou no mesmo erro.**\n",
    "* **Vou acessar o arquivo e corrigir o erro, basicamente removi o __init__ que estava repetido e na linha 48 removi o espaço em branco.**\n",
    "* **Vamos veriricar se o erro foi corrido**."
   ]
  },
  {
   "cell_type": "code",
   "execution_count": 29,
   "id": "37a6ca61-92de-44ca-a358-676e4afa74b4",
   "metadata": {},
   "outputs": [
    {
     "name": "stdout",
     "output_type": "stream",
     "text": [
      "\u001b[1mSkipping .ipynb files as Jupyter dependencies are not installed.\n",
      "You can fix this by running ``pip install \"black[jupyter]\"``\u001b[0m\n",
      "\u001b[1mAll done! ✨ 🍰 ✨\u001b[0m\n",
      "\u001b[34m2 files \u001b[0mleft unchanged.\n"
     ]
    }
   ],
   "source": [
    "!task format src/services/data_base.py"
   ]
  },
  {
   "cell_type": "code",
   "execution_count": 31,
   "id": "5d9fce83-2de6-4f9f-9474-ee08302b429e",
   "metadata": {},
   "outputs": [],
   "source": [
    "!git add src/services/data_base.py"
   ]
  },
  {
   "cell_type": "code",
   "execution_count": 32,
   "id": "2515e5d5-b9db-4757-a167-78b4d85b7021",
   "metadata": {},
   "outputs": [
    {
     "name": "stdout",
     "output_type": "stream",
     "text": [
      "[task1 e117c29] fix task1\n",
      " 1 file changed, 42 insertions(+), 35 deletions(-)\n"
     ]
    }
   ],
   "source": [
    "!git commit -m \"fix task1\""
   ]
  },
  {
   "cell_type": "code",
   "execution_count": 33,
   "id": "324850b8-4c16-4a70-9b06-0da35fc9aec3",
   "metadata": {},
   "outputs": [
    {
     "name": "stdout",
     "output_type": "stream",
     "text": [
      "Enumerating objects: 13, done.\n",
      "Counting objects: 100% (13/13), done.\n",
      "Delta compression using up to 24 threads\n",
      "Compressing objects: 100% (6/6), done.\n",
      "Writing objects: 100% (7/7), 754 bytes | 754.00 KiB/s, done.\n",
      "Total 7 (delta 3), reused 0 (delta 0), pack-reused 0\n",
      "remote: Resolving deltas: 100% (3/3), completed with 3 local objects.\u001b[K\n",
      "To https://github.com/Jcnok/Bootcamp-Microsoft-Certification-Challenge--1-AI_102.git\n",
      "   8101e93..e117c29  task1 -> task1\n"
     ]
    }
   ],
   "source": [
    "!git push origin task1"
   ]
  },
  {
   "cell_type": "markdown",
   "id": "5a166ec0-b6a1-43dc-9df2-51e974710740",
   "metadata": {},
   "source": [
    "![task1_fix](img/pr_task1_fix.jpg)"
   ]
  },
  {
   "cell_type": "markdown",
   "id": "b7af25c9-f14d-42c8-8aee-b0c418867a07",
   "metadata": {},
   "source": [
    "* **Resolvido**.\n",
    "* **O ideal é utilizar as 🛠 de acordo com as regras já preestabelecidas, nesse caso `isort, black e flake8` irei comentar brevemente sobre:**"
   ]
  },
  {
   "cell_type": "markdown",
   "id": "e3782d16-5098-4876-8e01-b9ee93414621",
   "metadata": {},
   "source": [
    "**`isort`, `black` , `flake8` e `taskpy`: Ferramentas Essenciais para um Código Perfeito**\n",
    "\n",
    "* **`isort`:** Organiza as importações de seu código, agrupando-as de acordo com as melhores práticas e seguindo uma ordem definida. Isso melhora a legibilidade e consistência do código.\n",
    "* **`black`:** Formata automaticamente seu código Python, garantindo que o estilo seja consistente e que as convenções de estilo sejam seguidas. É uma ferramenta rigorosa e rápida, deixando você livre para se concentrar na lógica do código.\n",
    "* **`flake8`:** Verifica seu código em busca de erros de sintaxe, erros de estilo e convenções de código que podem levar a problemas de manutenção. Ele também identifica código morto e possíveis problemas de segurança.\n",
    "\n",
    "O `taskipy` é uma biblioteca Python que facilita a criação e a execução de tarefas automatizadas dentro de seus projetos. Ele permite definir e organizar tarefas complexas em arquivos de configuração simples, tornando o processo de desenvolvimento mais organizado e eficiente.\n",
    "\n",
    "**Vantagens de usar `taskipy`:**\n",
    "\n",
    "* **`taskpy`:** A grosso modo, ele cria um alias ao digitar **`task format`** executa as três verficicações **`isort`, `black` , `flake8`**.\n",
    "\n",
    "* **Mas e se eu esquecer de executar o `task format` como ocorreu no meu casso em que eu enviei ao repositório github e ocorreu o erro?**.\n",
    "\n",
    "* **Bom pra isso existe outra 🛠 , o `pre-commit`:\n",
    "\n",
    "O `pre-commit` é uma ferramenta poderosa que automatiza a execução de hooks (ganchos) antes de cada commit no Git. Esses hooks são scripts que verificam seu código em busca de erros, estilo inconsistente, problemas de segurança, etc., antes de você enviar as alterações para o repositório.\n",
    "\n",
    "**Importância do `pre-commit`:**\n",
    "\n",
    "* **Garante a qualidade do código:** Detecta erros e problemas de estilo antes de o código ser enviado para o repositório, evitando que problemas sérios se propaguem.\n",
    "* **Padroniza o código:** Assegura que todos os membros da equipe seguem as mesmas convenções de estilo, tornando o código mais consistente e legível.\n",
    "* **Economiza tempo:** Automatiza tarefas repetitivas de formatação e verificação, liberando você para se concentrar em escrever código.\n",
    "* **Melhora a colaboração:** Facilita a colaboração entre os desenvolvedores, pois todos podem ter certeza de que o código está sendo enviado com a qualidade desejada.\n",
    "* **Detecta problemas de segurança:** Algumas ferramentas do `pre-commit` podem identificar vulnerabilidades de segurança no código, ajudando a construir software mais seguro.\n",
    "\n",
    "### Em outro momento eu demosntro o funcionamento do `pre-commit` mas basicamente ele faz a verificação durante o commit e isso garante e nos obriga a correção antes mesmo de enviar ao github.\n",
    "### Vou ficando por aqui, se gostaram fico grato com um voto de confiança ✅. Valeuuuuuu...  \n"
   ]
  },
  {
   "cell_type": "code",
   "execution_count": null,
   "id": "57cae068-1fb4-409a-9811-640ecfaf531f",
   "metadata": {},
   "outputs": [],
   "source": []
  },
  {
   "cell_type": "markdown",
   "id": "4c4768ef-88f0-4dab-a6a1-044015036c8c",
   "metadata": {},
   "source": [
    "# 06/11  Task 2:"
   ]
  },
  {
   "cell_type": "markdown",
   "id": "fd16b9e5-3dab-4d19-8eff-4e0f7152a736",
   "metadata": {},
   "source": [
    "**Tarefa 2: Frontend (Interface do Usuário)**\n",
    "\n",
    "* [ ] Criar layout simples com Streamlit:\n",
    "    * [ ] Opção de upload de arquivo de imagem.\n",
    "    * [ ] Botão para iniciar a validação.\n",
    "    * [ ] Área para exibir o resultado da validação.\n",
    "* [ ] Adicionar instruções para o usuário."
   ]
  },
  {
   "cell_type": "markdown",
   "id": "cda5fc0f-c4f6-422a-b592-9682d01536ab",
   "metadata": {},
   "source": [
    "* A cereja do bolo, irei realizar por último. 🍒.  "
   ]
  },
  {
   "cell_type": "code",
   "execution_count": null,
   "id": "e21d5f5e-9491-4056-8f9f-9f2990f55ad0",
   "metadata": {},
   "outputs": [],
   "source": []
  },
  {
   "cell_type": "markdown",
   "id": "0fb8391e-1a9b-4717-96ec-6c31f54a569f",
   "metadata": {},
   "source": [
    "## Task 2:"
   ]
  },
  {
   "cell_type": "markdown",
   "id": "c1de6d76-7417-4448-8f39-edc898179d03",
   "metadata": {},
   "source": [
    "*Tarefa 2: Upload e Armazenamento na Nuvem**\n",
    "\n",
    "* [x] Implementar upload de imagem para o Azure Storage:\n",
    "    * [x] Criar função para conectar ao Azure Storage.\n",
    "    * [x] Criar função para fazer o upload da imagem.\n",
    "    * [x] Gerar URL da imagem no Azure Storage.\n",
    "* [x] Exibir a URL da imagem na interface."
   ]
  },
  {
   "cell_type": "markdown",
   "id": "f8be9f3a-673f-4740-aa48-7815a84f98a6",
   "metadata": {},
   "source": [
    "## Implementar upload de imagem para o Azure Storage:"
   ]
  },
  {
   "cell_type": "markdown",
   "id": "75b6d849-f269-458c-b10b-0164870e21a7",
   "metadata": {},
   "source": [
    "### 1.Criar função para conectar ao Azure Storage"
   ]
  },
  {
   "cell_type": "markdown",
   "id": "89216086-1a94-4237-a7f1-3a19d1c4f925",
   "metadata": {},
   "source": [
    "* **Primeiro vamos carregar nossas variáveis de ambiente da Config.py**"
   ]
  },
  {
   "cell_type": "code",
   "execution_count": 1,
   "id": "e914fda5-e479-453e-9cff-5ed072622352",
   "metadata": {},
   "outputs": [],
   "source": [
    "from src.utils.Config import Config"
   ]
  },
  {
   "cell_type": "markdown",
   "id": "7d7db27c-ea64-4cc3-af9e-0ff74814ec5b",
   "metadata": {},
   "source": [
    "* **Agora vamos conferir se a variável foi carregada corretamente**: "
   ]
  },
  {
   "cell_type": "code",
   "execution_count": 3,
   "id": "2b808f77-b75b-4553-8e8d-029ff0a8e979",
   "metadata": {},
   "outputs": [
    {
     "data": {
      "text/plain": [
       "'cartoes'"
      ]
     },
     "execution_count": 3,
     "metadata": {},
     "output_type": "execute_result"
    }
   ],
   "source": [
    "Config.CONTAINER_NAME"
   ]
  },
  {
   "cell_type": "markdown",
   "id": "169d6e8c-3299-4325-9d49-b53038dd8928",
   "metadata": {},
   "source": [
    "* **Perfeito, inclusive acima já respondo a questão de usar Dotenv é uma forma parcialmente segura de utilizar keys.**"
   ]
  },
  {
   "cell_type": "markdown",
   "id": "9aa627b9-673a-49fc-875d-68d12a0664e9",
   "metadata": {},
   "source": [
    "* **Bom agora percisamos criar uma conexão com nosso azure storage vamos lá na documentação e vamos descobrir qual a forma mais simples de realizar essa conexão.**\n",
    "* [documentação](https://learn.microsoft.com/en-us/azure/storage/blobs/storage-quickstart-blobs-python?tabs=managed-identity%2Croles-azure-portal%2Csign-in-azure-cli&pivots=blob-storage-quickstart-scratch)"
   ]
  },
  {
   "cell_type": "code",
   "execution_count": 2,
   "id": "86f2b821-5efa-474a-901b-5c0ea8971064",
   "metadata": {},
   "outputs": [],
   "source": [
    "# importação da lib para conexão:  \n",
    "from azure.storage.blob import BlobServiceClient"
   ]
  },
  {
   "cell_type": "code",
   "execution_count": null,
   "id": "0a127ba5-e319-4212-8cde-1f7c4817104a",
   "metadata": {},
   "outputs": [],
   "source": [
    "BlobServiceClient.from_connection_string()"
   ]
  },
  {
   "cell_type": "markdown",
   "id": "3454fede-cf0e-4620-a210-286eae90500c",
   "metadata": {},
   "source": [
    "### Criando a conexão com  o blob storage da azure:\n",
    "\n",
    "**BlobServiceClient.from_connection_string(\"nossa string de conexão\")**\n",
    "\n",
    "* **Exitem outras formas de criar a conexão mas vou usar essa que achei mais simples:**\n",
    "\n",
    "* **BlobServiceClient : esse cara é a classe que irá criar nossa conexão para isso precisamos fornecer string de conexão que está na nossa variável Config.STORAGE_CONNECTION**    "
   ]
  },
  {
   "cell_type": "code",
   "execution_count": 3,
   "id": "7bb6e00c-b398-4d83-b3dd-c1d8976fd22c",
   "metadata": {},
   "outputs": [],
   "source": [
    "# criando a conexão:\n",
    "blob_service_client = BlobServiceClient.from_connection_string(Config.STORAGE_CONNECTION)"
   ]
  },
  {
   "cell_type": "markdown",
   "id": "63b713c3-ebdb-471f-8a43-48e610df5c94",
   "metadata": {},
   "source": [
    "* **Certo agora vamos conferir se a conexão está ativa e verificar o que tenho no container.**:"
   ]
  },
  {
   "cell_type": "code",
   "execution_count": 20,
   "id": "bb9de21f-0503-4be0-95f1-78ec3f436f70",
   "metadata": {},
   "outputs": [
    {
     "name": "stdout",
     "output_type": "stream",
     "text": [
      "Name: 6dcbfb18-a936-45b6-96aa-18c97a780943.jpg\n",
      "Name: 9ee8b449-afee-442c-a4e6-67c539031b50.png\n",
      "Name: c0b2dbb7-f7b8-4745-a728-b0cc6a32297b.jpg\n",
      "Name: cartao-pre-pago-standard.jpg\n",
      "Name: credit-card-horizontal[1].png\n",
      "Name: imgagem.png\n"
     ]
    }
   ],
   "source": [
    "# Verificano o que tenho dentro do meu container de nome cartão:\n",
    "container_client = blob_service_client.get_container_client(container=Config.CONTAINER_NAME)\n",
    "blob_list = container_client.list_blobs()\n",
    "for blob in blob_list:\n",
    "    print(f\"Name: {blob.name}\")"
   ]
  },
  {
   "cell_type": "markdown",
   "id": "7c07f1e0-dcc5-436a-88c9-36b2e2527203",
   "metadata": {},
   "source": [
    "* **Como podem ver a conexão foi criada com sucesso, pois foi possível listar todos os arquivos do container cartão.**"
   ]
  },
  {
   "cell_type": "markdown",
   "id": "da404dc5-adf2-431f-b29e-8234757c55ec",
   "metadata": {},
   "source": [
    "### 2.Criar função para fazer o upload da imagem."
   ]
  },
  {
   "cell_type": "markdown",
   "id": "f1dc4ae0-103e-4753-9866-123ba0ea3e6b",
   "metadata": {},
   "source": [
    "* **Agora bora lá pra documentação e verificar qual a classe para realizar upload.**"
   ]
  },
  {
   "cell_type": "markdown",
   "id": "86d22608-feb5-42a3-9a71-cae924ea8f45",
   "metadata": {},
   "source": [
    "* **Enviando um texto para um bloco do blob:**"
   ]
  },
  {
   "cell_type": "code",
   "execution_count": 21,
   "id": "4770ea18-9461-4949-a76f-dd85e33da843",
   "metadata": {},
   "outputs": [
    {
     "data": {
      "text/plain": [
       "{'etag': '\"0x8DCFE76967847F9\"',\n",
       " 'last_modified': datetime.datetime(2024, 11, 6, 15, 20, 46, tzinfo=datetime.timezone.utc),\n",
       " 'content_md5': bytearray(b'\\x14\\x03\\x84\\x96z\\xd4\\x8a\\xea\\x07\\x15c7(\\xd2I\\xe5'),\n",
       " 'client_request_id': '50428478-9c51-11ef-b397-7f38ab652918',\n",
       " 'request_id': '068094c3-c01e-0089-475f-30d7c0000000',\n",
       " 'version': '2024-11-04',\n",
       " 'version_id': None,\n",
       " 'date': datetime.datetime(2024, 11, 6, 15, 20, 46, tzinfo=datetime.timezone.utc),\n",
       " 'request_server_encrypted': True,\n",
       " 'encryption_key_sha256': None,\n",
       " 'encryption_scope': None}"
      ]
     },
     "execution_count": 21,
     "metadata": {},
     "output_type": "execute_result"
    }
   ],
   "source": [
    "# vamos testar este exemplo simples\n",
    "blob_client = blob_service_client.get_blob_client(Config.CONTAINER_NAME, blob=\"teste_upload.txt\")\n",
    "data = b\"Vamos enviar esse texto no nosso container pra ver o que acontece.\"\n",
    "\n",
    "# Upload the blob data - default blob type is BlockBlob\n",
    "blob_client.upload_blob(data, blob_type=\"BlockBlob\")"
   ]
  },
  {
   "cell_type": "markdown",
   "id": "b584c2f8-9ebe-4c2a-8554-fd4117a1574a",
   "metadata": {},
   "source": [
    "* **Recuperando o arquivo salvo no storage:**"
   ]
  },
  {
   "cell_type": "code",
   "execution_count": 24,
   "id": "0c8c5df2-f2d6-4f51-8cdf-e531cbca1870",
   "metadata": {},
   "outputs": [
    {
     "name": "stdout",
     "output_type": "stream",
     "text": [
      "Blob contents: Vamos enviar esse texto no nosso container pra ver o que acontece.\n"
     ]
    }
   ],
   "source": [
    "blob_client = blob_service_client.get_blob_client(container=Config.CONTAINER_NAME, blob=\"teste_upload.txt\")\n",
    "# encoding param is necessary for readall() to return str, otherwise it returns bytes\n",
    "downloader = blob_client.download_blob(max_concurrency=1, encoding='UTF-8')\n",
    "blob_text = downloader.readall()\n",
    "print(f\"Blob contents: {blob_text}\")"
   ]
  },
  {
   "cell_type": "markdown",
   "id": "16edeb34-d146-4efa-a735-1be8315090ac",
   "metadata": {},
   "source": [
    "* **Legal mas no nosso caso precisamos enviar uma imagem!**\n",
    "* **Vamos experimentar e ver se o mesmo método funciona.**"
   ]
  },
  {
   "cell_type": "code",
   "execution_count": 8,
   "id": "9f1c72ea-d791-4941-b1d9-cdcd3790d300",
   "metadata": {},
   "outputs": [
    {
     "data": {
      "text/plain": [
       "'https://stdiolab2.blob.core.windows.net/cartoes/foto.png'"
      ]
     },
     "execution_count": 8,
     "metadata": {},
     "output_type": "execute_result"
    }
   ],
   "source": [
    "blob_client = blob_service_client.get_blob_client(Config.CONTAINER_NAME, 'foto.png')\n",
    "blob_client.upload_blob(\"data/cartao-pre-pago-standard.jpg\", overwrite=True)\n",
    "blob_client.url"
   ]
  },
  {
   "cell_type": "markdown",
   "id": "cf7a8ab6-9053-4c0e-bb29-fcb89209015f",
   "metadata": {},
   "source": [
    "* **Aparentemente ele enviou o arquivo e retornou uma url da imagem.**\n",
    "* **Vamos abrir a imagem para verificar**."
   ]
  },
  {
   "cell_type": "markdown",
   "id": "382fd152-1452-49ab-aa57-b1c0f1f5ca37",
   "metadata": {},
   "source": [
    "![img](https://stdiolab2.blob.core.windows.net/cartoes/foto.png)"
   ]
  },
  {
   "cell_type": "markdown",
   "id": "14c1b621-6b08-492a-b963-0808e7e165b2",
   "metadata": {},
   "source": [
    "* **Como o link não contém a imagem e muito menos o storage**.\n",
    "* **Para que funcione corretamente, é necessário abrir o arquivo com with open primeiro para depois enviarmos para o storage.**"
   ]
  },
  {
   "cell_type": "code",
   "execution_count": 12,
   "id": "6e76d222-210a-402c-9ea1-cf38d8a82887",
   "metadata": {},
   "outputs": [
    {
     "data": {
      "text/plain": [
       "'https://stdiolab2.blob.core.windows.net/cartoes/foto.png'"
      ]
     },
     "execution_count": 12,
     "metadata": {},
     "output_type": "execute_result"
    }
   ],
   "source": [
    "blob_client = blob_service_client.get_blob_client(Config.CONTAINER_NAME, 'foto.png')\n",
    "# Upload the created file\n",
    "with open(file=\"data/cartao-pre-pago-standard.jpg\", mode=\"rb\") as data:\n",
    "    blob_client.upload_blob(data, overwrite=True)\n",
    "blob_client.url"
   ]
  },
  {
   "cell_type": "markdown",
   "id": "376f1fd4-961f-4ce8-9392-69dd191d5674",
   "metadata": {},
   "source": [
    "![img](https://stdiolab2.blob.core.windows.net/cartoes/foto.png)"
   ]
  },
  {
   "cell_type": "markdown",
   "id": "158f3db8-0b05-4e59-a782-cd60221e5d72",
   "metadata": {},
   "source": [
    "* **Perfeito! Agora precisamos criar uma função e salvar o script em src/services/blob_service.py**"
   ]
  },
  {
   "cell_type": "code",
   "execution_count": 56,
   "id": "8adc1c4e-de8a-45e3-839e-bb077550f179",
   "metadata": {},
   "outputs": [
    {
     "name": "stdout",
     "output_type": "stream",
     "text": [
      "Writing src/services/blob_service.py\n"
     ]
    }
   ],
   "source": [
    "# %%writefile src/services/blob_service.py\n",
    "from azure.storage.blob import BlobServiceClient \n",
    "from src.utils.Config import Config \n",
    "\n",
    "def upload_to_blob(source, filename=None) -> str:\n",
    "    \"\"\"\n",
    "    Faz o upload de uma imagem para o Azure Blob Storage\n",
    "\n",
    "    Args:\n",
    "        source: imagem com o caminho completo. ex:\"img/imagem.png\" \n",
    "        filename:Nome opcional para o arquivo.\n",
    "\n",
    "    Returns: \n",
    "        str: URL do blob\n",
    "    \"\"\" \n",
    "    if not filename:        \n",
    "        file = source.split('.')[0].split('/')[-1]\n",
    "        extension = source.split('.')[-1]\n",
    "        filename = f\"{file}.{extension}\"\n",
    "        \n",
    "    # Upload para o blob\n",
    "    blob_service_client = BlobServiceClient.from_connection_string(Config.STORAGE_CONNECTION)\n",
    "    blob_client = blob_service_client.get_blob_client(Config.CONTAINER_NAME, filename)\n",
    "    with open(file=\"data/cartao-pre-pago-standard.jpg\", mode=\"rb\") as data:\n",
    "        blob_client.upload_blob(data, overwrite=True)\n",
    "    return blob_client.url"
   ]
  },
  {
   "cell_type": "markdown",
   "id": "d42b7404-268b-4f26-8f9c-a1c189c5cf80",
   "metadata": {},
   "source": [
    "* **Para desencargo de consciência vamos fazer um último teste:**"
   ]
  },
  {
   "cell_type": "code",
   "execution_count": 55,
   "id": "2de8b457-ffa4-420f-8d3d-2730bcb86ac9",
   "metadata": {},
   "outputs": [
    {
     "data": {
      "text/plain": [
       "'https://stdiolab2.blob.core.windows.net/cartoes/cartao-pre-pago-standard.jpg'"
      ]
     },
     "execution_count": 55,
     "metadata": {},
     "output_type": "execute_result"
    }
   ],
   "source": [
    "# Coloquei propositalmente sem o nome do arquivo para ver se será tratado corretamente pois eu deixei como opcional.\n",
    "upload_to_blob(\"data/cartao-pre-pago-standard.jpg\") "
   ]
  },
  {
   "cell_type": "markdown",
   "id": "36295d62-ee4a-4c56-a313-7db31ecba3a4",
   "metadata": {},
   "source": [
    "![img](https://stdiolab2.blob.core.windows.net/cartoes/cartao-pre-pago-standard.jpg)"
   ]
  },
  {
   "cell_type": "markdown",
   "id": "b29df9df-9b62-4f81-ba41-96e3fe778483",
   "metadata": {},
   "source": [
    "### **Bom acho que ficou bem simples e prático, tentei reduzir ao máximo o código e não fiz nenhum tipo de tratamento para ficar o mais simples possível, pois acho que compliquei um pouco na tarefa 1 .😅.**"
   ]
  },
  {
   "cell_type": "markdown",
   "id": "83268e1c-51fc-46c2-a1dc-437f9965e632",
   "metadata": {},
   "source": [
    "* **Mas calma aí, vamos fazer o commit e a PR para encerrarmos com chave de 🥇 essa tarefa.** \n",
    "* **Criar a branch da tarefa 2.**\n",
    "* **Mas antes de tudo vamos verficar a qualidade do código para não sermos barrados na Pull Request como foi na task1 😓.**"
   ]
  },
  {
   "cell_type": "code",
   "execution_count": 68,
   "id": "cf4c1083-b8eb-4e3d-aabd-28fd4f17bb3f",
   "metadata": {},
   "outputs": [
    {
     "name": "stdout",
     "output_type": "stream",
     "text": [
      "\u001b[1mSkipping .ipynb files as Jupyter dependencies are not installed.\n",
      "You can fix this by running ``pip install \"black[jupyter]\"``\u001b[0m\n",
      "\u001b[1mAll done! ✨ 🍰 ✨\u001b[0m\n",
      "\u001b[34m3 files \u001b[0mleft unchanged.\n"
     ]
    }
   ],
   "source": [
    "!task format src/services/blob_service.py"
   ]
  },
  {
   "cell_type": "markdown",
   "id": "5970e03d-7039-434f-ad31-96c169253dce",
   "metadata": {},
   "source": [
    "All done! ✨ 🍰 ✨\n",
    "\n",
    "**Agora sim!.🎆"
   ]
  },
  {
   "cell_type": "markdown",
   "id": "fd3e527e-d55f-47bc-88b8-29b75ad6ad35",
   "metadata": {},
   "source": [
    "**Criar a branch task2**:"
   ]
  },
  {
   "cell_type": "code",
   "execution_count": 63,
   "id": "efc8bbf6-9aa5-4f7f-a719-525720f38ecb",
   "metadata": {},
   "outputs": [
    {
     "name": "stdout",
     "output_type": "stream",
     "text": [
      "Switched to a new branch 'task2'\n"
     ]
    }
   ],
   "source": [
    "!git checkout -b task2"
   ]
  },
  {
   "cell_type": "code",
   "execution_count": 64,
   "id": "31cd0ddc-954d-4151-9e3a-a8a925e470b0",
   "metadata": {},
   "outputs": [
    {
     "name": "stdout",
     "output_type": "stream",
     "text": [
      "  master\u001b[m\n",
      "  task1\u001b[m\n",
      "* \u001b[32mtask2\u001b[m\n"
     ]
    }
   ],
   "source": [
    "!git branch"
   ]
  },
  {
   "cell_type": "code",
   "execution_count": 65,
   "id": "d4cec4ea-4b23-4761-8db9-0403e685209a",
   "metadata": {},
   "outputs": [
    {
     "name": "stdout",
     "output_type": "stream",
     "text": [
      "On branch task2\n",
      "Changes not staged for commit:\n",
      "  (use \"git add <file>...\" to update what will be committed)\n",
      "  (use \"git restore <file>...\" to discard changes in working directory)\n",
      "\t\u001b[31mmodified:   PoC_desafio2.ipynb\u001b[m\n",
      "\n",
      "Untracked files:\n",
      "  (use \"git add <file>...\" to include in what will be committed)\n",
      "\t\u001b[31msrc/services/blob_service.py\u001b[m\n",
      "\n",
      "no changes added to commit (use \"git add\" and/or \"git commit -a\")\n"
     ]
    }
   ],
   "source": [
    "!git status"
   ]
  },
  {
   "cell_type": "markdown",
   "id": "a2f674db-a58d-43e8-86db-5a1e7fed995f",
   "metadata": {},
   "source": [
    "**Adicionar ao stage e realizando o commit local.**"
   ]
  },
  {
   "cell_type": "code",
   "execution_count": 70,
   "id": "84cb76ab-00ea-42ce-92a7-1426f70dbd6e",
   "metadata": {},
   "outputs": [],
   "source": [
    "!git add src/services/blob_service.py"
   ]
  },
  {
   "cell_type": "code",
   "execution_count": 71,
   "id": "60e2e1e1-381b-4aa0-b6df-62b845facfdd",
   "metadata": {},
   "outputs": [
    {
     "name": "stdout",
     "output_type": "stream",
     "text": [
      "[task2 0b0ab68] add: task2 finalizada com sucesso!\n",
      " 1 file changed, 29 insertions(+)\n",
      " create mode 100644 desafios_de_projeto/desafio_2/src/services/blob_service.py\n"
     ]
    }
   ],
   "source": [
    "!git commit -m \"add: task2 finalizada com sucesso!\""
   ]
  },
  {
   "cell_type": "markdown",
   "id": "40fddb7f-e24c-4298-830b-63441dc4fcd4",
   "metadata": {},
   "source": [
    "**Enviando para o github.**"
   ]
  },
  {
   "cell_type": "code",
   "execution_count": 72,
   "id": "fa3cf0b7-8556-481b-ba41-8c35d7126b1d",
   "metadata": {},
   "outputs": [
    {
     "name": "stdout",
     "output_type": "stream",
     "text": [
      "Enumerating objects: 12, done.\n",
      "Counting objects: 100% (12/12), done.\n",
      "Delta compression using up to 24 threads\n",
      "Compressing objects: 100% (7/7), done.\n",
      "Writing objects: 100% (7/7), 1.02 KiB | 1.02 MiB/s, done.\n",
      "Total 7 (delta 2), reused 0 (delta 0), pack-reused 0\n",
      "remote: Resolving deltas: 100% (2/2), completed with 2 local objects.\u001b[K\n",
      "remote: \n",
      "remote: Create a pull request for 'task2' on GitHub by visiting:\u001b[K\n",
      "remote:      https://github.com/Jcnok/Bootcamp-Microsoft-Certification-Challenge--1-AI_102/pull/new/task2\u001b[K\n",
      "remote: \n",
      "To https://github.com/Jcnok/Bootcamp-Microsoft-Certification-Challenge--1-AI_102.git\n",
      " * [new branch]      task2 -> task2\n"
     ]
    }
   ],
   "source": [
    "!git push origin task2"
   ]
  },
  {
   "cell_type": "markdown",
   "id": "62a9139c-4232-4a6b-b802-dfa3dad72dbe",
   "metadata": {},
   "source": [
    "**Abrindo a PR.**"
   ]
  },
  {
   "cell_type": "markdown",
   "id": "08b52a4f-0d05-414e-a63f-28d447f18355",
   "metadata": {},
   "source": [
    "![img](img/pr_task2_ok.jpg)"
   ]
  },
  {
   "attachments": {
    "f61ce8b1-346b-43f3-9db0-2c4e31d422c0.gif": {
     "image/gif": "[encoded data removed]"
    }
   },
   "cell_type": "markdown",
   "id": "9fa992f7-bc2a-4410-898e-a2e0cf6252bf",
   "metadata": {},
   "source": [
    "![NeonSignCheckMarkGIF.gif](attachment:f61ce8b1-346b-43f3-9db0-2c4e31d422c0.gif)"
   ]
  },
  {
   "cell_type": "markdown",
   "id": "897af8cd-7899-4aba-a473-19348044bd91",
   "metadata": {},
   "source": [
    "### Bom vou ficando por aqui, em breve estarei postando as  próximas tarefas, se gostaram não esqueçam de curtir! 🙏🏻 Fui.....🏃🏻‍➡️"
   ]
  },
  {
   "cell_type": "code",
   "execution_count": null,
   "id": "defac30b-ba55-4c49-bd5a-417c238260c3",
   "metadata": {},
   "outputs": [],
   "source": []
  },
  {
   "cell_type": "markdown",
   "id": "eabef35c-9e4e-4427-a891-53aedc18cefa",
   "metadata": {},
   "source": [
    "# Task 3:"
   ]
  },
  {
   "cell_type": "markdown",
   "id": "a7162bdb-5c02-447d-93ed-f0f03d534231",
   "metadata": {},
   "source": [
    "**Tarefa 3: Extração de Informações**\n",
    "\n",
    "* [ ] Implementar a extração de informações do cartão:\n",
    "    * [ ] Criar função para conectar ao Azure Document Intelligence.\n",
    "    * [ ] Criar função para analisar a imagem do cartão.\n",
    "    * [ ] Extrair informações do cartão (número, data de validade, nome do banco, nome do cliente)."
   ]
  },
  {
   "cell_type": "markdown",
   "id": "168a3bdc-93b8-4f7f-bcbc-6f9f803e9fa8",
   "metadata": {},
   "source": [
    "## Implementar a extração de informações do cartão:"
   ]
  },
  {
   "cell_type": "markdown",
   "id": "5093a12e-be2f-438e-af02-6db928ea0b9d",
   "metadata": {},
   "source": [
    "### Criar função para conectar ao Azure Document Intelligence."
   ]
  },
  {
   "cell_type": "markdown",
   "id": "5afa77d3-ff0e-4220-b385-9851f9a5a93c",
   "metadata": {},
   "source": [
    "**Borá lá na documentação?** \n",
    "**[Documentação](https://learn.microsoft.com/en-us/azure/ai-services/document-intelligence/quickstarts/get-started-sdks-rest-api?view=doc-intel-4.0.0&pivots=programming-language-python)**"
   ]
  },
  {
   "cell_type": "markdown",
   "id": "6e737230-fe4c-40f8-b397-c810753a5695",
   "metadata": {},
   "source": [
    "* **Primeiro como de costume, vamos carregar as variáveis da Config.py.**:"
   ]
  },
  {
   "cell_type": "code",
   "execution_count": 1,
   "id": "8d7a97d1-624a-440a-8e03-4c3a2cb0eeb2",
   "metadata": {},
   "outputs": [],
   "source": [
    "from src.utils.Config import Config"
   ]
  },
  {
   "cell_type": "markdown",
   "id": "933a7e84-af37-4d73-b9e5-b99aa204fc0f",
   "metadata": {},
   "source": [
    "* **Caregar a lib para conexão com a API do Documente Intelligence:**"
   ]
  },
  {
   "cell_type": "code",
   "execution_count": 2,
   "id": "c5b62faf-64c0-4d6b-b8e2-6c13db922667",
   "metadata": {},
   "outputs": [],
   "source": [
    "from azure.core.credentials import AzureKeyCredential\n",
    "from azure.ai.documentintelligence import DocumentIntelligenceClient\n",
    "from azure.ai.documentintelligence.models import AnalyzeDocumentRequest"
   ]
  },
  {
   "cell_type": "markdown",
   "id": "6e0a8dde-c24a-4f57-a1dc-933188d07f68",
   "metadata": {},
   "source": [
    "* **Vamos criar uma conexão de teste.**"
   ]
  },
  {
   "cell_type": "code",
   "execution_count": 4,
   "id": "71d72cd4-9a04-43ab-9486-e5c571fe04bd",
   "metadata": {},
   "outputs": [],
   "source": [
    "credential = AzureKeyCredential(Config.KEY) \n",
    "document_client = DocumentIntelligenceClient(Config.ENDPOINT, credential) "
   ]
  },
  {
   "cell_type": "markdown",
   "id": "95b9cff2-87e6-4284-8d50-d0383b99deef",
   "metadata": {},
   "source": [
    "* **Agora vamos realizar a primeira analise:**"
   ]
  },
  {
   "cell_type": "code",
   "execution_count": 7,
   "id": "91151249-bc7d-438e-af0a-0a1ac843689c",
   "metadata": {},
   "outputs": [],
   "source": [
    "card_info = document_client.begin_analyze_document(model_id=\"prebuilt-creditCard\",analyze_request=AnalyzeDocumentRequest(url_source=\"https://documentintelligence.ai.azure.com/documents/samples/prebuilt/credit-card-horizontal.png\"))"
   ]
  },
  {
   "cell_type": "markdown",
   "id": "d4391274-be1a-402c-b67e-45fccc940f5f",
   "metadata": {},
   "source": [
    "* **Vamos analisar esse cartão:**"
   ]
  },
  {
   "cell_type": "markdown",
   "id": "c7091afa-b1fd-4742-ad80-98c660c08ef2",
   "metadata": {},
   "source": [
    "![cartao_exemplo](https://documentintelligence.ai.azure.com/documents/samples/prebuilt/credit-card-horizontal.png)"
   ]
  },
  {
   "cell_type": "markdown",
   "id": "6b830fbc-954b-48e7-b3f4-9f0bb2a15188",
   "metadata": {},
   "source": [
    "* **Vamos verificar os resultados obtidos da imagem do cartão de exemplo:**"
   ]
  },
  {
   "cell_type": "code",
   "execution_count": 9,
   "id": "2d06dc23-dc22-4eac-ad6a-4f81221c04b7",
   "metadata": {},
   "outputs": [
    {
     "data": {
      "text/plain": [
       "{'docType': 'creditCard', 'boundingRegions': [{'pageNumber': 1, 'polygon': [0, 0, 896, 0, 896, 1120, 0, 1120]}], 'fields': {'CardHolderName': {'type': 'string', 'content': 'ADAM SMITH', 'boundingRegions': [{'pageNumber': 1, 'polygon': [167, 445, 365, 446, 365, 481, 167, 480]}], 'confidence': 0.995, 'spans': [{'offset': 50, 'length': 10}]}, 'CardNumber': {'type': 'string', 'content': '5412 1234 5656 8888', 'boundingRegions': [{'pageNumber': 1, 'polygon': [166, 313, 715, 313, 715, 357, 166, 357]}], 'confidence': 0.995, 'spans': [{'offset': 13, 'length': 19}]}, 'CardVerificationValue': {'type': 'string', 'content': '123', 'boundingRegions': [{'pageNumber': 1, 'polygon': [544, 784, 586, 785, 586, 811, 544, 810]}], 'confidence': 0.995, 'spans': [{'offset': 134, 'length': 3}]}, 'CustomerServicePhoneNumbers': {'type': 'array', 'valueArray': [{'type': 'string', 'valueString': '+1 200-345-6789', 'content': '+1 200-345-6789', 'boundingRegions': [{'pageNumber': 1, 'polygon': [324, 610, 447, 610, 447, 627, 324, 627]}], 'spans': [{'offset': 99, 'length': 15}]}, {'type': 'string', 'valueString': '+1 200-000-8888', 'content': '+1 200-000-8888', 'boundingRegions': [{'pageNumber': 1, 'polygon': [471, 610, 594, 610, 594, 627, 471, 627]}], 'spans': [{'offset': 118, 'length': 15}]}]}, 'ExpirationDate': {'type': 'date', 'content': '01/28', 'boundingRegions': [{'pageNumber': 1, 'polygon': [227, 391, 319, 391, 319, 424, 226, 424]}], 'confidence': 0.995, 'spans': [{'offset': 39, 'length': 5}]}, 'IssuingBank': {'type': 'string', 'content': 'Contoso Bank', 'boundingRegions': [{'pageNumber': 1, 'polygon': [170, 172, 475, 171, 475, 213, 170, 214]}], 'confidence': 0.995, 'spans': [{'offset': 0, 'length': 12}]}, 'PaymentNetwork': {'type': 'string', 'content': 'mastercard', 'boundingRegions': [{'pageNumber': 1, 'polygon': [632, 464, 717, 463, 717, 477, 632, 477]}], 'confidence': 0.991, 'spans': [{'offset': 61, 'length': 10}]}}, 'confidence': 1, 'spans': [{'offset': 0, 'length': 306}]}"
      ]
     },
     "execution_count": 9,
     "metadata": {},
     "output_type": "execute_result"
    }
   ],
   "source": [
    "card_info.result().documents[0]"
   ]
  },
  {
   "cell_type": "markdown",
   "id": "de97b298-c5ca-472a-b9aa-6b53d9d4c22f",
   "metadata": {},
   "source": [
    "* **Funcionou, porém ele está trazendo muitas inforamções que são desnecessárias para o projeto, precisamos fazer alguns cortes.**"
   ]
  },
  {
   "cell_type": "code",
   "execution_count": 10,
   "id": "42b26c49-eaf1-4c7b-b94c-afcbad4bbbf3",
   "metadata": {},
   "outputs": [
    {
     "data": {
      "text/plain": [
       "{'CardHolderName': {'type': 'string', 'content': 'ADAM SMITH', 'boundingRegions': [{'pageNumber': 1, 'polygon': [167, 445, 365, 446, 365, 481, 167, 480]}], 'confidence': 0.995, 'spans': [{'offset': 50, 'length': 10}]},\n",
       " 'CardNumber': {'type': 'string', 'content': '5412 1234 5656 8888', 'boundingRegions': [{'pageNumber': 1, 'polygon': [166, 313, 715, 313, 715, 357, 166, 357]}], 'confidence': 0.995, 'spans': [{'offset': 13, 'length': 19}]},\n",
       " 'CardVerificationValue': {'type': 'string', 'content': '123', 'boundingRegions': [{'pageNumber': 1, 'polygon': [544, 784, 586, 785, 586, 811, 544, 810]}], 'confidence': 0.995, 'spans': [{'offset': 134, 'length': 3}]},\n",
       " 'CustomerServicePhoneNumbers': {'type': 'array', 'valueArray': [{'type': 'string', 'valueString': '+1 200-345-6789', 'content': '+1 200-345-6789', 'boundingRegions': [{'pageNumber': 1, 'polygon': [324, 610, 447, 610, 447, 627, 324, 627]}], 'spans': [{'offset': 99, 'length': 15}]}, {'type': 'string', 'valueString': '+1 200-000-8888', 'content': '+1 200-000-8888', 'boundingRegions': [{'pageNumber': 1, 'polygon': [471, 610, 594, 610, 594, 627, 471, 627]}], 'spans': [{'offset': 118, 'length': 15}]}]},\n",
       " 'ExpirationDate': {'type': 'date', 'content': '01/28', 'boundingRegions': [{'pageNumber': 1, 'polygon': [227, 391, 319, 391, 319, 424, 226, 424]}], 'confidence': 0.995, 'spans': [{'offset': 39, 'length': 5}]},\n",
       " 'IssuingBank': {'type': 'string', 'content': 'Contoso Bank', 'boundingRegions': [{'pageNumber': 1, 'polygon': [170, 172, 475, 171, 475, 213, 170, 214]}], 'confidence': 0.995, 'spans': [{'offset': 0, 'length': 12}]},\n",
       " 'PaymentNetwork': {'type': 'string', 'content': 'mastercard', 'boundingRegions': [{'pageNumber': 1, 'polygon': [632, 464, 717, 463, 717, 477, 632, 477]}], 'confidence': 0.991, 'spans': [{'offset': 61, 'length': 10}]}}"
      ]
     },
     "execution_count": 10,
     "metadata": {},
     "output_type": "execute_result"
    }
   ],
   "source": [
    "card_info.result().documents[0].get('fields',{})"
   ]
  },
  {
   "cell_type": "markdown",
   "id": "1817bae2-d67b-446c-a555-0caa598c528b",
   "metadata": {},
   "source": [
    "* **Vejam que as informações estão mais limpas, exemplo:**\n",
    "* \"CardHolderName\": \n",
    "    * type -> tipo de dado\n",
    "    * content -> valor do atributo\n",
    "    * boundingRegions -> coordenadas de onde o resultado foi retirado da imagem.\n",
    "    * confidence -> A confiança do modelo na extração do valor (quanto mais próximo de 1, mais preciso).\n",
    "    * spans -> Informações sobre a localização do valor dentro do texto original."
   ]
  },
  {
   "cell_type": "markdown",
   "id": "ec584967-0771-43a6-a244-1d1efff38890",
   "metadata": {},
   "source": [
    "* **O Ojetivo para esse exemplo é extrair apenas os atributos e valores dos resultados, mãos a obra.**"
   ]
  },
  {
   "cell_type": "code",
   "execution_count": 13,
   "id": "c38e7de7-69e1-418b-94c8-1a1c4a8bdfdc",
   "metadata": {},
   "outputs": [
    {
     "data": {
      "text/plain": [
       "dict"
      ]
     },
     "execution_count": 13,
     "metadata": {},
     "output_type": "execute_result"
    }
   ],
   "source": [
    "card_fields = card_info.result().documents[0].get('fields',{})\n",
    "type(card_fields)"
   ]
  },
  {
   "cell_type": "markdown",
   "id": "b3349199-5c98-4ddd-99d0-006174f7c6ae",
   "metadata": {},
   "source": [
    "* **Como se trata de um tipo de dicionário podemos percorrer chave e valor e extrair o necessário para o projeto.**"
   ]
  },
  {
   "cell_type": "code",
   "execution_count": 19,
   "id": "a80c61e9-ed16-411d-b2e9-47112e5f60ee",
   "metadata": {},
   "outputs": [
    {
     "data": {
      "text/plain": [
       "'ADAM SMITH'"
      ]
     },
     "execution_count": 19,
     "metadata": {},
     "output_type": "execute_result"
    }
   ],
   "source": [
    "card_fields['CardHolderName']['content']"
   ]
  },
  {
   "cell_type": "code",
   "execution_count": 34,
   "id": "af8b2c54-8b90-4ba0-be54-abafba1b2f28",
   "metadata": {},
   "outputs": [
    {
     "data": {
      "text/plain": [
       "dict_values([{'type': 'string', 'content': 'ADAM SMITH', 'boundingRegions': [{'pageNumber': 1, 'polygon': [167, 445, 365, 446, 365, 481, 167, 480]}], 'confidence': 0.995, 'spans': [{'offset': 50, 'length': 10}]}, {'type': 'string', 'content': '5412 1234 5656 8888', 'boundingRegions': [{'pageNumber': 1, 'polygon': [166, 313, 715, 313, 715, 357, 166, 357]}], 'confidence': 0.995, 'spans': [{'offset': 13, 'length': 19}]}, {'type': 'string', 'content': '123', 'boundingRegions': [{'pageNumber': 1, 'polygon': [544, 784, 586, 785, 586, 811, 544, 810]}], 'confidence': 0.995, 'spans': [{'offset': 134, 'length': 3}]}, {'type': 'array', 'valueArray': [{'type': 'string', 'valueString': '+1 200-345-6789', 'content': '+1 200-345-6789', 'boundingRegions': [{'pageNumber': 1, 'polygon': [324, 610, 447, 610, 447, 627, 324, 627]}], 'spans': [{'offset': 99, 'length': 15}]}, {'type': 'string', 'valueString': '+1 200-000-8888', 'content': '+1 200-000-8888', 'boundingRegions': [{'pageNumber': 1, 'polygon': [471, 610, 594, 610, 594, 627, 471, 627]}], 'spans': [{'offset': 118, 'length': 15}]}]}, {'type': 'date', 'content': '01/28', 'boundingRegions': [{'pageNumber': 1, 'polygon': [227, 391, 319, 391, 319, 424, 226, 424]}], 'confidence': 0.995, 'spans': [{'offset': 39, 'length': 5}]}, {'type': 'string', 'content': 'Contoso Bank', 'boundingRegions': [{'pageNumber': 1, 'polygon': [170, 172, 475, 171, 475, 213, 170, 214]}], 'confidence': 0.995, 'spans': [{'offset': 0, 'length': 12}]}, {'type': 'string', 'content': 'mastercard', 'boundingRegions': [{'pageNumber': 1, 'polygon': [632, 464, 717, 463, 717, 477, 632, 477]}], 'confidence': 0.991, 'spans': [{'offset': 61, 'length': 10}]}])"
      ]
     },
     "execution_count": 34,
     "metadata": {},
     "output_type": "execute_result"
    }
   ],
   "source": [
    "card_fields.values()"
   ]
  },
  {
   "cell_type": "markdown",
   "id": "02530453-5005-4383-acc8-19a4491c221c",
   "metadata": {},
   "source": [
    "* **Vamos criar um novo dicionário vazio e a medida que vamos iterando sobre as chaves e valores vamos adicionar a chave e o valor de content no dicionário.**"
   ]
  },
  {
   "cell_type": "code",
   "execution_count": 49,
   "id": "721dcc1c-ba38-41fc-975e-bc0650b03209",
   "metadata": {},
   "outputs": [
    {
     "name": "stdout",
     "output_type": "stream",
     "text": [
      "chave->CardHolderName : valor-> {'type': 'string', 'content': 'ADAM SMITH', 'boundingRegions': [{'pageNumber': 1, 'polygon': [167, 445, 365, 446, 365, 481, 167, 480]}], 'confidence': 0.995, 'spans': [{'offset': 50, 'length': 10}]}\n",
      "\n",
      "chave->CardNumber : valor-> {'type': 'string', 'content': '5412 1234 5656 8888', 'boundingRegions': [{'pageNumber': 1, 'polygon': [166, 313, 715, 313, 715, 357, 166, 357]}], 'confidence': 0.995, 'spans': [{'offset': 13, 'length': 19}]}\n",
      "\n",
      "chave->CardVerificationValue : valor-> {'type': 'string', 'content': '123', 'boundingRegions': [{'pageNumber': 1, 'polygon': [544, 784, 586, 785, 586, 811, 544, 810]}], 'confidence': 0.995, 'spans': [{'offset': 134, 'length': 3}]}\n",
      "\n",
      "chave->CustomerServicePhoneNumbers : valor-> {'type': 'array', 'valueArray': [{'type': 'string', 'valueString': '+1 200-345-6789', 'content': '+1 200-345-6789', 'boundingRegions': [{'pageNumber': 1, 'polygon': [324, 610, 447, 610, 447, 627, 324, 627]}], 'spans': [{'offset': 99, 'length': 15}]}, {'type': 'string', 'valueString': '+1 200-000-8888', 'content': '+1 200-000-8888', 'boundingRegions': [{'pageNumber': 1, 'polygon': [471, 610, 594, 610, 594, 627, 471, 627]}], 'spans': [{'offset': 118, 'length': 15}]}]}\n",
      "\n",
      "chave->ExpirationDate : valor-> {'type': 'date', 'content': '01/28', 'boundingRegions': [{'pageNumber': 1, 'polygon': [227, 391, 319, 391, 319, 424, 226, 424]}], 'confidence': 0.995, 'spans': [{'offset': 39, 'length': 5}]}\n",
      "\n",
      "chave->IssuingBank : valor-> {'type': 'string', 'content': 'Contoso Bank', 'boundingRegions': [{'pageNumber': 1, 'polygon': [170, 172, 475, 171, 475, 213, 170, 214]}], 'confidence': 0.995, 'spans': [{'offset': 0, 'length': 12}]}\n",
      "\n",
      "chave->PaymentNetwork : valor-> {'type': 'string', 'content': 'mastercard', 'boundingRegions': [{'pageNumber': 1, 'polygon': [632, 464, 717, 463, 717, 477, 632, 477]}], 'confidence': 0.991, 'spans': [{'offset': 61, 'length': 10}]}\n",
      "\n"
     ]
    }
   ],
   "source": [
    "for chave, valor in card_fields.items():\n",
    "    print(f\"chave->{chave} : valor-> {valor}\\n\")\n",
    "    "
   ]
  },
  {
   "cell_type": "markdown",
   "id": "2f2e61d4-0e05-4ac0-834d-5966526f88d1",
   "metadata": {},
   "source": [
    "* **Temos um probleminha, a chave: `CustomerServicePhoneNumbers` possui um array com 2 valores:**"
   ]
  },
  {
   "cell_type": "code",
   "execution_count": 50,
   "id": "b4d0d049-25b6-4619-b176-69d54c965e1b",
   "metadata": {},
   "outputs": [
    {
     "data": {
      "text/plain": [
       "[{'type': 'string', 'valueString': '+1 200-345-6789', 'content': '+1 200-345-6789', 'boundingRegions': [{'pageNumber': 1, 'polygon': [324, 610, 447, 610, 447, 627, 324, 627]}], 'spans': [{'offset': 99, 'length': 15}]},\n",
       " {'type': 'string', 'valueString': '+1 200-000-8888', 'content': '+1 200-000-8888', 'boundingRegions': [{'pageNumber': 1, 'polygon': [471, 610, 594, 610, 594, 627, 471, 627]}], 'spans': [{'offset': 118, 'length': 15}]}]"
      ]
     },
     "execution_count": 50,
     "metadata": {},
     "output_type": "execute_result"
    }
   ],
   "source": [
    "card_fields['CustomerServicePhoneNumbers']['valueArray']"
   ]
  },
  {
   "cell_type": "markdown",
   "id": "489974f6-b93b-4caf-a76e-797d9916cc05",
   "metadata": {},
   "source": [
    "* **Certamente existem formas melhores de resolver isso, mas vou fazer o que me vem a mente no momento.**\n",
    "* **Vou criar uma condição onde existir um \"valueArray\" irei extair o valor de 'content'.**"
   ]
  },
  {
   "cell_type": "code",
   "execution_count": 62,
   "id": "bb56f994-ce62-4dcf-9841-d9cf9473d876",
   "metadata": {},
   "outputs": [
    {
     "data": {
      "text/plain": [
       "{'CardHolderName': 'ADAM SMITH',\n",
       " 'CardNumber': '5412 1234 5656 8888',\n",
       " 'CardVerificationValue': '123',\n",
       " 'CustomerServicePhoneNumbers': ['+1 200-345-6789', '+1 200-000-8888'],\n",
       " 'ExpirationDate': '01/28',\n",
       " 'IssuingBank': 'Contoso Bank',\n",
       " 'PaymentNetwork': 'mastercard'}"
      ]
     },
     "execution_count": 62,
     "metadata": {},
     "output_type": "execute_result"
    }
   ],
   "source": [
    "#criar um dicionjário vazio:\n",
    "result = {}\n",
    "# percorrer sobre o dicionário\n",
    "for key, value in card_fields.items():\n",
    "    if \"valueArray\" in value:\n",
    "        result[key] = [v['content'] for v in value[\"valueArray\"]]\n",
    "        # print(result)\n",
    "    else:\n",
    "        result[key] = value['content']\n",
    "result\n",
    "        "
   ]
  },
  {
   "cell_type": "markdown",
   "id": "c5625916-fbe6-4404-9c26-bbf30f9153eb",
   "metadata": {},
   "source": [
    "* **Vamos usar o pandas somente pra exibir em formato de tabela:**"
   ]
  },
  {
   "cell_type": "code",
   "execution_count": 67,
   "id": "13c8fa50-318a-4416-a02c-27849117d67a",
   "metadata": {},
   "outputs": [
    {
     "data": {
      "text/html": [
       "<div>\n",
       "<style scoped>\n",
       "    .dataframe tbody tr th:only-of-type {\n",
       "        vertical-align: middle;\n",
       "    }\n",
       "\n",
       "    .dataframe tbody tr th {\n",
       "        vertical-align: top;\n",
       "    }\n",
       "\n",
       "    .dataframe thead th {\n",
       "        text-align: right;\n",
       "    }\n",
       "</style>\n",
       "<table border=\"1\" class=\"dataframe\">\n",
       "  <thead>\n",
       "    <tr style=\"text-align: right;\">\n",
       "      <th></th>\n",
       "      <th>value</th>\n",
       "    </tr>\n",
       "  </thead>\n",
       "  <tbody>\n",
       "    <tr>\n",
       "      <th>CardHolderName</th>\n",
       "      <td>ADAM SMITH</td>\n",
       "    </tr>\n",
       "    <tr>\n",
       "      <th>CardNumber</th>\n",
       "      <td>5412 1234 5656 8888</td>\n",
       "    </tr>\n",
       "    <tr>\n",
       "      <th>CardVerificationValue</th>\n",
       "      <td>123</td>\n",
       "    </tr>\n",
       "    <tr>\n",
       "      <th>CustomerServicePhoneNumbers</th>\n",
       "      <td>[+1 200-345-6789, +1 200-000-8888]</td>\n",
       "    </tr>\n",
       "    <tr>\n",
       "      <th>ExpirationDate</th>\n",
       "      <td>01/28</td>\n",
       "    </tr>\n",
       "    <tr>\n",
       "      <th>IssuingBank</th>\n",
       "      <td>Contoso Bank</td>\n",
       "    </tr>\n",
       "    <tr>\n",
       "      <th>PaymentNetwork</th>\n",
       "      <td>mastercard</td>\n",
       "    </tr>\n",
       "  </tbody>\n",
       "</table>\n",
       "</div>"
      ],
      "text/plain": [
       "                                                          value\n",
       "CardHolderName                                       ADAM SMITH\n",
       "CardNumber                                  5412 1234 5656 8888\n",
       "CardVerificationValue                                       123\n",
       "CustomerServicePhoneNumbers  [+1 200-345-6789, +1 200-000-8888]\n",
       "ExpirationDate                                            01/28\n",
       "IssuingBank                                        Contoso Bank\n",
       "PaymentNetwork                                       mastercard"
      ]
     },
     "execution_count": 67,
     "metadata": {},
     "output_type": "execute_result"
    }
   ],
   "source": [
    "import pandas as pd \n",
    "pd.DataFrame.from_dict(result, orient='index', columns=['value'])"
   ]
  },
  {
   "cell_type": "markdown",
   "id": "61629856-f39b-4327-9ec3-68f75b39441f",
   "metadata": {},
   "source": [
    "* **Agora vamos criar a função, esse literalmente é uma passo a passo, pois estou dividindo todo o processo em pequenos blocos pra facilitar o entendimento.**"
   ]
  },
  {
   "cell_type": "code",
   "execution_count": 71,
   "id": "fbcb324c-f17e-4fcb-b4e4-c492827bf4b3",
   "metadata": {},
   "outputs": [
    {
     "name": "stdout",
     "output_type": "stream",
     "text": [
      "Writing src/services/credit_card_service.py\n"
     ]
    }
   ],
   "source": [
    "%%writefile src/services/credit_card_service.py\n",
    "from src.utils.Config import Config\n",
    "from azure.core.credentials import AzureKeyCredential\n",
    "from azure.ai.documentintelligence import DocumentIntelligenceClient\n",
    "from azure.ai.documentintelligence.models import AnalyzeDocumentRequest\n",
    "import pandas as pd \n",
    "\n",
    "def detect_credit_card_info(card_url):\n",
    "    \"\"\"\n",
    "    Extrai informações de um catão de crédito\n",
    "\n",
    "    Args:\n",
    "        card_url: url de uma imagem de cartão de crédito\n",
    "\n",
    "    Return: \n",
    "        Um dataframe com as informações do cartão de crédito\n",
    "    \"\"\"\n",
    "    credential = AzureKeyCredential(Config.KEY)\n",
    "    document_client = DocumentIntelligenceClient(Config.ENDPOINT, credential)\n",
    "    card_info = document_client.begin_analyze_document(\n",
    "        \"prebuilt-creditCard\", AnalyzeDocumentRequest(url_source=card_url)\n",
    "    )\n",
    "    result = card_info.result()\n",
    "\n",
    "    # Extract fields from the first document (assuming one card per image)\n",
    "    fields = result.documents[0].get('fields', {})\n",
    "\n",
    "    # Flatten the nested dictionary to a simple dictionary\n",
    "    result = {}\n",
    "    for key, value in fields.items():\n",
    "        if 'valueArray' in value:\n",
    "            # Handle arrays of values\n",
    "            result[key] = [v['valueString'] for v in value['valueArray']]\n",
    "        else:\n",
    "            result[key] = value['content']\n",
    "\n",
    "    # Create a Pandas DataFrame from the flattened dictionary\n",
    "    df = pd.DataFrame.from_dict(result, orient='index', columns=['value'])\n",
    "\n",
    "    return df"
   ]
  },
  {
   "cell_type": "code",
   "execution_count": 70,
   "id": "80cd4ef8-5aae-48a2-825a-8156d0152d9f",
   "metadata": {},
   "outputs": [
    {
     "data": {
      "text/html": [
       "<div>\n",
       "<style scoped>\n",
       "    .dataframe tbody tr th:only-of-type {\n",
       "        vertical-align: middle;\n",
       "    }\n",
       "\n",
       "    .dataframe tbody tr th {\n",
       "        vertical-align: top;\n",
       "    }\n",
       "\n",
       "    .dataframe thead th {\n",
       "        text-align: right;\n",
       "    }\n",
       "</style>\n",
       "<table border=\"1\" class=\"dataframe\">\n",
       "  <thead>\n",
       "    <tr style=\"text-align: right;\">\n",
       "      <th></th>\n",
       "      <th>value</th>\n",
       "    </tr>\n",
       "  </thead>\n",
       "  <tbody>\n",
       "    <tr>\n",
       "      <th>CardHolderName</th>\n",
       "      <td>ADAM SMITH</td>\n",
       "    </tr>\n",
       "    <tr>\n",
       "      <th>CardNumber</th>\n",
       "      <td>5412 1234 5656 8888</td>\n",
       "    </tr>\n",
       "    <tr>\n",
       "      <th>CardVerificationValue</th>\n",
       "      <td>123</td>\n",
       "    </tr>\n",
       "    <tr>\n",
       "      <th>CustomerServicePhoneNumbers</th>\n",
       "      <td>[+1 200-345-6789, +1 200-000-8888]</td>\n",
       "    </tr>\n",
       "    <tr>\n",
       "      <th>ExpirationDate</th>\n",
       "      <td>01/28</td>\n",
       "    </tr>\n",
       "    <tr>\n",
       "      <th>IssuingBank</th>\n",
       "      <td>Contoso Bank</td>\n",
       "    </tr>\n",
       "    <tr>\n",
       "      <th>PaymentNetwork</th>\n",
       "      <td>mastercard</td>\n",
       "    </tr>\n",
       "  </tbody>\n",
       "</table>\n",
       "</div>"
      ],
      "text/plain": [
       "                                                          value\n",
       "CardHolderName                                       ADAM SMITH\n",
       "CardNumber                                  5412 1234 5656 8888\n",
       "CardVerificationValue                                       123\n",
       "CustomerServicePhoneNumbers  [+1 200-345-6789, +1 200-000-8888]\n",
       "ExpirationDate                                            01/28\n",
       "IssuingBank                                        Contoso Bank\n",
       "PaymentNetwork                                       mastercard"
      ]
     },
     "execution_count": 70,
     "metadata": {},
     "output_type": "execute_result"
    }
   ],
   "source": [
    "detect_credit_card_info(\"https://documentintelligence.ai.azure.com/documents/samples/prebuilt/credit-card-horizontal.png\")"
   ]
  },
  {
   "cell_type": "markdown",
   "id": "b90312ab-6f79-4f9d-bf7d-caf5139616da",
   "metadata": {},
   "source": [
    "* **Vamos verificar a qualidade e padronização do código.**"
   ]
  },
  {
   "cell_type": "code",
   "execution_count": 72,
   "id": "b894fede-90e6-417e-a778-4d283cf6fb96",
   "metadata": {},
   "outputs": [
    {
     "name": "stdout",
     "output_type": "stream",
     "text": [
      "Fixing /home/jcnok/bootcamps/Bootcamp-Microsoft-Certification-Challenge--1-AI_102/desafios_de_projeto/desafio_2/src/services/credit_card_service.py\n",
      "\u001b[1mSkipping .ipynb files as Jupyter dependencies are not installed.\n",
      "You can fix this by running ``pip install \"black[jupyter]\"``\u001b[0m\n",
      "\u001b[1mreformatted /home/jcnok/bootcamps/Bootcamp-Microsoft-Certification-Challenge--1-AI_102/desafios_de_projeto/desafio_2/src/services/credit_card_service.py\u001b[0m\n",
      "\n",
      "\u001b[1mAll done! ✨ 🍰 ✨\u001b[0m\n",
      "\u001b[34m\u001b[1m1 file \u001b[0m\u001b[1mreformatted\u001b[0m, \u001b[34m3 files \u001b[0mleft unchanged.\n"
     ]
    }
   ],
   "source": [
    "!task format src/services/credit_card_service.py"
   ]
  },
  {
   "cell_type": "markdown",
   "id": "fc44eb3c-00dc-48b0-908e-66a934afaf69",
   "metadata": {},
   "source": [
    "All done! ✨ 🍰 ✨"
   ]
  },
  {
   "cell_type": "markdown",
   "id": "e9a85758-895a-40cb-a8e3-258213fff431",
   "metadata": {},
   "source": [
    "* **Criar a branch para task3:**"
   ]
  },
  {
   "cell_type": "code",
   "execution_count": 73,
   "id": "e5a417e5-a9f5-43cd-ad65-b0b8620156a2",
   "metadata": {},
   "outputs": [
    {
     "name": "stdout",
     "output_type": "stream",
     "text": [
      "Switched to a new branch 'task3'\n"
     ]
    }
   ],
   "source": [
    "!git checkout -b task3"
   ]
  },
  {
   "cell_type": "markdown",
   "id": "4658a16c-4090-4b9d-8b1f-fc97c8e5eb89",
   "metadata": {},
   "source": [
    "* **Verificar se a branch task3 foi setada**:"
   ]
  },
  {
   "cell_type": "code",
   "execution_count": 75,
   "id": "d04db36a-989b-4cc5-a9a7-42ff3deaa439",
   "metadata": {},
   "outputs": [
    {
     "name": "stdout",
     "output_type": "stream",
     "text": [
      "  master\u001b[m\n",
      "  task1\u001b[m\n",
      "  task2\u001b[m\n",
      "* \u001b[32mtask3\u001b[m\n"
     ]
    }
   ],
   "source": [
    "!git branch "
   ]
  },
  {
   "cell_type": "markdown",
   "id": "6e5bf313-8d7f-454e-90dd-f0f68a2fcfdb",
   "metadata": {},
   "source": [
    "* **Adicionar ao stage e commitar:**"
   ]
  },
  {
   "cell_type": "code",
   "execution_count": 76,
   "id": "0113cab1-5f5a-45a3-8225-5d101b131f34",
   "metadata": {},
   "outputs": [],
   "source": [
    "!git add src/services/credit_card_service.py "
   ]
  },
  {
   "cell_type": "code",
   "execution_count": 77,
   "id": "1aa7b7e8-7b35-4320-bf7c-a165c2c927f4",
   "metadata": {},
   "outputs": [
    {
     "name": "stdout",
     "output_type": "stream",
     "text": [
      "[task3 60b641e] add: task3 finalizada com sucesso!\n",
      " 1 file changed, 40 insertions(+)\n",
      " create mode 100644 desafios_de_projeto/desafio_2/src/services/credit_card_service.py\n"
     ]
    }
   ],
   "source": [
    "!git commit -m \"add: task3 finalizada com sucesso!\""
   ]
  },
  {
   "cell_type": "markdown",
   "id": "4674a814-bdc2-4f89-b3a8-a6971f59e5b4",
   "metadata": {},
   "source": [
    "* **Enviar para o repositório remoto github:**"
   ]
  },
  {
   "cell_type": "code",
   "execution_count": 78,
   "id": "ef599d53-4fc9-42e7-8511-859fffc0e4bc",
   "metadata": {},
   "outputs": [
    {
     "name": "stdout",
     "output_type": "stream",
     "text": [
      "Enumerating objects: 12, done.\n",
      "Counting objects: 100% (12/12), done.\n",
      "Delta compression using up to 24 threads\n",
      "Compressing objects: 100% (7/7), done.\n",
      "Writing objects: 100% (7/7), 1.20 KiB | 1.20 MiB/s, done.\n",
      "Total 7 (delta 2), reused 0 (delta 0), pack-reused 0\n",
      "remote: Resolving deltas: 100% (2/2), completed with 2 local objects.\u001b[K\n",
      "remote: \n",
      "remote: Create a pull request for 'task3' on GitHub by visiting:\u001b[K\n",
      "remote:      https://github.com/Jcnok/Bootcamp-Microsoft-Certification-Challenge--1-AI_102/pull/new/task3\u001b[K\n",
      "remote: \n",
      "To https://github.com/Jcnok/Bootcamp-Microsoft-Certification-Challenge--1-AI_102.git\n",
      " * [new branch]      task3 -> task3\n"
     ]
    }
   ],
   "source": [
    "!git push origin task3"
   ]
  },
  {
   "cell_type": "markdown",
   "id": "e7f9cc2e-40d1-4056-b6b7-8db49e387964",
   "metadata": {},
   "source": [
    "* **Abrir a pull request da task3:**"
   ]
  },
  {
   "cell_type": "markdown",
   "id": "bc48a95e-0a63-4987-a09a-6331692ff9fd",
   "metadata": {},
   "source": [
    "![img](img/pr_task3_ok.jpg)\n",
    "       "
   ]
  },
  {
   "cell_type": "markdown",
   "id": "3e9d06ec-684e-4b02-86fa-024251378c1a",
   "metadata": {},
   "source": [
    "* **Merge realizad com sucesso!:**"
   ]
  },
  {
   "cell_type": "markdown",
   "id": "a12e158f-963b-4428-94d8-4789e81e4e52",
   "metadata": {},
   "source": [
    "![merge](img/pr_task3_merge.jpg)"
   ]
  },
  {
   "cell_type": "markdown",
   "id": "301f7125-3bde-4dd9-9d8f-9ca090499fcc",
   "metadata": {},
   "source": [
    "### Bom pessoal, agora falta criar a aplicação com streamlit, basicamente vamos usar todos os módulos para concluir o desafio até lá....🫡! \n",
    "### Se acharem que o conteúdo é de valia, agradeço o feedback e um voto de confiança... 🙏🏻 valeu..."
   ]
  },
  {
   "cell_type": "code",
   "execution_count": null,
   "id": "76799244-702c-4f4a-a1b3-a602bb769d6f",
   "metadata": {},
   "outputs": [],
   "source": []
  }
 ],
 "metadata": {
  "kernelspec": {
   "display_name": "ai102",
   "language": "python",
   "name": "ai-102-py3.12"
  },
  "language_info": {
   "codemirror_mode": {
    "name": "ipython",
    "version": 3
   },
   "file_extension": ".py",
   "mimetype": "text/x-python",
   "name": "python",
   "nbconvert_exporter": "python",
   "pygments_lexer": "ipython3",
   "version": "3.12.1"
  },
  "widgets": {
   "application/vnd.jupyter.widget-state+json": {
    "state": {},
    "version_major": 2,
    "version_minor": 0
   }
  }
 },
 "nbformat": 4,
 "nbformat_minor": 5
}
