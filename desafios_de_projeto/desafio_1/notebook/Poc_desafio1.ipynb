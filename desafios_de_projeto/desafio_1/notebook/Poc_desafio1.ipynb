{
 "cells": [
  {
   "cell_type": "markdown",
   "id": "c8a5b87c-7669-4582-b2cc-cb65de944b28",
   "metadata": {},
   "source": [
    "## Projeto de Tradução de Artigos Técnicos com Azure AI\n",
    "\n",
    "### Índice\n",
    "\n",
    "*   Introdução\n",
    "*   Contexto & Problema\n",
    "*   Solução\n",
    "*   Arquitetura & Tecnologias\n",
    "*   Resultados & Benefícios\n",
    "*   Considerações de Custo\n",
    "*   Próximos Passos\n",
    "\n",
    "### 1. Introdução\n",
    "\n",
    "Este projeto demonstra como traduzir artigos técnicos utilizando os serviços de Inteligência Artificial (IA) da Microsoft Azure, incluindo o Azure OpenAI e o Azure Translator. O objetivo é automatizar e simplificar o processo de tradução de conteúdo técnico, tornando-o acessível a um público mais amplo.\n",
    "\n",
    "### 2. Contexto & Problema\n",
    "\n",
    "A tradução de artigos técnicos apresenta desafios específicos, como a necessidade de manter a precisão terminológica e o estilo formal da escrita técnica. A tradução manual é um processo demorado e dispendioso, especialmente para grandes volumes de conteúdo.\n",
    "\n",
    "### 3. Solução\n",
    "\n",
    "Este projeto apresenta uma solução que automatiza a tradução de artigos técnicos utilizando os seguintes serviços:\n",
    "\n",
    "*   **Azure OpenAI:** Um serviço de IA que fornece modelos de linguagem avançados para tradução de texto, geração de texto e muito mais.\n",
    "*   **Azure Translator:** Um serviço de tradução de texto baseado em nuvem que suporta a tradução entre vários idiomas.\n",
    "*   **Python & Bibliotecas:** Linguagem de programação e bibliotecas como `requests`, `BeautifulSoup`, `docx` e `langchain` são usadas para interagir com os serviços da Azure e manipular os dados.\n",
    "\n",
    "### 4. Arquitetura & Tecnologias\n",
    "\n",
    "A solução consiste nos seguintes componentes:\n",
    "\n",
    "*   **Web Scraping:** O código Python extrai o texto do artigo técnico de uma URL fornecida.\n",
    "*   **Pré-processamento de Texto:** O texto extraído é limpo e formatado para ser processado pelos serviços de IA.\n",
    "*   **Tradução:** O texto pré-processado é enviado ao serviço Azure OpenAI ou Azure Translator para tradução para o idioma desejado.\n",
    "*   **Geração de Markdown:** O texto traduzido é formatado em Markdown para fácil visualização e publicação.\n",
    "\n",
    "### 5. Resultados & Benefícios\n",
    "\n",
    "A solução automatiza o processo de tradução de artigos técnicos, resultando em:\n",
    "\n",
    "*   **Eficiência:** Tradução rápida e eficiente de grandes volumes de conteúdo.\n",
    "*   **Acessibilidade:** Tradução de conteúdo técnico para vários idiomas, tornando-o acessível a um público mais amplo.\n",
    "*   **Consistência:** Manutenção da precisão terminológica e do estilo formal da escrita técnica.\n",
    "\n",
    "### 6. Considerações de Custo\n",
    "\n",
    "A utilização dos serviços Azure OpenAI e Azure Translator incorre em custos, que variam de acordo com o volume de texto traduzido. É possível utilizar a camada gratuita para volumes menores de tradução. A partir de um determinado volume, a utilização do Azure OpenAI pode ser mais econômica do que o Azure Translator.\n",
    "\n",
    "### 7. Próximos Passos\n",
    "\n",
    "O projeto pode ser aprimorado com as seguintes funcionalidades:\n",
    "\n",
    "*   **Tradução de Documentos:** Adaptação do código para traduzir documentos do Word, PDF e outros formatos.\n",
    "*   **Integração com GitHub:** Publicação automática de artigos traduzidos no GitHub.\n",
    "*   **Interface Web:** Desenvolvimento de uma interface web para facilitar a utilização da solução.\n",
    "\n",
    "### Conclusão\n",
    "\n",
    "Este projeto demonstra o potencial da IA para automatizar e simplificar tarefas complexas, como a tradução de artigos técnicos. A solução apresentada é um ponto de partida para a criação de aplicações mais robustas e completas de tradução de conteúdo.\n"
   ]
  },
  {
   "cell_type": "markdown",
   "id": "7bf96b42-dae2-4225-8acb-cf9a2a5edfe7",
   "metadata": {},
   "source": [
    "## Passo a Passo Detalhado para o Desenvolvimento do Projeto de Tradução de Artigos Técnicos com Azure AI\n",
    "\n",
    "Este guia detalhado descreve as etapas para desenvolver um projeto que traduz artigos técnicos usando os serviços de IA da Microsoft Azure. Ele se baseia em informações de nossas conversas anteriores e dos recursos fornecidos, com o objetivo de fornecer uma compreensão completa do processo."
   ]
  },
  {
   "cell_type": "markdown",
   "id": "469d185f-47f7-4c50-9e3b-6763dba6be73",
   "metadata": {},
   "source": [
    "### Fase 1: Configuração do Ambiente\n",
    "\n",
    "- **1. Criar um Grupo de Recursos:**  No portal do Azure, crie um grupo de recursos para organizar os recursos do projeto, como o Azure OpenAI e o Azure Translator."
   ]
  },
  {
   "cell_type": "markdown",
   "id": "0be2f729-35ec-48c6-94fc-b89d3c5b863b",
   "metadata": {},
   "source": [
    "![img](../img/passo1.png)"
   ]
  },
  {
   "cell_type": "markdown",
   "id": "f6742295-00e2-41e1-a11f-1f19d271efc6",
   "metadata": {},
   "source": [
    "![passo1.1](../img/passo1.1.png)"
   ]
  },
  {
   "cell_type": "markdown",
   "id": "ebc7b243-09c1-4dae-8e03-d7d620875fb1",
   "metadata": {},
   "source": [
    "## Tradução utilizando o serviço Azure OpenAI"
   ]
  },
  {
   "cell_type": "markdown",
   "id": "4369c60b-477e-4052-89af-3297cd66326e",
   "metadata": {},
   "source": [
    "- **2. Provisionar o Serviço Azure OpenAI:** Crie uma instância do serviço Azure OpenAI. Selecione a região desejada (East por exemplo), escolha um nome para a instância, e opte pela camada gratuita para começar."
   ]
  },
  {
   "cell_type": "markdown",
   "id": "06023d07-e79b-4bd8-9257-5dff03901b15",
   "metadata": {},
   "source": [
    "![passo2](../img/passo2.png)"
   ]
  },
  {
   "cell_type": "markdown",
   "id": "387ca634-8989-48b7-a8e9-d7d0ebbf77dd",
   "metadata": {},
   "source": [
    "![passo2.1](../img/passo2.1.png)"
   ]
  },
  {
   "cell_type": "code",
   "execution_count": null,
   "id": "927b08da-2776-4655-bec4-4b8e1959bb5b",
   "metadata": {},
   "outputs": [],
   "source": []
  },
  {
   "cell_type": "markdown",
   "id": "c57ab040-63dc-4257-b813-db5d6d752e3f",
   "metadata": {},
   "source": [
    "- **3. Implantar o Modelo GPT-4 Mini:** No Azure OpenAI Studio, implante o modelo GPT-4 Mini, selecionando o \"Modo Básico\" e a opção \"Standard\" para a implantação. Anote a chave de API e o endpoint do Azure OpenAI, pois você precisará deles mais tarde."
   ]
  },
  {
   "cell_type": "markdown",
   "id": "c331bc19-eb9b-4118-b8cd-d09e570255bb",
   "metadata": {},
   "source": [
    "![passo3](../img/passo3.png)"
   ]
  },
  {
   "cell_type": "markdown",
   "id": "8bc5f0e9-357a-4cc9-8f02-60180d75a999",
   "metadata": {},
   "source": [
    "![passo3.1](../img/passo3.1.png)"
   ]
  },
  {
   "cell_type": "markdown",
   "id": "a04fba19-733a-4f71-b12d-b9b5e8d518ef",
   "metadata": {},
   "source": [
    "## Tradução usando o serviço Azure Translator"
   ]
  },
  {
   "cell_type": "markdown",
   "id": "aae1417d-0834-425a-ba9b-0acbc0c2d0ae",
   "metadata": {},
   "source": [
    "- **4. Provisionar o Serviço Azure Translator:** Crie uma instância do serviço Azure Translator no mesmo grupo de recursos. Escolha a região East US 2 para consistência, nomeie a instância e selecione a camada gratuita, que oferece tradução de até 2 milhões de caracteres.  "
   ]
  },
  {
   "cell_type": "markdown",
   "id": "9721f076-3284-4779-b846-4e15c7016912",
   "metadata": {},
   "source": [
    "![passo4](../img/passo4.png)                                                            "
   ]
  },
  {
   "cell_type": "markdown",
   "id": "9583fb4c-5d18-4fa6-b68c-1ea78490b3aa",
   "metadata": {},
   "source": [
    "![passo4.1](../img/passo4.1.png)"
   ]
  },
  {
   "cell_type": "markdown",
   "id": "441d97a7-1beb-43ed-8c6e-b9015c585090",
   "metadata": {},
   "source": [
    "- **5. Obter a Chave de Assinatura e o Endpoint do Translator:** Acesse as chaves de assinatura e o endpoint do serviço Azure Translator. Anote essas informações, pois serão usadas para autenticar e interagir com o serviço."
   ]
  },
  {
   "cell_type": "markdown",
   "id": "892f0cd7-ff5f-4b3b-8b42-7cbede658378",
   "metadata": {},
   "source": [
    "![passo5](../img/passo5.png)"
   ]
  },
  {
   "cell_type": "markdown",
   "id": "54ba19ec-f8a0-4635-abfe-5febac3586c4",
   "metadata": {},
   "source": [
    "## Fase 2: Desenvolvimento do Código Python"
   ]
  },
  {
   "cell_type": "markdown",
   "id": "a0e9729f-cd2a-4525-9919-0ea593f0ba3c",
   "metadata": {},
   "source": [
    "- ### Criar dois projetos para tradução com a api do Azure OpenAI e do Azure Tradutor."
   ]
  },
  {
   "cell_type": "markdown",
   "id": "d9e0dfae-43e8-44e6-9660-91fe3e0b5f4d",
   "metadata": {},
   "source": [
    "## Primeiro projeto - Tradução de artigos:"
   ]
  },
  {
   "cell_type": "markdown",
   "id": "083bc6ae-00e2-462a-b464-d14e6defd2ef",
   "metadata": {},
   "source": [
    "**1. Importar as Bibliotecas:**:"
   ]
  },
  {
   "cell_type": "code",
   "execution_count": 1,
   "id": "1babbfd7-cb42-439e-9431-ea8b15b61018",
   "metadata": {},
   "outputs": [],
   "source": [
    "from bs4 import BeautifulSoup\n",
    "import requests, uuid, json\n",
    "import os\n",
    "from dotenv import load_dotenv"
   ]
  },
  {
   "cell_type": "markdown",
   "id": "56b23764-1593-4dd8-bd6c-0290fa840bad",
   "metadata": {},
   "source": [
    "**2. Definir as Variáveis de Ambiente:** variáveis de ambiente para a chave de assinatura do Azure Translator, endpoint do Translator e endpoint do Azure OpenAI:"
   ]
  },
  {
   "cell_type": "code",
   "execution_count": 13,
   "id": "8b193779-3aa7-49bc-9495-3f8e6223ac5f",
   "metadata": {},
   "outputs": [],
   "source": [
    "# Carregar variáveis de ambiente do arquivo .env\n",
    "load_dotenv()\n",
    "\n",
    "API_KEY = os.getenv(\"AZURE_OPENAI_KEY\")\n",
    "key = os.getenv(\"TRANSLATOR_API_KEY\")\n",
    "endpoint = os.getenv(\"TRANSLATOR_ENDPOINT\")\n",
    "location = os.getenv(\"TRANSLATOR_LOCATION\")"
   ]
  },
  {
   "cell_type": "markdown",
   "id": "5fa715a2-1610-4013-893f-b1aab1ec2d24",
   "metadata": {},
   "source": [
    "**3. Criar a Função de Extração de Texto:** função Python chamada `extract_text()` para extrair texto de uma URL fornecida. Esta função deve:\n",
    "\n",
    "*   Usar `requests.get()` para buscar o conteúdo HTML da URL.\n",
    "*   Verificar se a resposta HTTP tem o código de status 200 (sucesso).\n",
    "*   Criar um objeto `BeautifulSoup` para analisar o HTML.\n",
    "*   Remover tags `<script>` e `<style>` do HTML.\n",
    "*   Extrair o texto usando `soup.get_text()`.\n",
    "*   Limpar o texto removendo caracteres desnecessários, como quebras de linha extras.\n",
    "*   Retornar o texto limpo."
   ]
  },
  {
   "cell_type": "code",
   "execution_count": 8,
   "id": "edd34465-f52a-4eb3-8635-f5b96b8b2a42",
   "metadata": {},
   "outputs": [
    {
     "data": {
      "text/plain": [
       "'Steve Jobs The Visionary Who Blended Spirituality and Technology - DEV Community Skip to content Navigation menu Search Powered by Search Algolia Search Log in Create account DEV Community Close Add reaction Like Unicorn Exploding Head Raised Hands Fire Jump to Comments Save More... Copy link Copy link Copied to Clipboard Share to Twitter Share to LinkedIn Share to Reddit Share to Hacker News Share to Facebook Share to Mastodon Report Abuse Eric Dequevedo Posted on Jun 28 • Originally published at rics-notebook.com Steve Jobs The Visionary Who Blended Spirituality and Technology # stevejobs # apple # iphone # spirituality Steve Jobs: The Visionary Who Blended Spirituality and Technology 🍎🕉️ Steve Jobs, the co-founder of Apple and the mastermind behind revolutionary products like the iPhone, was not only a tech visionary but also a deeply spiritual individual. His unique blend of Eastern spirituality and Western innovation allowed him to create technology that was not only functional but also incredibly cool and desirable. 📱✨ The Spiritual Journey of Steve Jobs 🧘\\u200d♂️ From a young age, Steve Jobs was drawn to Eastern spirituality and philosophy. He famously spent seven months traveling through India in 1974, seeking spiritual enlightenment and studying Buddhism. This experience had a profound impact on his life and would later influence his approach to business and product design. 🌍🙏 One of the most significant turning points in Jobs\\' spiritual journey was his encounter with the book \"Be Here Now\" by Ram Dass. The book, which blends Eastern spirituality with Western psychology, resonated deeply with Jobs and became a guiding force in his life. 📖💡 Jobs\\' spiritual pursuits also led him to develop a connection with the Indian guru Neem Karoli Baba, also known as Maharaj-ji. Although Jobs never met Maharaj-ji in person, he felt a strong spiritual connection to the guru and sought his guidance through intermediaries. This relationship helped Jobs stay grounded and focused as he navigated the challenges of leading a rapidly growing technology company. 🕉️💼 The Intersection of Spirituality and Technology 🌐🧘\\u200d♂️ Steve Jobs\\' spiritual beliefs profoundly influenced his approach to technology and design. He believed that technology should not only be functional but also aesthetically pleasing and intuitive to use. Jobs\\' vision was to create products that would enhance people\\'s lives and bring them joy, rather than merely serving as tools. 🎨💻 The iPhone, perhaps Jobs\\' most iconic creation, perfectly exemplifies this philosophy. With its sleek design, user-friendly interface, and powerful features, the iPhone revolutionized the smartphone industry and set a new standard for mobile technology. Jobs\\' attention to detail and focus on user experience, informed by his spiritual outlook, made the iPhone not just a device, but a statement of style and individuality. 📱👨\\u200d💻 Jobs\\' spiritual approach to leadership also set him apart from other tech CEOs. He fostered a culture of innovation and creativity at Apple, encouraging his team to think differently and push boundaries. Jobs\\' belief in the power of intuition and his ability to \"think different\" allowed him to anticipate and shape the future of technology, rather than simply reacting to market trends. 🔮💡 The Legacy of Steve Jobs 🍏🌟 Steve Jobs\\' impact on the world of technology and his unique approach to blending spirituality with innovation continue to inspire and influence entrepreneurs and designers around the globe. His vision for Apple and his commitment to creating products that enrich people\\'s lives have left an indelible mark on the tech industry. 🌍💻 Beyond his technological achievements, Jobs\\' spiritual journey and his dedication to personal growth and self-discovery serve as a reminder that success and inner peace are not mutually exclusive. By embracing his spirituality and allowing it to guide his work, Jobs was able to achieve remarkable things while staying true to himself and his values. 🧘\\u200d♂️🏆 As we reflect on the life and legacy of Steve Jobs, we can draw inspiration from his ability to blend seemingly disparate worlds – spirituality and technology – into a harmonious whole. By following our own paths to self-discovery and allowing our deepest values to inform our work, we too can create products, services, and experiences that not only change the world but also bring joy and meaning to people\\'s lives. 🌈🙌 Top comments (0) Subscribe Personal Trusted User Create template Templates let you quickly answer FAQs or store snippets for re-use. Submit Preview Dismiss Code of Conduct • Report abuse Are you sure you want to hide this comment? It will become hidden in your post, but will still be visible via the comment\\'s permalink . Hide child comments as well Confirm For further actions, you may consider blocking this person and/or reporting abuse Read next 🚀 pgai Vectorizer: Automate AI Embeddings With One SQL Command in PostgreSQL Avthar Sewrathan - Oct 29 Listen to Our New Podcast: \"On The Board\" Michael Tharrington - Oct 29 Congrats to the Wix Studio Challenge: Community Edition Winner! dev.to staff - Oct 29 ChartDB: From Zero to 1.5K GitHub Stars in 3 Days - Here’s How 🚀⭐️ Jonathan Fishner - Oct 29 Eric Dequevedo Follow Hello, I\\'m Eric deQuevedo, or Ric. I enjoy studying the Art of Science, and the Science of Art.\\nI am the author of the Robot Ric\\nAnd Founder Of Quantum Cyber Solutions Location Orlando Florida Education University Of Florida Pronouns we/one Work Founder Quantum Cyber Solutions, Author Robot Ric Joined Jun 27, 2024 More from Eric Dequevedo The Quantum Entanglement of Ideas Exploring the Spiritual Implications of Superposition and the Mandela Effect # quantummechanics # spirituality # consciousness # mandelaeffect Robot Ric From Blog Post to Best-Selling Novel # novel # ai # spirituality # resilience Astrology and Quantum Entanglement Unveiling the Cosmic Dance # astrology # quantumphysics # spirituality # science Thank you to our Diamond Sponsor Neon for supporting our community. DEV Community — A constructive and inclusive social network for software developers. With you every step of your journey. Home DEV++ Podcasts Videos Tags DEV Help Forem Shop Advertise on DEV DEV Challenges DEV Showcase About Contact Free Postgres Database Guides Software comparisons Code of Conduct Privacy Policy Terms of use Built on Forem — the open source software that powers DEV and other inclusive communities. Made with love and Ruby on Rails . DEV Community © 2016 - 2024. We\\'re a place where coders share, stay up-to-date and grow their careers. Log in Create account'"
      ]
     },
     "execution_count": 8,
     "metadata": {},
     "output_type": "execute_result"
    }
   ],
   "source": [
    "url=\"https://dev.to/eric_dequ/steve-jobs-the-visionary-who-blended-spirituality-and-technology-3ppi\"\n",
    "def extract_text(url):\n",
    "    response = requests.get(url)\n",
    "    if response.status_code == 200:\n",
    "        soup = BeautifulSoup(response.text, 'html.parser')\n",
    "        for script in soup([\"script\", \"style\"]):\n",
    "            script.decompose()\n",
    "        text = soup.get_text(\" \", strip=True)\n",
    "        return text\n",
    "    else:\n",
    "        print(\"Falha ao buscar a URL. Código de status:\", response.status_code)\n",
    "        return None\n",
    "extract_text(url)"
   ]
  },
  {
   "cell_type": "markdown",
   "id": "99efbd4b-e5d6-4f43-b381-56e3b96f376f",
   "metadata": {},
   "source": [
    "**4. Criar a Função de Tradução de Texto:** função Python chamada `translate_article()` para traduzir o texto extraído usando o Azure Translator. Esta função deve:\n",
    "\n",
    "*   Definir o endpoint da API de tradução.(ENDPOINT)\n",
    "*   Criar um cabeçalho de solicitação com a chave de assinatura.(headers)\n",
    "*   Definir o corpo da solicitação com o texto a ser traduzido.(payload)\n",
    "*   Enviar uma solicitação POST para a API de tradução usando `requests.post()`.\n",
    "*   Extrair o texto traduzido da resposta JSON.\n",
    "*   Retornar o texto traduzido."
   ]
  },
  {
   "cell_type": "code",
   "execution_count": 24,
   "id": "5e7f4cfe-8ef5-4b5a-8914-5e570fe15861",
   "metadata": {},
   "outputs": [],
   "source": [
    "def translate_article(text, lang):\n",
    "    headers = {\n",
    "    \"Content-Type\": \"application/json\",\n",
    "    \"api-key\": API_KEY,\n",
    "    }\n",
    "    \n",
    "    # Payload for the request\n",
    "    payload = {\n",
    "      \"messages\": [\n",
    "        {\n",
    "          \"role\": \"system\",\n",
    "          \"content\": [\n",
    "            {\n",
    "              \"type\": \"text\",\n",
    "              \"text\": \"Você atua como tradutor de textos\"\n",
    "            }\n",
    "          ]\n",
    "        },\n",
    "        {\n",
    "          \"role\": \"user\",\n",
    "          \"content\": [\n",
    "            {\n",
    "              \"type\": \"text\",\n",
    "              \"text\": f\"traduza: {text} para o idioma {lang} e responda apenas com a tradução no formato markdown\"\n",
    "            }\n",
    "          ]\n",
    "        },    \n",
    "      ],\n",
    "      \"temperature\": 0.7,\n",
    "      \"top_p\": 0.95,\n",
    "      \"max_tokens\": 900\n",
    "    }\n",
    "    \n",
    "    ENDPOINT = \"https://openai-dio-boot-east1.openai.azure.com/openai/deployments/gpt-4o-mini/chat/completions?api-version=2024-02-15-preview\"\n",
    "    \n",
    "    # Send request\n",
    "    try:\n",
    "        response = requests.post(ENDPOINT, headers=headers, json=payload)\n",
    "        response.raise_for_status()  # Will raise an HTTPError if the HTTP request returned an unsuccessful status code\n",
    "    except requests.RequestException as e:\n",
    "        raise SystemExit(f\"Failed to make the request. Error: {e}\")\n",
    "    \n",
    "    # Handle the response as needed (e.g., print or process)\n",
    "    return (response.json()['choices'][0]['message']['content'])"
   ]
  },
  {
   "cell_type": "markdown",
   "id": "7d1a6123-ddc2-4c94-8f0f-5a81c167586d",
   "metadata": {},
   "source": [
    "* **Realizando testes:**"
   ]
  },
  {
   "cell_type": "code",
   "execution_count": 20,
   "id": "7b9e0307-54ed-491e-968b-8b04752e7d7e",
   "metadata": {},
   "outputs": [
    {
     "data": {
      "text/plain": [
       "'O futuro pertence àqueles que acreditam na beleza de seus sonhos. - Eleanor Roosevelt'"
      ]
     },
     "execution_count": 20,
     "metadata": {},
     "output_type": "execute_result"
    }
   ],
   "source": [
    "translate_article(\"The future belongs to those who believe in the beauty of their dreams. - Eleanor Roosevelt\",\"português\")"
   ]
  },
  {
   "cell_type": "markdown",
   "id": "6420fd46-16b0-4120-878f-b2ac5027acac",
   "metadata": {},
   "source": [
    "* **Agora vamos testar com o artigo:** 'https://dev.to/eric_dequ/steve-jobs-the-visionary-who-blended-spirituality-and-technology-3ppi'"
   ]
  },
  {
   "cell_type": "code",
   "execution_count": null,
   "id": "d252ab89-756a-40f6-886c-668f3407443d",
   "metadata": {},
   "outputs": [],
   "source": [
    "url = \"https://dev.to/eric_dequ/steve-jobs-the-visionary-who-blended-spirituality-and-technology-3ppi\"\n",
    "text = extract_text(url)\n",
    "artigo = translate_article(text,\"português\")\n",
    "print(artigo)"
   ]
  },
  {
   "cell_type": "markdown",
   "id": "07ef5364-df45-4f2d-adfa-c110481caa87",
   "metadata": {},
   "source": [
    "# Steve Jobs: O Visionário Que Misturou Espiritualidade e Tecnologia\n",
    "\n",
    "🍎🕉️ Steve Jobs, cofundador da Apple e mente por trás de produtos revolucionários como o iPhone, não era apenas um visionário da tecnologia, mas também uma pessoa profundamente espiritual. Sua combinação única de espiritualidade oriental e inovação ocidental permitiu que ele criasse tecnologia que não era apenas funcional, mas também incrivelmente legal e desejável. 📱✨\n",
    "\n",
    "## A Jornada Espiritual de Steve Jobs 🧘‍♂️\n",
    "\n",
    "Desde jovem, Steve Jobs foi atraído pela espiritualidade e filosofia orientais. Ele passou sete meses viajando pela Índia em 1974, buscando iluminação espiritual e estudando o budismo. Essa experiência teve um impacto profundo em sua vida e, mais tarde, influenciou sua abordagem aos negócios e ao design de produtos. 🌍🙏\n",
    "\n",
    "Um dos pontos de virada mais significativos na jornada espiritual de Jobs foi seu encontro com o livro \"Be Here Now\" de Ram Dass. O livro, que mistura espiritualidade oriental com psicologia ocidental, ressoou profundamente com Jobs e se tornou uma força orientadora em sua vida. 📖💡\n",
    "\n",
    "As buscas espirituais de Jobs também o levaram a desenvolver uma conexão com o guru indiano Neem Karoli Baba, também conhecido como Maharaj-ji. Embora Jobs nunca tenha conhecido Maharaj-ji pessoalmente, ele sentiu uma forte conexão espiritual com o guru e buscou sua orientação através de intermediários. Esse relacionamento ajudou Jobs a se manter centrado e focado enquanto navegava pelos desafios de liderar uma empresa de tecnologia em rápido crescimento. 🕉️💼\n",
    "\n",
    "## A Interseção de Espiritualidade e Tecnologia 🌐🧘‍♂️\n",
    "\n",
    "As crenças espirituais de Steve Jobs influenciaram profundamente sua abordagem à tecnologia e ao design. Ele acreditava que a tecnologia não deveria ser apenas funcional, mas também esteticamente agradável e intuitiva de usar. A visão de Jobs era criar produtos que enriquecessem a vida das pessoas e trouxessem alegria, em vez de simplesmente servir como ferramentas. 🎨💻\n",
    "\n",
    "O iPhone, talvez a criação mais icônica de Jobs, exemplifica perfeitamente essa filosofia. Com seu design elegante, interface amigável e recursos poderosos, o iPhone revolucionou a indústria de smartphones e estabeleceu um novo padrão para a tecnologia móvel. A atenção aos detalhes de Jobs e seu foco na experiência do usuário, informados por sua perspectiva espiritual, fizeram do iPhone não apenas um dispositivo, mas uma declaração de estilo e individualidade. 📱👨‍💻\n",
    "\n",
    "A abordagem espiritual de Jobs à liderança também o diferenciou de outros CEOs de tecnologia. Ele fomentou uma cultura de inovação e criatividade na Apple, encorajando sua equipe a pensar de forma diferente e ultrapassar limites. A crença de Jobs no poder da intuição e sua capacidade de \"pensar diferente\" permitiram que ele antecipasse e moldasse o futuro da tecnologia, em vez de simplesmente reagir às tendências de mercado. 🔮💡\n",
    "\n",
    "## O Legado de Steve Jobs 🍏🌟\n",
    "\n",
    "O impacto de Steve Jobs no mundo da tecnologia e sua abordagem única de misturar espiritualidade com inovação continuam a inspirar e influenciar empreendedores e designers ao redor do mundo. Sua visão para a Apple e seu compromisso em criar produtos que enriquecem a vida das pessoas deixaram uma marca indelével na indústria de tecnologia. 🌍💻\n",
    "\n",
    "Além de suas conquistas tecnológicas, a jornada espiritual de Jobs e sua dedicação ao crescimento pessoal e autodescoberta servem como um lembrete de que sucesso e paz interior não são mutuamente exclusivos. Ao abraçar sua espiritualidade e permitir que ela guiasse seu trabalho, Jobs conseguiu realizar coisas notáveis enquanto permanecia fiel a si mesmo e a seus valores. 🧘‍♂️🏆\n",
    "\n",
    "Ao refletirmos sobre a vida e o legado de Steve Jobs, podemos nos inspirar em sua capacidade de misturar mundos aparentemente distintos – espiritualidade e tecnologia – em um todo harmonioso. Ao seguir nossos próprios caminhos de autodescoberta e permitir que nossos valores mais profundos informem nosso trabalho, também podemos criar produtos, serviços e experiências que não apenas mudam o mundo, mas também trazem alegria e significado para a vida das pessoas. 🌈"
   ]
  },
  {
   "cell_type": "markdown",
   "id": "33b95c77-6414-4a11-96a6-34a852d77d22",
   "metadata": {},
   "source": [
    "* **A tradução ficou bem definida com o formato markdown se compararmos com o link do artigo:** 'https://dev.to/eric_dequ/steve-jobs-the-visionary-who-blended-spirituality-and-technology-3ppi'"
   ]
  },
  {
   "cell_type": "markdown",
   "id": "60a2bfc2-d5a9-4296-a49f-05b05fc77e16",
   "metadata": {},
   "source": [
    "--"
   ]
  },
  {
   "cell_type": "markdown",
   "id": "33988c43-f6da-4d06-8512-b58c4e0a4b18",
   "metadata": {},
   "source": [
    "## Segundo Projeto - Tradução de Documentos:"
   ]
  },
  {
   "cell_type": "markdown",
   "id": "81cd2a09-5553-4c75-918d-2874ceeddba6",
   "metadata": {},
   "source": [
    "**1. Criar a Função de Tradução de Texto:** Crie uma função Python chamada `translate_text()` para traduzir o texto extraído usando o Azure Translator. Esta função deve:\n",
    "\n",
    "*   Definir o endpoint da API de tradução como `translator_endpoint + \"translate\"`.\n",
    "*   Criar um cabeçalho de solicitação com a chave de assinatura e um ID de cliente.(`headers`)\n",
    "*   Definir o corpo da solicitação com o texto a ser traduzido, o idioma de origem (inglês) e o idioma de destino (português brasileiro).(`params, body`)\n",
    "*   Enviar uma solicitação POST para a API de tradução usando `requests.post()`.\n",
    "*   Extrair o texto traduzido da resposta JSON.\n",
    "*   Retornar o texto traduzido."
   ]
  },
  {
   "cell_type": "code",
   "execution_count": 9,
   "id": "aba9ec60-eb29-44c0-9a3a-3fcded2e7db5",
   "metadata": {},
   "outputs": [],
   "source": [
    "import requests, uuid, json\n",
    "import os\n",
    "from dotenv import load_dotenv\n",
    "def translate_text(text, lang_from, lang_to):        \n",
    "        # Carregar variáveis de ambiente do arquivo .env\n",
    "        load_dotenv()\n",
    "        \n",
    "        key = os.getenv(\"TRANSLATOR_API_KEY\")\n",
    "        endpoint = os.getenv(\"TRANSLATOR_ENDPOINT\")\n",
    "        location = os.getenv(\"TRANSLATOR_LOCATION\")\n",
    "        \n",
    "        path = '/translate'\n",
    "        constructed_url = endpoint + path\n",
    "        \n",
    "        params = {\n",
    "            'api-version': '3.0',\n",
    "            'from': lang_from,\n",
    "            'to': lang_to\n",
    "        }\n",
    "        \n",
    "        headers = {\n",
    "            'Ocp-Apim-Subscription-Key': key,\n",
    "            # location required if you're using a multi-service or regional (not global) resource.\n",
    "            'Ocp-Apim-Subscription-Region': location,\n",
    "            'Content-type': 'application/json',\n",
    "            'X-ClientTraceId': str(uuid.uuid4())\n",
    "        }\n",
    "        \n",
    "        # You can pass more than one object in body.\n",
    "        body = [{\n",
    "            'text': text\n",
    "        }]\n",
    "        \n",
    "        request = requests.post(constructed_url, params=params, headers=headers, json=body)\n",
    "        response = request.json()\n",
    "        return response[0]['translations'][0]['text']"
   ]
  },
  {
   "cell_type": "markdown",
   "id": "b6c0a579-ab21-46a4-b12e-22bfc92873ce",
   "metadata": {},
   "source": [
    "**2. Executar testes:**"
   ]
  },
  {
   "cell_type": "code",
   "execution_count": 10,
   "id": "d5b21375-aec8-45b1-aa05-dff90d570c2b",
   "metadata": {},
   "outputs": [
    {
     "data": {
      "text/plain": [
       "'A mente que se abre para uma nova ideia nunca retorna ao seu tamanho original.- Albert Einstein'"
      ]
     },
     "execution_count": 10,
     "metadata": {},
     "output_type": "execute_result"
    }
   ],
   "source": [
    "text = \"The mind that opens to a new idea never returns to its original size.- Albert Einstein\"\n",
    "lang_from = \"en\"\n",
    "lang_to =  \"pt-br\"\n",
    "translate_text(text,lang_from,lang_to)"
   ]
  },
  {
   "cell_type": "markdown",
   "id": "92946c28-cf38-4559-99e1-c53f359fe49b",
   "metadata": {},
   "source": [
    "**3. Carregar um documento word para tradução**:"
   ]
  },
  {
   "cell_type": "code",
   "execution_count": 11,
   "id": "5c1e8f50-853e-4d80-ae97-8a008f72941d",
   "metadata": {},
   "outputs": [],
   "source": [
    "from docx import Document\n",
    "def carregar_texto_word(arquivo):\n",
    "    doc = Document(arquivo)\n",
    "    texto_completo = \"\\n\".join([paragrafo.text for paragrafo in doc.paragraphs])\n",
    "    return texto_completo"
   ]
  },
  {
   "cell_type": "markdown",
   "id": "4bc36728-3d3b-471c-b169-4bfd7c37cb16",
   "metadata": {},
   "source": [
    "**4. Executar testes:**"
   ]
  },
  {
   "cell_type": "code",
   "execution_count": 12,
   "id": "34eafabb-a54f-424c-a8a9-0f9622b3c36f",
   "metadata": {},
   "outputs": [
    {
     "data": {
      "text/plain": [
       "'Steve Jobs: (00:21)\\nThank you. I’m honored to be with you today for your commencement from one of the finest universities in the world. Truth be told, I never graduated from college, and this is the c'"
      ]
     },
     "execution_count": 12,
     "metadata": {},
     "output_type": "execute_result"
    }
   ],
   "source": [
    "# Caminho do arquivo de exemplo\n",
    "path = \"../data/Steve_Jobs_Stanfod.docx\"\n",
    "# carregar apenas os primeiros 200 caracteres.\n",
    "carregar_texto_word(path)[:200]"
   ]
  },
  {
   "cell_type": "markdown",
   "id": "573ad9b1-2b39-4a09-8d7b-6522582db0eb",
   "metadata": {},
   "source": [
    "**5. Criar uma função para salvar o arquivo traduzido no formato word:**"
   ]
  },
  {
   "cell_type": "code",
   "execution_count": 19,
   "id": "7c15c627-21c6-4237-a880-482db5f23a76",
   "metadata": {},
   "outputs": [],
   "source": [
    "from io import BytesIO\n",
    "def trad_para_download(texto, nome_arquivo=\"tradução.docx\"):\n",
    "    doc = Document()\n",
    "    for linha in texto.split('\\n'):\n",
    "        doc.add_paragraph(linha)    \n",
    "    doc.save(nome_arquivo)    "
   ]
  },
  {
   "cell_type": "markdown",
   "id": "8bee12c1-0a26-421f-99df-8d87d2a5c9bb",
   "metadata": {},
   "source": [
    "**6. Executar testes:**"
   ]
  },
  {
   "cell_type": "code",
   "execution_count": 20,
   "id": "428959ee-d8c4-4067-8e05-8142d872686e",
   "metadata": {},
   "outputs": [],
   "source": [
    "# Carregar documento: \n",
    "path = \"../data/Steve_Jobs_Stanfod.docx\"\n",
    "# carregar apenas os primeiros 200 caracteres.\n",
    "texto = carregar_texto_word(path)\n",
    "# Traduzir o documento:\n",
    "text_traduzido = translate_text(texto, \"en\", \"pt-br\")\n",
    "# Salvar o texto traduzido no formato docx.\n",
    "trad_para_download(text_traduzido, \"trad.docx\")"
   ]
  },
  {
   "cell_type": "markdown",
   "id": "ca92cde1-bdcb-4d91-a3cf-bb2eb43f5a07",
   "metadata": {},
   "source": [
    "**7. Verificar o arquivo traduzido:**"
   ]
  },
  {
   "cell_type": "code",
   "execution_count": 21,
   "id": "4adcaf5c-d6ea-48a2-9dab-e5bc5926d3b6",
   "metadata": {},
   "outputs": [
    {
     "data": {
      "text/plain": [
       "'Steve Jobs: (00:21)\\nObrigado. Tenho a honra de estar com vocês hoje para sua formatura em uma das melhores universidades do mundo. Verdade seja dita, eu nunca me formei na faculdade, e este é o mais próximo que já cheguei de uma formatura na faculdade hoje. Quero contar três histórias da minha vida. É isso. Não é grande coisa. Apenas três histórias. A primeira história é sobre ligar os pontos. Abandonei o Reed College após os primeiros seis meses, mas depois fiquei por mais 18 meses ou mais antes de realmente desistir. Então, por que eu desisti? Tudo começou antes de eu nascer.\\nSteve Jobs: (01:15)\\nMinha mãe biológica era uma jovem estudante de pós-graduação solteira e decidiu me colocar para adoção. Ela sentiu muito fortemente que eu deveria ser adotado por graduados universitários. Então, tudo estava pronto para eu ser adotado no nascimento por um advogado e sua esposa, exceto que quando eu apareci, eles decidiram no último minuto que realmente queriam uma menina. Então, meus pais, qu'"
      ]
     },
     "execution_count": 21,
     "metadata": {},
     "output_type": "execute_result"
    }
   ],
   "source": [
    "path = \"trad.docx\"\n",
    "carregar_texto_word(path)[:1000]"
   ]
  },
  {
   "cell_type": "markdown",
   "id": "a53f9285-d877-4b3e-822e-3ae1332ffa5e",
   "metadata": {},
   "source": [
    "### Considerações Adicionais\n",
    "\n",
    "*   **Gerenciamento de Custos:** Monitore o uso dos serviços Azure OpenAI e Azure Translator para controlar os custos. Avalie a possibilidade de utilizar a camada gratuita para projetos menores ou migrar para camadas pagas para volumes maiores.\n",
    "*   **Segurança:** Utilize o Azure Key Vault para armazenar as chaves de API com segurança.\n",
    "*   **Monitoramento:** Implemente o monitoramento para os serviços Azure AI, incluindo alertas para eventos importantes e análise de logs para identificar e solucionar problemas.\n",
    "\n",
    "### Conclusão\n",
    "\n",
    "Este passo a passo detalhado fornece um guia abrangente para o desenvolvimento de um projeto de tradução de artigos técnicos usando a IA do Azure. Ao combinar os serviços Azure OpenAI e Azure Translator, você pode automatizar o processo de tradução, ampliar o alcance do seu conteúdo e melhorar a acessibilidade para um público global.\n",
    "\n",
    "### Próximos passos:\n",
    "* [x] Refatorar os códigos para arquivo.py;\n",
    "* [x] Criar um frontend com streamlit para demonstração do projeto;"
   ]
  },
  {
   "cell_type": "code",
   "execution_count": null,
   "id": "20c49fbf-2fdf-428f-9a18-aff2a11a7fd3",
   "metadata": {},
   "outputs": [],
   "source": []
  }
 ],
 "metadata": {
  "kernelspec": {
   "display_name": "ai102",
   "language": "python",
   "name": "ai-102-py3.12"
  },
  "language_info": {
   "codemirror_mode": {
    "name": "ipython",
    "version": 3
   },
   "file_extension": ".py",
   "mimetype": "text/x-python",
   "name": "python",
   "nbconvert_exporter": "python",
   "pygments_lexer": "ipython3",
   "version": "3.12.1"
  },
  "widgets": {
   "application/vnd.jupyter.widget-state+json": {
    "state": {},
    "version_major": 2,
    "version_minor": 0
   }
  }
 },
 "nbformat": 4,
 "nbformat_minor": 5
}
